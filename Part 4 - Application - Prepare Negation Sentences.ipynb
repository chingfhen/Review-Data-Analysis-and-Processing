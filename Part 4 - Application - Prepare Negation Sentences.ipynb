{
 "cells": [
  {
   "cell_type": "markdown",
   "id": "34f9fb84",
   "metadata": {},
   "source": [
    "# ABOUT:\n",
    "- this notebook prepares raw data for annotation\n",
    "    - each sample of raw data contains one sentence that may or may not contain negation\n",
    "    - e.g Rick is not here. \n",
    "        - contains negation \"not\"\n",
    "- these raw data will be loaded into HayStack Annotation Tool for annotation"
   ]
  },
  {
   "cell_type": "code",
   "execution_count": 1,
   "id": "288953c0",
   "metadata": {},
   "outputs": [],
   "source": [
    "import os\n",
    "import pandas as pd"
   ]
  },
  {
   "cell_type": "markdown",
   "id": "942372ac",
   "metadata": {},
   "source": [
    "### read negation sentences:\n",
    "- these sentences all have negation and are derived from:\n",
    "    - https://www.learngrammar.net/a/examples-of-negation-using-negative-adjectives-adverbs\n"
   ]
  },
  {
   "cell_type": "code",
   "execution_count": 2,
   "id": "ec31b6cc",
   "metadata": {},
   "outputs": [],
   "source": [
    "with open(r\"C:\\Users\\tanch\\Documents\\NTU\\NTU Year 3\\Sem 1\\CZ4045 Natural Language Processing\\Assignment 1\\local\\data\\negation.txt\",encoding = \"utf8\") as f:\n",
    "    lines = f.readlines()"
   ]
  },
  {
   "cell_type": "code",
   "execution_count": 3,
   "id": "b8434a49",
   "metadata": {},
   "outputs": [
    {
     "data": {
      "text/html": [
       "<div>\n",
       "<style scoped>\n",
       "    .dataframe tbody tr th:only-of-type {\n",
       "        vertical-align: middle;\n",
       "    }\n",
       "\n",
       "    .dataframe tbody tr th {\n",
       "        vertical-align: top;\n",
       "    }\n",
       "\n",
       "    .dataframe thead th {\n",
       "        text-align: right;\n",
       "    }\n",
       "</style>\n",
       "<table border=\"1\" class=\"dataframe\">\n",
       "  <thead>\n",
       "    <tr style=\"text-align: right;\">\n",
       "      <th></th>\n",
       "      <th>document_text</th>\n",
       "    </tr>\n",
       "  </thead>\n",
       "  <tbody>\n",
       "    <tr>\n",
       "      <th>0</th>\n",
       "      <td>Rick is not here.\\n</td>\n",
       "    </tr>\n",
       "    <tr>\n",
       "      <th>1</th>\n",
       "      <td>Peter has no books.\\n</td>\n",
       "    </tr>\n",
       "    <tr>\n",
       "      <th>2</th>\n",
       "      <td>Sam has never been there.\\n</td>\n",
       "    </tr>\n",
       "    <tr>\n",
       "      <th>3</th>\n",
       "      <td>John did nothing for this project.\\n</td>\n",
       "    </tr>\n",
       "    <tr>\n",
       "      <th>4</th>\n",
       "      <td>Neither I nor you attended the program.\\n</td>\n",
       "    </tr>\n",
       "    <tr>\n",
       "      <th>5</th>\n",
       "      <td>None of us liked the movie.\\n</td>\n",
       "    </tr>\n",
       "    <tr>\n",
       "      <th>6</th>\n",
       "      <td>Pam has rarely cooked any food.\\n</td>\n",
       "    </tr>\n",
       "    <tr>\n",
       "      <th>7</th>\n",
       "      <td>Richard is buying unnecessary things.\\n</td>\n",
       "    </tr>\n",
       "    <tr>\n",
       "      <th>8</th>\n",
       "      <td>Rock is not sure about it.\\n</td>\n",
       "    </tr>\n",
       "    <tr>\n",
       "      <th>9</th>\n",
       "      <td>Patrick has no knowledge about it.\\n</td>\n",
       "    </tr>\n",
       "  </tbody>\n",
       "</table>\n",
       "</div>"
      ],
      "text/plain": [
       "                               document_text\n",
       "0                        Rick is not here.\\n\n",
       "1                      Peter has no books.\\n\n",
       "2                Sam has never been there.\\n\n",
       "3       John did nothing for this project.\\n\n",
       "4  Neither I nor you attended the program.\\n\n",
       "5              None of us liked the movie.\\n\n",
       "6          Pam has rarely cooked any food.\\n\n",
       "7    Richard is buying unnecessary things.\\n\n",
       "8               Rock is not sure about it.\\n\n",
       "9       Patrick has no knowledge about it.\\n"
      ]
     },
     "execution_count": 3,
     "metadata": {},
     "output_type": "execute_result"
    }
   ],
   "source": [
    "docs = pd.DataFrame({\"document_text\":lines})\n",
    "docs.head(10)"
   ]
  },
  {
   "cell_type": "markdown",
   "id": "40478317",
   "metadata": {},
   "source": [
    "### read review data"
   ]
  },
  {
   "cell_type": "code",
   "execution_count": 4,
   "id": "88539c48",
   "metadata": {},
   "outputs": [],
   "source": [
    "# read data\n",
    "import json\n",
    "data_path = 'C:\\\\Users\\\\tanch\\\\Documents\\\\NTU\\\\NTU Year 3\\\\Sem 1\\\\CZ4045 Natural Language Processing\\\\Assignment 1\\\\local\\\\data\\\\reviewSelected100\\\\reviewSelected100.json'\n",
    "reviews = []\n",
    "with open(data_path,\"r\") as f:\n",
    "    for l in f.readlines():\n",
    "        reviews.append(json.loads(l))"
   ]
  },
  {
   "cell_type": "code",
   "execution_count": 5,
   "id": "b3c794bd",
   "metadata": {},
   "outputs": [
    {
     "data": {
      "text/html": [
       "<div>\n",
       "<style scoped>\n",
       "    .dataframe tbody tr th:only-of-type {\n",
       "        vertical-align: middle;\n",
       "    }\n",
       "\n",
       "    .dataframe tbody tr th {\n",
       "        vertical-align: top;\n",
       "    }\n",
       "\n",
       "    .dataframe thead th {\n",
       "        text-align: right;\n",
       "    }\n",
       "</style>\n",
       "<table border=\"1\" class=\"dataframe\">\n",
       "  <thead>\n",
       "    <tr style=\"text-align: right;\">\n",
       "      <th></th>\n",
       "      <th>review_id</th>\n",
       "      <th>text</th>\n",
       "    </tr>\n",
       "  </thead>\n",
       "  <tbody>\n",
       "    <tr>\n",
       "      <th>0</th>\n",
       "      <td>8aoJJdKEO3ypoZNszpPu7Q</td>\n",
       "      <td>We had my Mother's Birthday Party here on 10/2...</td>\n",
       "    </tr>\n",
       "    <tr>\n",
       "      <th>1</th>\n",
       "      <td>J5NOCLdhuhor7USRhtYZ8w</td>\n",
       "      <td>Good Korean grill near Eaton Centre. The marin...</td>\n",
       "    </tr>\n",
       "    <tr>\n",
       "      <th>2</th>\n",
       "      <td>PXiLWAYRt3xnHaJ8MB4rzw</td>\n",
       "      <td>Was recommended to try this place by few peopl...</td>\n",
       "    </tr>\n",
       "    <tr>\n",
       "      <th>3</th>\n",
       "      <td>VrLarvxZYJm74yAqtpe9PQ</td>\n",
       "      <td>Ambience: Would not expect something this nice...</td>\n",
       "    </tr>\n",
       "    <tr>\n",
       "      <th>4</th>\n",
       "      <td>C1CUpidlVFprUCkApqzCmA</td>\n",
       "      <td>Absolutely the WORST pool company that I have ...</td>\n",
       "    </tr>\n",
       "  </tbody>\n",
       "</table>\n",
       "</div>"
      ],
      "text/plain": [
       "                review_id                                               text\n",
       "0  8aoJJdKEO3ypoZNszpPu7Q  We had my Mother's Birthday Party here on 10/2...\n",
       "1  J5NOCLdhuhor7USRhtYZ8w  Good Korean grill near Eaton Centre. The marin...\n",
       "2  PXiLWAYRt3xnHaJ8MB4rzw  Was recommended to try this place by few peopl...\n",
       "3  VrLarvxZYJm74yAqtpe9PQ  Ambience: Would not expect something this nice...\n",
       "4  C1CUpidlVFprUCkApqzCmA  Absolutely the WORST pool company that I have ..."
      ]
     },
     "execution_count": 5,
     "metadata": {},
     "output_type": "execute_result"
    }
   ],
   "source": [
    "reviews_df = pd.DataFrame(reviews)\n",
    "reviews_df[[\"review_id\",\"text\"]].head()"
   ]
  },
  {
   "cell_type": "markdown",
   "id": "00194e1b",
   "metadata": {},
   "source": [
    "# Text Segmentation:\n",
    "- the reviews are too long; we will convert them to sentences using spacy\n",
    "- we will assume each sentence has 0 or 1 negation only"
   ]
  },
  {
   "cell_type": "code",
   "execution_count": 6,
   "id": "2c3b89a2",
   "metadata": {},
   "outputs": [],
   "source": [
    "# spacy for decomposing to sentences\n",
    "from spacy.lang.en import English\n",
    "nlp = English()\n",
    "nlp.add_pipe(\"sentencizer\")\n",
    "def decompose_to_sentences(text):\n",
    "    return [s.text.strip() for s in nlp(text).sents]"
   ]
  },
  {
   "cell_type": "code",
   "execution_count": 7,
   "id": "3075f580",
   "metadata": {},
   "outputs": [],
   "source": [
    "review_sentences = []\n",
    "n = 100\n",
    "for review in reviews_df.sample(n).text:\n",
    "    review_sentences.extend(decompose_to_sentences(review))"
   ]
  },
  {
   "cell_type": "code",
   "execution_count": 8,
   "id": "72565f04",
   "metadata": {},
   "outputs": [],
   "source": [
    "docs = pd.concat([docs,pd.DataFrame({\"document_text\":review_sentences})]).reset_index(drop=True)"
   ]
  },
  {
   "cell_type": "code",
   "execution_count": 9,
   "id": "1936677b",
   "metadata": {
    "scrolled": true
   },
   "outputs": [
    {
     "data": {
      "text/html": [
       "<div>\n",
       "<style scoped>\n",
       "    .dataframe tbody tr th:only-of-type {\n",
       "        vertical-align: middle;\n",
       "    }\n",
       "\n",
       "    .dataframe tbody tr th {\n",
       "        vertical-align: top;\n",
       "    }\n",
       "\n",
       "    .dataframe thead th {\n",
       "        text-align: right;\n",
       "    }\n",
       "</style>\n",
       "<table border=\"1\" class=\"dataframe\">\n",
       "  <thead>\n",
       "    <tr style=\"text-align: right;\">\n",
       "      <th></th>\n",
       "      <th>document_text</th>\n",
       "    </tr>\n",
       "  </thead>\n",
       "  <tbody>\n",
       "    <tr>\n",
       "      <th>0</th>\n",
       "      <td>Rick is not here.\\n</td>\n",
       "    </tr>\n",
       "    <tr>\n",
       "      <th>1</th>\n",
       "      <td>Peter has no books.\\n</td>\n",
       "    </tr>\n",
       "    <tr>\n",
       "      <th>2</th>\n",
       "      <td>Sam has never been there.\\n</td>\n",
       "    </tr>\n",
       "    <tr>\n",
       "      <th>3</th>\n",
       "      <td>John did nothing for this project.\\n</td>\n",
       "    </tr>\n",
       "    <tr>\n",
       "      <th>4</th>\n",
       "      <td>Neither I nor you attended the program.\\n</td>\n",
       "    </tr>\n",
       "    <tr>\n",
       "      <th>5</th>\n",
       "      <td>None of us liked the movie.\\n</td>\n",
       "    </tr>\n",
       "    <tr>\n",
       "      <th>6</th>\n",
       "      <td>Pam has rarely cooked any food.\\n</td>\n",
       "    </tr>\n",
       "    <tr>\n",
       "      <th>7</th>\n",
       "      <td>Richard is buying unnecessary things.\\n</td>\n",
       "    </tr>\n",
       "    <tr>\n",
       "      <th>8</th>\n",
       "      <td>Rock is not sure about it.\\n</td>\n",
       "    </tr>\n",
       "    <tr>\n",
       "      <th>9</th>\n",
       "      <td>Patrick has no knowledge about it.\\n</td>\n",
       "    </tr>\n",
       "    <tr>\n",
       "      <th>10</th>\n",
       "      <td>I have nothing to say.\\n</td>\n",
       "    </tr>\n",
       "    <tr>\n",
       "      <th>11</th>\n",
       "      <td>Why are you so careless?\\n</td>\n",
       "    </tr>\n",
       "    <tr>\n",
       "      <th>12</th>\n",
       "      <td>Nobody was in the classroom.\\n</td>\n",
       "    </tr>\n",
       "    <tr>\n",
       "      <th>13</th>\n",
       "      <td>Alice rarely sings a song.\\n</td>\n",
       "    </tr>\n",
       "    <tr>\n",
       "      <th>14</th>\n",
       "      <td>Bob roughly has any idea about it.\\n</td>\n",
       "    </tr>\n",
       "    <tr>\n",
       "      <th>15</th>\n",
       "      <td>Jim is not\\n</td>\n",
       "    </tr>\n",
       "    <tr>\n",
       "      <th>16</th>\n",
       "      <td>Harry is not\\n</td>\n",
       "    </tr>\n",
       "    <tr>\n",
       "      <th>17</th>\n",
       "      <td>Nobody liked the picture.\\n</td>\n",
       "    </tr>\n",
       "    <tr>\n",
       "      <th>18</th>\n",
       "      <td>Neither Jack nor Robin was in the party.\\n</td>\n",
       "    </tr>\n",
       "    <tr>\n",
       "      <th>19</th>\n",
       "      <td>Robin has no relatives here.\\n</td>\n",
       "    </tr>\n",
       "  </tbody>\n",
       "</table>\n",
       "</div>"
      ],
      "text/plain": [
       "                                 document_text\n",
       "0                          Rick is not here.\\n\n",
       "1                        Peter has no books.\\n\n",
       "2                  Sam has never been there.\\n\n",
       "3         John did nothing for this project.\\n\n",
       "4    Neither I nor you attended the program.\\n\n",
       "5                None of us liked the movie.\\n\n",
       "6            Pam has rarely cooked any food.\\n\n",
       "7      Richard is buying unnecessary things.\\n\n",
       "8                 Rock is not sure about it.\\n\n",
       "9         Patrick has no knowledge about it.\\n\n",
       "10                    I have nothing to say.\\n\n",
       "11                  Why are you so careless?\\n\n",
       "12              Nobody was in the classroom.\\n\n",
       "13                Alice rarely sings a song.\\n\n",
       "14        Bob roughly has any idea about it.\\n\n",
       "15                                Jim is not\\n\n",
       "16                              Harry is not\\n\n",
       "17                 Nobody liked the picture.\\n\n",
       "18  Neither Jack nor Robin was in the party.\\n\n",
       "19              Robin has no relatives here.\\n"
      ]
     },
     "execution_count": 9,
     "metadata": {},
     "output_type": "execute_result"
    }
   ],
   "source": [
    "docs.head(20)"
   ]
  },
  {
   "cell_type": "code",
   "execution_count": 12,
   "id": "7510dc3b",
   "metadata": {},
   "outputs": [],
   "source": [
    "docs.to_csv(r\"C:\\Users\\tanch\\Documents\\NTU\\NTU Year 3\\Sem 1\\CZ4045 Natural Language Processing\\Assignment 1\\local\\data\\docs.csv\",index_label = \"document_identifier\")"
   ]
  }
 ],
 "metadata": {
  "kernelspec": {
   "display_name": "Python 3",
   "language": "python",
   "name": "python3"
  },
  "language_info": {
   "codemirror_mode": {
    "name": "ipython",
    "version": 3
   },
   "file_extension": ".py",
   "mimetype": "text/x-python",
   "name": "python",
   "nbconvert_exporter": "python",
   "pygments_lexer": "ipython3",
   "version": "3.8.8"
  }
 },
 "nbformat": 4,
 "nbformat_minor": 5
}
