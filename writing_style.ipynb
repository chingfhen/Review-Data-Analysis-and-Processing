{
  "nbformat": 4,
  "nbformat_minor": 0,
  "metadata": {
    "orig_nbformat": 4,
    "language_info": {
      "name": "python",
      "version": "3.6.13",
      "mimetype": "text/x-python",
      "codemirror_mode": {
        "name": "ipython",
        "version": 3
      },
      "pygments_lexer": "ipython3",
      "nbconvert_exporter": "python",
      "file_extension": ".py"
    },
    "kernelspec": {
      "name": "python3",
      "display_name": "Python 3.6.13 64-bit ('NLP': conda)"
    },
    "interpreter": {
      "hash": "b079d5311889622f44e4c2f41b5f627b01682cb0af4a910fcfdea8749fa0b089"
    },
    "colab": {
      "name": "writing_style.ipynb",
      "provenance": [],
      "collapsed_sections": []
    }
  },
  "cells": [
    {
      "cell_type": "markdown",
      "metadata": {
        "id": "-38VmXYBBGHZ"
      },
      "source": [
        "# Writing Style\n",
        "\n",
        "## 2021-09-18\n"
      ]
    },
    {
      "cell_type": "markdown",
      "metadata": {
        "id": "30f3dS70BGHc"
      },
      "source": [
        "+ two posts from StackOverflow\n",
        "+ two posts from Hardwarezone\n",
        "+ two news articles from ChannelNewsAsia."
      ]
    },
    {
      "cell_type": "code",
      "metadata": {
        "id": "9Hku6EhlBGHd"
      },
      "source": [
        "import random\n",
        "import requests\n",
        "from bs4 import BeautifulSoup\n",
        "import re\n",
        "from tqdm import trange"
      ],
      "execution_count": 14,
      "outputs": []
    },
    {
      "cell_type": "code",
      "metadata": {
        "id": "N6_qUzoMBGHe"
      },
      "source": [
        "SEED = 1\n",
        "random.seed(SEED)"
      ],
      "execution_count": 15,
      "outputs": []
    },
    {
      "cell_type": "code",
      "metadata": {
        "id": "pkximX_pBGHf"
      },
      "source": [
        "def clean_text(uncleaned:str) -> str:\n",
        "    x = uncleaned.replace(u\"\\\\\", u\"\")\n",
        "    x = x.replace(u\"\\n\", u\"\")\n",
        "    x = x.replace(u\"\\xa0\", u\"\")\n",
        "    return x.strip()"
      ],
      "execution_count": 16,
      "outputs": []
    },
    {
      "cell_type": "code",
      "metadata": {
        "id": "f-Pa1uu_BGHf"
      },
      "source": [
        "headers = {\n",
        "\t\"User_Agent\" : \"Mozilla/5.0 (Windows NT 6.1; WOW64) AppleWebKit/537.1 (KHTML, like Gecko) Chrome/22.0.1207.1 Safari/537.1\",\n",
        "\t\"Referer\" : \"http://www.xicidaili.com/nn/1\"\n",
        "}\n",
        "\n",
        "proxies = {\n",
        "\t\"http\" : \"http://217.219.179.25\"\n",
        "}"
      ],
      "execution_count": 17,
      "outputs": []
    },
    {
      "cell_type": "code",
      "metadata": {
        "id": "c5ndtd-XBGHg"
      },
      "source": [
        "def get_sample_from_sof():\n",
        "    URL_SOF = 'https://stackoverflow.com'\n",
        "    links = []\n",
        "    # top 800 rating post\n",
        "    for i in trange(80):\n",
        "        content = requests.get(URL_SOF + \"/questions\", params={\"tab\":\"votes\", \"page\":i+1}).content\n",
        "        soup = BeautifulSoup(content, 'html.parser')\n",
        "        for i in soup.find_all('a', href=re.compile(\"^/questions/[0-9]\")):\n",
        "            links.append(i.get('href'))\n",
        "    choosen_2 = random.choices(links, k=2)\n",
        "    # get post\n",
        "    ans = {}\n",
        "    for link in choosen_2:\n",
        "        content = requests.get(URL_SOF + link).content\n",
        "        soup = BeautifulSoup(content, 'html.parser')\n",
        "        # remove code sections in the snippet-code only, not in text part \n",
        "        for s in soup.find_all(class_ = \"snippet-code\"):\n",
        "            s.extract()\n",
        "        text = \"\"\n",
        "        for i in soup.find_all('div', class_ = 'answer'):\n",
        "            text += i.get_text()\n",
        "        text = clean_text(text)\n",
        "        ans[link] = text\n",
        "  \n",
        "    return ans"
      ],
      "execution_count": 18,
      "outputs": []
    },
    {
      "cell_type": "code",
      "metadata": {
        "colab": {
          "base_uri": "https://localhost:8080/"
        },
        "id": "oQpX0VzyBGHh",
        "outputId": "7e4334ce-bd98-4c86-c543-22481b24477d"
      },
      "source": [
        "# get 2 random samples from stackoverflow out of the \n",
        "sof_samples = get_sample_from_sof()\n",
        "sof_samples"
      ],
      "execution_count": 19,
      "outputs": [
        {
          "output_type": "stream",
          "name": "stderr",
          "text": [
            "100%|██████████| 80/80 [01:58<00:00,  1.49s/it]\n"
          ]
        },
        {
          "output_type": "execute_result",
          "data": {
            "text/plain": [
              "{'/questions/1359018/how-do-i-attach-events-to-dynamic-html-elements-with-jquery': '1004\\r        I am adding a new answer to reflect changes in later jQuery releases. The .live() method is deprecated as of jQuery 1.7. From http://api.jquery.com/live/As of jQuery 1.7, the .live() method is deprecated. Use .on() to attach event handlers. Users of older versions of jQuery should use .delegate() in preference to .live(). For jQuery 1.7+ you can attach an event handler to a parent element using .on(), and pass the a selector combined with \\'myclass\\' as an argument.See http://api.jquery.com/on/So instead of...$(\".myclass\").click( function() {    // do something});You can write...$(\\'body\\').on(\\'click\\', \\'a.myclass\\', function() {    // do something});This will work for all a tags with \\'myclass\\' in the body, whether already present or dynamically added later.The body tag is used here as the example had no closer static surrounding tag, but any parent tag that exists when the .on method call occurs will work. For instance a ul tag for a list which will have dynamic elements added would look like this:$(\\'ul\\').on(\\'click\\', \\'li\\', function() {    alert( $(this).text() );});As long as the ul tag exists this will work (no li elements need exist yet).ShareImprove this answer\\r                Follow\\r            edited Jul 8 \\'14 at 12:36Chuck Le Butt44.3k5858 gold badges181181 silver badges275275 bronze badges\\r        answered Feb 17 \\'12 at 15:37SeanSean14.4k44 gold badges3535 silver badges3535 bronze badges9This otherwise brilliant solution seems to have a problem with HTML content living in a Fancybox. I\\'ve reverted to creating the handlers for that manually. I didn\\'t try iFrame Content yet, so the content of the fanyxbos is part of the body or in my case of the document variable.\\r–user673046Aug 11 \\'13 at 19:496live() is deprecated and .on() came. But it is not clear that when I write $(\\'selector\\').on(\\'event\\', callback(){}) then it wont work. Need to write desired selector inside on(). $(document).on(\\'event\\', \\'selector\\', callback(){}) or, $(\\'body\\').on(\\'event\\', \\'selector\\', callback(){})\\r–Satya PrakashDec 21 \\'13 at 14:363what about performance? is it the same as attaching events directly?\\r–JuanApr 29 \\'14 at 19:38Not work when <a> element have href address that set to http://????\\r–MostafaJul 4 \\'16 at 15:50$(\\'body\\').on(\\'each\\', \\'myclass\\', function() {     // do something }); @Sean I tried to make something on \"each\" of a \"class\", but it doesn\\'t work. What is wrong?\\r–horseSep 3 \\'16 at 6:49|Show 4 more comments\\r            100\\r        Sometimes doing this (the top-voted answer) is not always enough:$(\\'body\\').on(\\'click\\', \\'a.myclass\\', function() {    // do something});This can be an issue because of the order event handlers are fired. If you find yourself doing this, but it is causing issues because of the order in which it is handled.. You can always wrap that into a function, that when called \"refreshes\" the listener.For example:function RefreshSomeEventListener() {    // Remove handler from existing elements    $(\"#wrapper .specific-selector\").off();     // Re-add event handler for all matching elements    $(\"#wrapper .specific-selector\").on(\"click\", function() {        // Handle event.    }}Because it is a function, whenever I set up my listener this way, I typically call it on document ready:$(document).ready(function() {    // Other ready commands / code    // Call our function to setup initial listening    RefreshSomeEventListener();});Then, whenever you add some dynamically added element, call that method again:function SomeMethodThatAddsElement() {    // Some code / AJAX / whatever.. Adding element dynamically    // Refresh our listener, so the new element is taken into account    RefreshSomeEventListener();}Hopefully this helps!Regards,ShareImprove this answer\\r                Follow\\r            edited May 18 \\'15 at 13:29\\r        answered Jul 15 \\'14 at 20:28Chandler ZwolleChandler Zwolle1,41711 gold badge1010 silver badges77 bronze badges3Thanks! Couldn\\'t get it to work with other answers, your solution worked like a charm, however if I call RefreshSomeEventListener() after adding dynamic element, my event is triggered twice\\r–DKMudrechenkoMar 23 \\'15 at 0:041@DKMudrechenko Likely this is because you\\'re not fully removing the event listeners from it.\\r–Ryan StefferApr 12 \\'17 at 17:30This works, and good explanation, too.\\r–John RuizFeb 26 at 17:54Add a comment|\\r            36\\r        After jQuery 1.7 the preferred methods are .on() and .off() Sean\\'s answer shows an example.Now Deprecated:Use the jQuery functions .live() and .die().  Available in  jQuery 1.3.xFrom the docs:To display each paragraph\\'s text in an    alert box whenever it is clicked:$(\"p\").live(\"click\", function(){  alert( $(this).text() );});Also, the livequery plugin does this and has support for more events.ShareImprove this answer\\r                Follow\\r            edited May 23 \\'17 at 12:34Community♦111 silver badge\\r        answered Aug 31 \\'09 at 19:30Matt BrunellMatt Brunell9,83622 gold badges3131 silver badges4545 bronze badges3What if my selector needs to be the parent of some other element? For example: $(\"p\").parent(\".myclass\").live(\"click\", ... This doesn\\'t seem to work with live().\\r–frankadelicAug 31 \\'09 at 21:58You could try to incorporate that into a single query like $(\"p:has(.myclass)\").live(\"click\",...).  Note: there are some cases where live doesn\\'t work for all events.  Check out livequery plugin for support not offered by live.\\r–Matt BrunellSep 1 \\'09 at 1:411This is no longer the correct Answer. The .live() method is deprecated as of jQuery 1.7.  Use .on() instead.  Lets get the correct answer[stackoverflow.com/a/9331127/363701] some upvotes.  Or @Matt - do you want to update your answer?\\r–Zach LysobeyFeb 17 \\'12 at 15:47Add a comment|\\r            6\\r        If you\\'re adding a pile of anchors to the DOM, look into event delegation instead. Here\\'s a simple example:$(\\'#somecontainer\\').click(function(e) {     var $target = $(e.target);     if ($target.hasClass(\"myclass\")) {    // do something  }});ShareImprove this answer\\r                Follow\\r            edited Jan 19 \\'13 at 18:05\\r        answered Aug 31 \\'09 at 19:39ScottEScottE21.1k1818 gold badges9191 silver badges129129 bronze badgesAdd a comment|\\r            5\\r        You can bind a single click event to a page for all elements, no matter if they are already on that page or if they will arrive at some future time, like that:$(document).bind(\\'click\\', function (e) {   var target = $(e.target);   if (target.is(\\'.myclass\\')) {      e.preventDefault(); // if you want to cancel the event flow      // do something   } else if (target.is(\\'.myotherclass\\')) {      e.preventDefault();      // do something else   }});Been using it for a while. Works like a charm.In jQuery 1.7 and later, it is recommended to use .on() in place of bind or any other event delegation method, but .bind() still works.ShareImprove this answer\\r                Follow\\r            edited Apr 29 \\'13 at 15:15\\r        answered Mar 29 \\'13 at 3:09i--i--4,23122 gold badges2525 silver badges3535 bronze badgesAdd a comment|\\r            3\\r        Binds a handler to an event (like click) for all current - and future - matched element. Can also bind custom events.link text$(function(){    $(\".myclass\").live(\"click\", function() {        // do something    });});ShareImprove this answer\\r                Follow\\r            \\r        answered Aug 31 \\'09 at 19:32andres descalzoandres descalzo14.5k1212 gold badges6262 silver badges105105 bronze badges111live is deprecated.\\r–Francisco Corrales MoralesMay 12 \\'14 at 22:41Add a comment|\\r            2\\r        If your on jQuery 1.3+ then use .live()Binds a handler to an event (like  click) for all current - and future -  matched element. Can also bind custom  events.ShareImprove this answer\\r                Follow\\r            \\r        answered Aug 31 \\'09 at 19:31redsquareredsquare76.2k1818 gold badges149149 silver badges156156 bronze badgesAdd a comment|\\r            0\\r        You want to use the live() function. See the docs.For example:$(\"#anchor1\").live(\"click\", function() {    $(\"#anchor1\").append(\\'<a class=\"myclass\" href=\"#\">test4</a>\\');});ShareImprove this answer\\r                Follow\\r            \\r        answered Aug 31 \\'09 at 19:31Adam BellaireAdam Bellaire101k1919 gold badges144144 silver badges160160 bronze badges1live is deprecated.\\r–Nardong BagsikJan 13 \\'20 at 7:44Add a comment|',\n",
              " '/questions/406294/left-join-vs-left-outer-join-in-sql-server': '2462\\r        As per the documentation: FROM (Transact-SQL):<join_type> ::=     [ { INNER | { { LEFT | RIGHT | FULL } [ OUTER ] } } [ <join_hint> ] ]    JOINThe keyword OUTER is marked as optional (enclosed in square brackets). In this specific case, whether you specify OUTER or not makes no difference.  Note that while the other elements of the join clause is also marked as optional, leaving them out will make a difference.For instance, the entire type-part of the JOIN clause is optional, in which case the default is INNER if you just specify JOIN. In other words, this is legal:SELECT *FROM A JOIN B ON A.X = B.YHere\\'s a list of equivalent syntaxes:A LEFT JOIN B            A LEFT OUTER JOIN BA RIGHT JOIN B           A RIGHT OUTER JOIN BA FULL JOIN B            A FULL OUTER JOIN BA INNER JOIN B           A JOIN BAlso take a look at the answer I left on this other SO question: SQL left join vs multiple tables on FROM line?.ShareImprove this answer\\r                Follow\\r            edited Jul 24 \\'19 at 8:23WBT1,66533 gold badges2222 silver badges3333 bronze badges\\r        answered Jan 2 \\'09 at 8:51Lasse V. KarlsenLasse V. Karlsen355k9494 gold badges593593 silver badges784784 bronze badges24143Absolutely correct. OUTER is allowed for ANSI-92 compatibility.\\r–Sean ReillyJan 2 \\'09 at 21:3416@LasseV.Karlsen wouldnt it be better to have INNER JOIN on the right and just JOIN on the left in the list of equivalents?\\r–nawfalMay 1 \\'13 at 14:5510@LasseV.Karlsen I just meant that the left side has the concise form and the right side has the expanded form. I thought it would make it coherent if you followed the same for JOINs as well.\\r–nawfalMay 2 \\'13 at 7:4034@Outlier That\\'s your prerogative, but clearly 451 other people thought the answer was good. To be honest, if one answer says X and another answer says X and references the documentation, as well as copy the relevant pieces of the documentation into the answer, my vote goes to the second answer and that is why I write my answers the way I do. That someone claims X is not good. If you can prove X, that\\'s better (not to slight sactiw\\'s answer). But, its your prerogative to think whatever you want to. I question why you think it is pointless though, is the answer wrong in any way?\\r–Lasse V. KarlsenJul 20 \\'14 at 19:219@Outlier And to be honest, if you don\\'t feel like reading my \"long\" answers, then my answer was not for you. It is for everyone else coming here wondering about the same thing and want some background on why that is, and where to find more information, etc. Clearly you are the kind of guy that would want this answer: \"None\", but unfortunately this is not a legal answer here on Stack Overflow, nor should it be.\\r–Lasse V. KarlsenJul 20 \\'14 at 19:25|Show 19 more comments\\r            758\\r        To answer your question there is no difference between LEFT JOIN  and LEFT OUTER JOIN, they are exactly same that said...At the top level there are mainly 3 types of joins:INNEROUTERCROSSINNER JOIN - fetches data if present in both the tables.OUTER JOIN are of 3 types:LEFT OUTER JOIN - fetches data if present in the left table.RIGHT OUTER JOIN - fetches data if present in the right table.FULL OUTER JOIN - fetches data if present in either of the two tables.CROSS JOIN, as the name suggests, does [n X m] that joins everything to everything.Similar to scenario where we simply lists the tables for joining (in the FROM clause of the SELECT statement), using commas to separate them.Points to be noted:If you just mention JOIN then by default it is a INNER JOIN.An OUTER join has to be LEFT | RIGHT | FULL you can not simply say OUTER JOIN.You can drop OUTER keyword and just say LEFT JOIN or RIGHT JOIN or FULL JOIN.For those who want to visualise these in a better way, please go to this link:A Visual Explanation of SQL JoinsShareImprove this answer\\r                Follow\\r            edited May 14 \\'14 at 9:38SriniV10.4k1414 gold badges5454 silver badges8484 bronze badges\\r        answered Dec 9 \\'10 at 18:05sactiwsactiw20.3k44 gold badges3737 silver badges2828 bronze badges519Very good answer. It will be clearer if you say   \"LEFT OUTER JOIN - fetches all data from the left table with matching data from right, if preset.\" for 2.1   (and similar change for 2.2)\\r–sshDec 27 \\'12 at 19:271Also you can do cross join by simply \\'select * from TableA,TableB\\'\\r–om471987Feb 10 \\'13 at 18:223Sorry if I\\'m necrobumping, but is CROSS JOIN the same as FULL JOIN?\\r–TechnicalTophatJul 13 \\'16 at 13:1110@RhysO no, CROSS JOIN is a Cartesian product i.e. CROSS JOIN of a table, having n rows, with a table, having m rows, will always give (n*m) rows while FULL OUTER JOIN of a table, having n rows, with a table, having m rows, will give at max (n+m) rows\\r–sactiwJul 13 \\'16 at 15:341@sactiw consider to add a special note in your valuable answer about the difference between Cross Join and Full Outer Join ... in some way seems similar.\\r–Manuel JordanOct 12 \\'19 at 14:51Add a comment|\\r            395\\r        What is the difference between left join and left outer join?Nothing. LEFT JOIN and LEFT OUTER JOIN are equivalent.ShareImprove this answer\\r                Follow\\r            edited Aug 22 \\'14 at 0:03\\r        answered Jan 2 \\'09 at 8:31Mitch WheatMitch Wheat283k4141 gold badges448448 silver badges529529 bronze badges77This is the case in Microsoft SQL Server, and any other SQL-compliant RDBMS.\\r–Bill KarwinJan 2 \\'09 at 8:418It would be nice if you added a reference or explanation about why the OUTER is optional.\\r–Zero3Apr 12 \\'16 at 12:503it\\'s optional because it\\'s unnecessary!\\r–Mitch WheatApr 13 \\'16 at 0:448Most concise, accurate answer here.\\r–ManachiSep 26 \\'17 at 1:156Thank you. The accepted answer had way too much information that left me more confused. This is exactly what I needed to know and answers the original question straight to the point.\\r–Bacon BradAug 9 \\'18 at 20:36|Show 2 more comments\\r            71\\r        I\\'m a PostgreSQL DBA, as far as I could understand the difference between outer or not outer joins difference is a topic that has considerable discussion all around the internet. Until today I never saw a difference between those two; So I went further and I try to find the difference between those. At the end I read the whole documentation about it and I found the answer for this, So if you look on documentation (at least in PostgreSQL) you can find this phrase:\"The words INNER and OUTER are optional in all forms. INNER is the default; LEFT, RIGHT, and FULL imply an outer join.\" In another words, LEFT JOIN and LEFT OUTER JOIN ARE THE SAMERIGHT JOIN and RIGHT OUTER JOIN ARE THE SAMEI hope it can be a contribute for those who are still trying to find the answer.ShareImprove this answer\\r                Follow\\r            edited May 23 \\'15 at 3:42shA.t15.4k55 gold badges4747 silver badges9696 bronze badges\\r        answered Aug 30 \\'10 at 2:33andrefspandrefsp72755 silver badges22 bronze badgesAdd a comment|\\r            69\\r        Left Join and Left Outer Join are one and the same.  The former is the shorthand for the latter.  The same can be said about the Right Join and Right Outer Join relationship.  The demonstration will illustrate the equality.  Working examples of each query have been provided via SQL Fiddle.  This tool will allow for hands on manipulation of the query.GivenLeft Join and Left Outer JoinResultsRight Join and Right Outer JoinResultsShareImprove this answer\\r                Follow\\r            edited Dec 14 \\'17 at 23:06xdhmoore6,74188 gold badges3939 silver badges7373 bronze badges\\r        answered May 22 \\'15 at 17:09WorkSmarterWorkSmarter3,40822 gold badges2424 silver badges3232 bronze badges0Add a comment|\\r            47\\r        I find it easier to think of Joins in the following order:CROSS JOIN - a Cartesian product of both tables.  ALL joins begin hereINNER JOIN - a CROSS JOIN with a filter added. OUTER JOIN - an INNER JOIN with missing elements (from either LEFT or RIGHT table)added afterward.Until I figured out this (relatively) simple model, JOINS were always a bit more of a black art.  Now they make perfect sense.Hope this helps more than it confuses.ShareImprove this answer\\r                Follow\\r            \\r        answered Dec 29 \\'11 at 21:01frozenjimfrozenjim62855 silver badges1111 bronze badges1This does not answer the question.\\r–philipxyJun 17 \\'19 at 3:38Add a comment|\\r            36\\r        Why are LEFT/RIGHT and LEFT OUTER/RIGHT OUTER the same? Let\\'s explain why this vocabulary.Understand that LEFT and RIGHT joins are specific cases of the OUTER join, and therefore couldn\\'t be anything else than OUTER LEFT/OUTER RIGHT. The OUTER join is also called FULL OUTER as opposed to LEFT and RIGHT joins that are PARTIAL results of the OUTER join. Indeed:Table A | Table B     Table A | Table B      Table A | Table B      Table A | Table B   1    |   5            1    |   1             1    |   1             1    |   1   2    |   1            2    |   2             2    |   2             2    |   2   3    |   6            3    |  null           3    |  null           -    |   -   4    |   2            4    |  null           4    |  null           -    |   -                        null  |   5             -    |   -            null  |   5                        null  |   6             -    |   -            null  |   6                      OUTER JOIN (FULL)     LEFT OUTER (partial)   RIGHT OUTER (partial)It is now clear why those operations have aliases, as well as it is clear only 3 cases exist: INNER, OUTER, CROSS. With two sub-cases for the OUTER.The vocabulary, the way teachers explain this, as well as some answers above, often make it looks like there are lots of different types of join. But it\\'s actually very simple.ShareImprove this answer\\r                Follow\\r            edited Apr 17 \\'14 at 21:15\\r        answered Apr 17 \\'14 at 21:08Yugo AmarylYugo Amaryl1,17922 gold badges1111 silver badges1818 bronze badges11\"it is clear only 3 cases exist\": interesting but flawed. Consider that an inner join is a specialised cross join (i.e. move join predicates to the where clause). Further consider that outer join isn\\'t a join at all, rather is a union where are used nulls in place of \\'missing\\' columns. Therefore, it could be argued that cross is the only join required. Note the current thinking in relational theory is that natural join satisfies all join requirements. Aside: can you explain if/how the vocabulary \"JOIN implies INNER JOIN\" fits with your reasoning for outer join vocab?\\r–onedaywhenJul 6 \\'16 at 10:39Add a comment|\\r            34\\r        To answer your questionIn Sql Server joins syntax OUTER is optionalIt is mentioned in msdn article : https://msdn.microsoft.com/en-us/library/ms177634(v=sql.130).aspxSo following list shows join equivalent syntaxes with and without OUTERLEFT OUTER JOIN => LEFT JOINRIGHT OUTER JOIN => RIGHT JOINFULL OUTER JOIN => FULL JOINOther equivalent syntaxesINNER JOIN => JOINCROSS JOIN => ,Strongly Recommend Dotnet Mob Artice : Joins in Sql ServerShareImprove this answer\\r                Follow\\r            edited Jan 17 \\'19 at 9:16MD. Khairul Basar4,3971111 gold badges4040 silver badges5252 bronze badges\\r        answered Jun 25 \\'16 at 4:05massmass47244 silver badges77 bronze badges13Re abuse of Venn diagrams here see my comment on the question.\\r–philipxyApr 29 \\'19 at 1:52Add a comment|\\r            22\\r        There are only 3 joins:A) Cross Join  = Cartesian         (E.g: Table A, Table B)  B) Inner Join    = JOIN            (E.g: Table A Join/Inner Join TableB)C) Outer join:   There are three type of outer join   1)  Left Outer Join     = Left Join   2)  Right Outer Join    = Right Join   3)  Full Outer Join     = Full Join    Hope it\\'d help.ShareImprove this answer\\r                Follow\\r            \\r        answered Mar 17 \\'17 at 9:56DelickateDelickate88811 gold badge99 silver badges1616 bronze badges12So 5 joins altogether.\\r–Zeek2Jul 20 \\'18 at 10:44Add a comment|\\r            19\\r        There are mainly three types of JOINInner: fetches data, that are present in both tablesOnly JOIN means INNER JOINOuter: are of three typesLEFT OUTER - - fetches data present only in left table & matching conditionRIGHT OUTER - - fetches data present only in right table & matching conditionFULL OUTER - - fetches data present any or both table(LEFT or RIGHT or FULL) OUTER JOIN can be written w/o writing \"OUTER\"Cross Join: joins everything to everythingShareImprove this answer\\r                Follow\\r            edited Jan 18 \\'12 at 12:59sjngm11.6k1313 gold badges7272 silver badges105105 bronze badges\\r        answered Jan 18 \\'12 at 12:29HarshHarsh20722 silver badges33 bronze badgesAdd a comment|\\r            17\\r        Syntactic sugar, makes it more obvious to the casual reader that the join isn\\'t an inner one. ShareImprove this answer\\r                Follow\\r            edited Aug 10 \\'12 at 20:28Uncle Iroh5,11155 gold badges4444 silver badges5656 bronze badges\\r        answered Jan 2 \\'09 at 8:54UnslicedUnsliced9,97588 gold badges4848 silver badges8181 bronze badges22So... what\\'s a FULL OUTER JOIN then?\\r–Amy BJan 2 \\'09 at 20:296tableA FULL OUTER JOIN tableB will give you three types of records: all records in tableA with no matching record in tableB, all records in tableB with no matching record in tableA, and all records in tableA with a matching record in tableB.\\r–Dave DuPlantisOct 5 \\'09 at 18:16Add a comment|\\r            8\\r        Just in the context of this question, I want to post the 2 \\'APPLY\\' operators as well:JOINS:INNER JOIN   = JOINOUTER JOINLEFT OUTER JOIN = LEFT JOINRIGHT OUTER JOIN = RIGHT JOINFULL OUTER JOIN = FULL JOINCROSS JOINSELF-JOIN: This is not exactly a separate type of join. This is basically joining a table to itself using one of the above joins. But I felt it is worth mentioning in the context JOIN discussions as you will hear this term from many in the SQL Developer community.   APPLY:CROSS APPLY  -- Similar to INNER JOIN (But has added advantage of being able to compute something in the Right table for each row of the Left table and would return only the matching rows)OUTER APPLY  -- Similar to LEFT OUTER JOIN (But has added advantage of being able to compute something in the Right table for each row of the Left table and would return all the rows from the Left table irrespective of a match on the Right table)https://www.mssqltips.com/sqlservertip/1958/sql-server-cross-apply-and-outer-apply/https://sqlhints.com/2016/10/23/outer-apply-in-sql-server/Real life example, when to use OUTER / CROSS APPLY in SQLI find APPLY operator very beneficial as they give better performance than having to do the same computation in a subquery. They are also replacement of many Analytical functions in older versions of SQL Server. That is why I believe that after being comfortable with JOINS, one SQL developer should try to learn the APPLY operators next.ShareImprove this answer\\r                Follow\\r            \\r        answered Jun 17 \\'19 at 2:23sansan1,21766 silver badges1010 bronze badgesAdd a comment|'}"
            ]
          },
          "metadata": {},
          "execution_count": 19
        }
      ]
    },
    {
      "cell_type": "code",
      "metadata": {
        "id": "AyQ4O9oXBGHj"
      },
      "source": [
        "# function to get 2 random posts from hardwarezone\n",
        "def get_sample_from_hwz():\n",
        "    URL_HWZ = 'https://www.hardwarezone.com.sg'\n",
        "    links = []\n",
        "    # top 800 rating post\n",
        "    for i in trange(80):\n",
        "        content = requests.get(URL_HWZ + \"/tech-news/list/\", params={\"page\":i+1}).content\n",
        "        soup = BeautifulSoup(content, 'html.parser')\n",
        "        for j in soup.find_all(class_=\"article-title\"):\n",
        "            links.append((j.find('a').get(\"href\")))\n",
        "    choosen_2 = random.choices(links, k=2)\n",
        "    # get article\n",
        "    ans = {}\n",
        "    for link in choosen_2:\n",
        "        content = requests.get(URL_HWZ + link).content\n",
        "        soup = BeautifulSoup(content, 'html.parser')\n",
        "        temp = soup.find(id='content-section')\n",
        "        text = ''\n",
        "        for i in temp.find_all('p'):\n",
        "            text += i.get_text()\n",
        "        text = clean_text(text)\n",
        "        ans[link] = text\n",
        "        \n",
        "    return ans"
      ],
      "execution_count": 20,
      "outputs": []
    },
    {
      "cell_type": "code",
      "metadata": {
        "id": "-FMvS7PlBGHk"
      },
      "source": [
        "def get_sample_from_CNA():\n",
        "    URL_CNA = \"https://www.channelnewsasia.com\"\n",
        "    links = []\n",
        "    # 100 lastest news\n",
        "    for i in trange(10):\n",
        "      content = requests.get(URL_CNA + \"/latest-news\").content\n",
        "      soup = BeautifulSoup(content, 'html.parser')\n",
        "    #print(soup)\n",
        "      print(soup)\n",
        "      #print(soup.find_all(class_ = 'quick-link quick-link--list-object'))\n",
        "      for j in soup.find_all('div',class_= 'quick-link quick-link--list-object'):\n",
        "          links.append(j.get(\"data-link_absolute\"))\n",
        "    print(links)\n",
        "    choosen_2 = random.choices(links, k=2)\n",
        "    ans = {}\n",
        "    \n",
        "    for link in choosen_2:\n",
        "        content = requests.get(URL_CNA + link, headers=headers).content\n",
        "        soup = BeautifulSoup(content, 'html.parser')\n",
        "        temp = soup.find_all(class_='text-long')\n",
        "        text = ''\n",
        "        for i in temp:\n",
        "            text += i.get_text()\n",
        "        text = clean_text(text)\n",
        "        ans[URL_CNA + link] = text\n",
        "    \n",
        "    return ans"
      ],
      "execution_count": 26,
      "outputs": []
    },
    {
      "cell_type": "code",
      "metadata": {
        "colab": {
          "base_uri": "https://localhost:8080/"
        },
        "id": "z9vyh8sqBGHl",
        "outputId": "067a3735-ebfa-4642-ae3f-757c27453158"
      },
      "source": [
        "# get 2 random samples from hardwarezone out of the \n",
        "hwz_samples = get_sample_from_hwz()\n",
        "hwz_samples"
      ],
      "execution_count": 22,
      "outputs": [
        {
          "output_type": "stream",
          "name": "stderr",
          "text": [
            "100%|██████████| 80/80 [01:32<00:00,  1.15s/it]\n"
          ]
        },
        {
          "output_type": "execute_result",
          "data": {
            "text/plain": [
              "{'/tech-news-apple-iphone13-iphone13mini-singapore-specs-price': 'Note: This article was first published on 15 September 2021.So Apple has decided to stick to tradition and call their latest iPhones the iPhone 13.The iPhone 13 and 13 Mini have the same design as last year’s iPhones. The enclosures are made of 100% recycled aluminium. Sizes are also unchanged, so the iPhone 13 has a 6.1-inch display while the iPhone 13 Mini gets a 5.4-inch display.The display is Apple’s Super Retina XDR display so they use OLED panels. Apple says they are 28% brighter than last year’s display. They are protected by Ceramic Shield. Eagle-eyed readers might also notice that the notch is smaller. That’s thanks to a smaller TrueDepth camera system which has allowed Apple to shrink the notch by 20%.The processor is new. Inside is Apple’s new A15 Bionic which is built on a 5nm process and is a 6-core component with two high-performance cores and four high-efficiency cores. It also has a 4-core GPU. Apple claims A15 Bionic’s CPU is 50% faster than the leading competition, while its GPU is 30% faster than the leading competition. However, it stopped short at identifying who this “leading competition” is.Despite the more powerful chip, battery life is up thanks to a larger battery and more efficient components. According to Apple, the iPhone 13 should last 2.5 hours than iPhone 12 while the iPhone 13 Mini should last 1.5 hours longer than iPhone 12 Mini.The cameras in the new phones are also substantially improved. The iPhone 13 and 13 Mini still has two cameras but the sensors are new. The main wide camera’s sensor captures 47% more light and features sensor-shift optical image stabilisation technology that debuted in last year’s iPhone 12 Pro Max. The ultra wide camera also has a new faster sensor with a faster lens so it takes better photos in challenging lighting situations. There’s also a new Photographic Styles mode that uses machine learning to apply real-time filters to your photos to create a distinctly personal look.On the video side of things, there’s support for Dolby Vision in 4K at 60fps. And there’s a new Cinematic Mode that lets you create depth effects and focus transitions. You can even do this post-capture.The new iPhones support 5G and Apple says it has increased support for more bands and it will support 200 carriers in over 60 countries by the end of the year.The iPhone 13 and iPhone 13 Mini will be available in five colours: Starlight, Midnight, Blue, Pink, and (PRODUCT)RED. Starting capacity has been doubled to 128GB and there’s a new 512GB option.Pre-orders start on 17 September and the phones will be available in retail on 24 September.Prices are as follows:Read Next (1):iPhone 13 Pro series get 120Hz displays, better CPUs and camerasRead Next (2): Should you get the discounted iPhone 12 instead?Read Next (3):Apple Watch Series 7 gets crack-resistant display and better endurance',\n",
              " '/tech-news-apple-s-102-inch-ipad-gets-processor-bump-and-new-camera': \"Note: This article was first published on 15 September 2021.At the top of the Apple California Streaming event,Tim Cook unveiled an update to one of Apple’s most popular iPads, with the 10.2-inch iPad (9th Gen).The new 10.2-inch iPad has a Retina display with its size and bezels that are the same as its predecessor. Handily this means that the accessories you have for it will still work for the new model.It is however powered by the A13 Bionicprocessor, promising a 20% performance boost over the A12 Bionic in last year's model. And Apple did add the TrueTone feature to this entry-level tablet.True Tone, makes images appear more natural by adjusting screen content to the colour temperature of the room the user is in. This provides users with a more comfortable viewing experience in all lighting environments.A new 12MP Ultra-Wide front camera enables Center Stage for users. As users move around, Center Stage automatically pans the camera to keep them in view. When others join in, the camera detects them too, and smoothly zooms out to include them in the conversation. Center Stage works not just for Facetime but for other video conferencing apps Zoom, Bluejeans, and WebEx.Other announcements from the event included the new iPad mini 6, the iPhone 13 series , and the Apple Watch 7.Apple has doubled the storage on the base model to 64GB with it maxing out at 256GB. Apple's new iPad (9th Gen) starts at S$499 for 64GB Wi-Fi only with the Wi-Fi + Cellular model starting from S$699. They are available for pre-order now online with delivery later this month.w\"}"
            ]
          },
          "metadata": {},
          "execution_count": 22
        }
      ]
    },
    {
      "cell_type": "code",
      "metadata": {
        "colab": {
          "base_uri": "https://localhost:8080/",
          "height": 667
        },
        "id": "YcXcma9UuGbo",
        "outputId": "2081f4bd-f1d9-4cd6-bf4f-5494346cf7f1"
      },
      "source": [
        "# get 2 random samples from cna out of the \n",
        "cna_samples = get_sample_from_CNA()\n",
        "cna_samples"
      ],
      "execution_count": 27,
      "outputs": [
        {
          "output_type": "stream",
          "name": "stderr",
          "text": [
            "\r  0%|          | 0/10 [00:00<?, ?it/s]"
          ]
        },
        {
          "output_type": "stream",
          "name": "stdout",
          "text": [
            "<html style=\"height:100%\"><head><meta content=\"NOINDEX, NOFOLLOW\" name=\"ROBOTS\"/><meta content=\"telephone=no\" name=\"format-detection\"/><meta content=\"initial-scale=1.0\" name=\"viewport\"/><meta content=\"IE=edge,chrome=1\" http-equiv=\"X-UA-Compatible\"/><script src=\"/_Incapsula_Resource?SWJIYLWA=719d34d31c8e3a6e6fffd425f7e032f3\" type=\"text/javascript\"></script></head><body style=\"margin:0px;height:100%\"><iframe frameborder=\"0\" height=\"100%\" id=\"main-iframe\" marginheight=\"0px\" marginwidth=\"0px\" src=\"/_Incapsula_Resource?CWUDNSAI=23&amp;xinfo=14-164106395-0%200NNN%20RT%281632023548038%2015461%29%20q%280%20-1%20-1%20-1%29%20r%281%20-1%29%20B15%2811%2c1659799%2c0%29%20U5&amp;incident_id=1166000430240445110-860503569777691342&amp;edet=15&amp;cinfo=0b000000&amp;rpinfo=0&amp;mth=GET\" width=\"100%\">Request unsuccessful. Incapsula incident ID: 1166000430240445110-860503569777691342</iframe></body></html>\n"
          ]
        },
        {
          "output_type": "stream",
          "name": "stderr",
          "text": [
            " 30%|███       | 3/10 [00:00<00:01,  5.66it/s]"
          ]
        },
        {
          "output_type": "stream",
          "name": "stdout",
          "text": [
            "<html style=\"height:100%\"><head><meta content=\"NOINDEX, NOFOLLOW\" name=\"ROBOTS\"/><meta content=\"telephone=no\" name=\"format-detection\"/><meta content=\"initial-scale=1.0\" name=\"viewport\"/><meta content=\"IE=edge,chrome=1\" http-equiv=\"X-UA-Compatible\"/><script src=\"/_Incapsula_Resource?SWJIYLWA=719d34d31c8e3a6e6fffd425f7e032f3\" type=\"text/javascript\"></script></head><body style=\"margin:0px;height:100%\"><iframe frameborder=\"0\" height=\"100%\" id=\"main-iframe\" marginheight=\"0px\" marginwidth=\"0px\" src=\"/_Incapsula_Resource?CWUDNSAI=23&amp;xinfo=4-50307176-0%200NNN%20RT%281632023563826%2020%29%20q%280%20-1%20-1%20-1%29%20r%280%20-1%29%20B15%2811%2c1659799%2c0%29%20U5&amp;incident_id=1166000430240445110-266427584635341508&amp;edet=15&amp;cinfo=0b000000&amp;rpinfo=0&amp;mth=GET\" width=\"100%\">Request unsuccessful. Incapsula incident ID: 1166000430240445110-266427584635341508</iframe></body></html>\n",
            "<html style=\"height:100%\"><head><meta content=\"NOINDEX, NOFOLLOW\" name=\"ROBOTS\"/><meta content=\"telephone=no\" name=\"format-detection\"/><meta content=\"initial-scale=1.0\" name=\"viewport\"/><meta content=\"IE=edge,chrome=1\" http-equiv=\"X-UA-Compatible\"/><script src=\"/_Incapsula_Resource?SWJIYLWA=719d34d31c8e3a6e6fffd425f7e032f3\" type=\"text/javascript\"></script></head><body style=\"margin:0px;height:100%\"><iframe frameborder=\"0\" height=\"100%\" id=\"main-iframe\" marginheight=\"0px\" marginwidth=\"0px\" src=\"/_Incapsula_Resource?CWUDNSAI=23&amp;xinfo=12-140265630-0%200NNN%20RT%281632023563935%2023%29%20q%280%20-1%20-1%20-1%29%20r%280%20-1%29%20B15%2811%2c1659799%2c0%29%20U5&amp;incident_id=1166000430240445110-741557293783321292&amp;edet=15&amp;cinfo=0b000000&amp;rpinfo=0&amp;mth=GET\" width=\"100%\">Request unsuccessful. Incapsula incident ID: 1166000430240445110-741557293783321292</iframe></body></html>\n"
          ]
        },
        {
          "output_type": "stream",
          "name": "stderr",
          "text": [
            " 50%|█████     | 5/10 [00:00<00:00,  7.26it/s]"
          ]
        },
        {
          "output_type": "stream",
          "name": "stdout",
          "text": [
            "<html style=\"height:100%\"><head><meta content=\"NOINDEX, NOFOLLOW\" name=\"ROBOTS\"/><meta content=\"telephone=no\" name=\"format-detection\"/><meta content=\"initial-scale=1.0\" name=\"viewport\"/><meta content=\"IE=edge,chrome=1\" http-equiv=\"X-UA-Compatible\"/><script src=\"/_Incapsula_Resource?SWJIYLWA=719d34d31c8e3a6e6fffd425f7e032f3\" type=\"text/javascript\"></script></head><body style=\"margin:0px;height:100%\"><iframe frameborder=\"0\" height=\"100%\" id=\"main-iframe\" marginheight=\"0px\" marginwidth=\"0px\" src=\"/_Incapsula_Resource?CWUDNSAI=23&amp;xinfo=14-164108202-0%200NNN%20RT%281632023564054%2022%29%20q%280%20-1%20-1%20-1%29%20r%280%20-1%29%20B15%2811%2c1659799%2c0%29%20U5&amp;incident_id=1166000430240445110-860503891900238542&amp;edet=15&amp;cinfo=0b000000&amp;rpinfo=0&amp;mth=GET\" width=\"100%\">Request unsuccessful. Incapsula incident ID: 1166000430240445110-860503891900238542</iframe></body></html>\n",
            "<html style=\"height:100%\"><head><meta content=\"NOINDEX, NOFOLLOW\" name=\"ROBOTS\"/><meta content=\"telephone=no\" name=\"format-detection\"/><meta content=\"initial-scale=1.0\" name=\"viewport\"/><meta content=\"IE=edge,chrome=1\" http-equiv=\"X-UA-Compatible\"/><script src=\"/_Incapsula_Resource?SWJIYLWA=719d34d31c8e3a6e6fffd425f7e032f3\" type=\"text/javascript\"></script></head><body style=\"margin:0px;height:100%\"><iframe frameborder=\"0\" height=\"100%\" id=\"main-iframe\" marginheight=\"0px\" marginwidth=\"0px\" src=\"/_Incapsula_Resource?CWUDNSAI=23&amp;xinfo=7-70763257-0%200NNN%20RT%281632023564163%2020%29%20q%280%20-1%20-1%20-1%29%20r%280%20-1%29%20B15%2811%2c1659799%2c0%29%20U5&amp;incident_id=1166000430240445110-373537076790823623&amp;edet=15&amp;cinfo=0b000000&amp;rpinfo=0&amp;mth=GET\" width=\"100%\">Request unsuccessful. Incapsula incident ID: 1166000430240445110-373537076790823623</iframe></body></html>\n"
          ]
        },
        {
          "output_type": "stream",
          "name": "stderr",
          "text": [
            " 70%|███████   | 7/10 [00:01<00:00,  8.06it/s]"
          ]
        },
        {
          "output_type": "stream",
          "name": "stdout",
          "text": [
            "<html style=\"height:100%\"><head><meta content=\"NOINDEX, NOFOLLOW\" name=\"ROBOTS\"/><meta content=\"telephone=no\" name=\"format-detection\"/><meta content=\"initial-scale=1.0\" name=\"viewport\"/><meta content=\"IE=edge,chrome=1\" http-equiv=\"X-UA-Compatible\"/><script src=\"/_Incapsula_Resource?SWJIYLWA=719d34d31c8e3a6e6fffd425f7e032f3\" type=\"text/javascript\"></script></head><body style=\"margin:0px;height:100%\"><iframe frameborder=\"0\" height=\"100%\" id=\"main-iframe\" marginheight=\"0px\" marginwidth=\"0px\" src=\"/_Incapsula_Resource?CWUDNSAI=23&amp;xinfo=4-50307180-0%200NNN%20RT%281632023564273%2023%29%20q%280%20-1%20-1%20-1%29%20r%280%20-1%29%20B15%2811%2c1659799%2c0%29%20U5&amp;incident_id=1166000430240445110-266427614700112580&amp;edet=15&amp;cinfo=0b000000&amp;rpinfo=0&amp;mth=GET\" width=\"100%\">Request unsuccessful. Incapsula incident ID: 1166000430240445110-266427614700112580</iframe></body></html>\n",
            "<html style=\"height:100%\"><head><meta content=\"NOINDEX, NOFOLLOW\" name=\"ROBOTS\"/><meta content=\"telephone=no\" name=\"format-detection\"/><meta content=\"initial-scale=1.0\" name=\"viewport\"/><meta content=\"IE=edge,chrome=1\" http-equiv=\"X-UA-Compatible\"/><script src=\"/_Incapsula_Resource?SWJIYLWA=719d34d31c8e3a6e6fffd425f7e032f3\" type=\"text/javascript\"></script></head><body style=\"margin:0px;height:100%\"><iframe frameborder=\"0\" height=\"100%\" id=\"main-iframe\" marginheight=\"0px\" marginwidth=\"0px\" src=\"/_Incapsula_Resource?CWUDNSAI=23&amp;xinfo=13-152523945-0%200NNN%20RT%281632023564385%2023%29%20q%280%20-1%20-1%20-1%29%20r%280%20-1%29%20B15%2811%2c1659799%2c0%29%20U5&amp;incident_id=1166000430240445110-804966361285397197&amp;edet=15&amp;cinfo=0b000000&amp;rpinfo=0&amp;mth=GET\" width=\"100%\">Request unsuccessful. Incapsula incident ID: 1166000430240445110-804966361285397197</iframe></body></html>\n"
          ]
        },
        {
          "output_type": "stream",
          "name": "stderr",
          "text": [
            " 90%|█████████ | 9/10 [00:01<00:00,  7.54it/s]"
          ]
        },
        {
          "output_type": "stream",
          "name": "stdout",
          "text": [
            "<html style=\"height:100%\"><head><meta content=\"NOINDEX, NOFOLLOW\" name=\"ROBOTS\"/><meta content=\"telephone=no\" name=\"format-detection\"/><meta content=\"initial-scale=1.0\" name=\"viewport\"/><meta content=\"IE=edge,chrome=1\" http-equiv=\"X-UA-Compatible\"/><script src=\"/_Incapsula_Resource?SWJIYLWA=719d34d31c8e3a6e6fffd425f7e032f3\" type=\"text/javascript\"></script></head><body style=\"margin:0px;height:100%\"><iframe frameborder=\"0\" height=\"100%\" id=\"main-iframe\" marginheight=\"0px\" marginwidth=\"0px\" src=\"/_Incapsula_Resource?CWUDNSAI=23&amp;xinfo=13-152523952-0%200NNN%20RT%281632023564493%2021%29%20q%280%20-1%20-1%20-1%29%20r%280%20-1%29%20B15%2811%2c1659799%2c0%29%20U5&amp;incident_id=1166000430240445110-804966412825004749&amp;edet=15&amp;cinfo=0b000000&amp;rpinfo=0&amp;mth=GET\" width=\"100%\">Request unsuccessful. Incapsula incident ID: 1166000430240445110-804966412825004749</iframe></body></html>\n",
            "<html style=\"height:100%\"><head><meta content=\"NOINDEX, NOFOLLOW\" name=\"ROBOTS\"/><meta content=\"telephone=no\" name=\"format-detection\"/><meta content=\"initial-scale=1.0\" name=\"viewport\"/><meta content=\"IE=edge,chrome=1\" http-equiv=\"X-UA-Compatible\"/><script src=\"/_Incapsula_Resource?SWJIYLWA=719d34d31c8e3a6e6fffd425f7e032f3\" type=\"text/javascript\"></script></head><body style=\"margin:0px;height:100%\"><iframe frameborder=\"0\" height=\"100%\" id=\"main-iframe\" marginheight=\"0px\" marginwidth=\"0px\" src=\"/_Incapsula_Resource?CWUDNSAI=23&amp;xinfo=10-97773278-0%200NNN%20RT%281632023564656%2021%29%20q%280%20-1%20-1%20-1%29%20r%280%20-1%29%20B15%2811%2c1659799%2c0%29%20U5&amp;incident_id=1166000430240445110-515643684755999434&amp;edet=15&amp;cinfo=0b000000&amp;rpinfo=0&amp;mth=GET\" width=\"100%\">Request unsuccessful. Incapsula incident ID: 1166000430240445110-515643684755999434</iframe></body></html>\n"
          ]
        },
        {
          "output_type": "stream",
          "name": "stderr",
          "text": [
            "100%|██████████| 10/10 [00:01<00:00,  7.20it/s]"
          ]
        },
        {
          "output_type": "stream",
          "name": "stdout",
          "text": [
            "<html style=\"height:100%\"><head><meta content=\"NOINDEX, NOFOLLOW\" name=\"ROBOTS\"/><meta content=\"telephone=no\" name=\"format-detection\"/><meta content=\"initial-scale=1.0\" name=\"viewport\"/><meta content=\"IE=edge,chrome=1\" http-equiv=\"X-UA-Compatible\"/><script src=\"/_Incapsula_Resource?SWJIYLWA=719d34d31c8e3a6e6fffd425f7e032f3\" type=\"text/javascript\"></script></head><body style=\"margin:0px;height:100%\"><iframe frameborder=\"0\" height=\"100%\" id=\"main-iframe\" marginheight=\"0px\" marginwidth=\"0px\" src=\"/_Incapsula_Resource?CWUDNSAI=23&amp;xinfo=12-140265693-0%200NNN%20RT%281632023564770%2021%29%20q%280%20-1%20-1%20-1%29%20r%280%20-1%29%20B15%2811%2c1659799%2c0%29%20U5&amp;incident_id=1166000430240445110-741557645970639564&amp;edet=15&amp;cinfo=0b000000&amp;rpinfo=0&amp;mth=GET\" width=\"100%\">Request unsuccessful. Incapsula incident ID: 1166000430240445110-741557645970639564</iframe></body></html>\n",
            "[]\n"
          ]
        },
        {
          "output_type": "stream",
          "name": "stderr",
          "text": [
            "\n"
          ]
        },
        {
          "output_type": "error",
          "ename": "IndexError",
          "evalue": "ignored",
          "traceback": [
            "\u001b[0;31m---------------------------------------------------------------------------\u001b[0m",
            "\u001b[0;31mIndexError\u001b[0m                                Traceback (most recent call last)",
            "\u001b[0;32m<ipython-input-27-56d96b38d9f2>\u001b[0m in \u001b[0;36m<module>\u001b[0;34m()\u001b[0m\n\u001b[1;32m      1\u001b[0m \u001b[0;31m# get 2 random samples from cna out of the\u001b[0m\u001b[0;34m\u001b[0m\u001b[0;34m\u001b[0m\u001b[0;34m\u001b[0m\u001b[0m\n\u001b[0;32m----> 2\u001b[0;31m \u001b[0mcna_samples\u001b[0m \u001b[0;34m=\u001b[0m \u001b[0mget_sample_from_CNA\u001b[0m\u001b[0;34m(\u001b[0m\u001b[0;34m)\u001b[0m\u001b[0;34m\u001b[0m\u001b[0;34m\u001b[0m\u001b[0m\n\u001b[0m\u001b[1;32m      3\u001b[0m \u001b[0mcna_samples\u001b[0m\u001b[0;34m\u001b[0m\u001b[0;34m\u001b[0m\u001b[0m\n",
            "\u001b[0;32m<ipython-input-26-e10e5d024619>\u001b[0m in \u001b[0;36mget_sample_from_CNA\u001b[0;34m()\u001b[0m\n\u001b[1;32m     12\u001b[0m           \u001b[0mlinks\u001b[0m\u001b[0;34m.\u001b[0m\u001b[0mappend\u001b[0m\u001b[0;34m(\u001b[0m\u001b[0mj\u001b[0m\u001b[0;34m.\u001b[0m\u001b[0mget\u001b[0m\u001b[0;34m(\u001b[0m\u001b[0;34m\"data-link_absolute\"\u001b[0m\u001b[0;34m)\u001b[0m\u001b[0;34m)\u001b[0m\u001b[0;34m\u001b[0m\u001b[0;34m\u001b[0m\u001b[0m\n\u001b[1;32m     13\u001b[0m     \u001b[0mprint\u001b[0m\u001b[0;34m(\u001b[0m\u001b[0mlinks\u001b[0m\u001b[0;34m)\u001b[0m\u001b[0;34m\u001b[0m\u001b[0;34m\u001b[0m\u001b[0m\n\u001b[0;32m---> 14\u001b[0;31m     \u001b[0mchoosen_2\u001b[0m \u001b[0;34m=\u001b[0m \u001b[0mrandom\u001b[0m\u001b[0;34m.\u001b[0m\u001b[0mchoices\u001b[0m\u001b[0;34m(\u001b[0m\u001b[0mlinks\u001b[0m\u001b[0;34m,\u001b[0m \u001b[0mk\u001b[0m\u001b[0;34m=\u001b[0m\u001b[0;36m2\u001b[0m\u001b[0;34m)\u001b[0m\u001b[0;34m\u001b[0m\u001b[0;34m\u001b[0m\u001b[0m\n\u001b[0m\u001b[1;32m     15\u001b[0m     \u001b[0mans\u001b[0m \u001b[0;34m=\u001b[0m \u001b[0;34m{\u001b[0m\u001b[0;34m}\u001b[0m\u001b[0;34m\u001b[0m\u001b[0;34m\u001b[0m\u001b[0m\n\u001b[1;32m     16\u001b[0m \u001b[0;34m\u001b[0m\u001b[0m\n",
            "\u001b[0;32m/usr/lib/python3.7/random.py\u001b[0m in \u001b[0;36mchoices\u001b[0;34m(self, population, weights, cum_weights, k)\u001b[0m\n\u001b[1;32m    354\u001b[0m                 \u001b[0m_int\u001b[0m \u001b[0;34m=\u001b[0m \u001b[0mint\u001b[0m\u001b[0;34m\u001b[0m\u001b[0;34m\u001b[0m\u001b[0m\n\u001b[1;32m    355\u001b[0m                 \u001b[0mtotal\u001b[0m \u001b[0;34m=\u001b[0m \u001b[0mlen\u001b[0m\u001b[0;34m(\u001b[0m\u001b[0mpopulation\u001b[0m\u001b[0;34m)\u001b[0m\u001b[0;34m\u001b[0m\u001b[0;34m\u001b[0m\u001b[0m\n\u001b[0;32m--> 356\u001b[0;31m                 \u001b[0;32mreturn\u001b[0m \u001b[0;34m[\u001b[0m\u001b[0mpopulation\u001b[0m\u001b[0;34m[\u001b[0m\u001b[0m_int\u001b[0m\u001b[0;34m(\u001b[0m\u001b[0mrandom\u001b[0m\u001b[0;34m(\u001b[0m\u001b[0;34m)\u001b[0m \u001b[0;34m*\u001b[0m \u001b[0mtotal\u001b[0m\u001b[0;34m)\u001b[0m\u001b[0;34m]\u001b[0m \u001b[0;32mfor\u001b[0m \u001b[0mi\u001b[0m \u001b[0;32min\u001b[0m \u001b[0mrange\u001b[0m\u001b[0;34m(\u001b[0m\u001b[0mk\u001b[0m\u001b[0;34m)\u001b[0m\u001b[0;34m]\u001b[0m\u001b[0;34m\u001b[0m\u001b[0;34m\u001b[0m\u001b[0m\n\u001b[0m\u001b[1;32m    357\u001b[0m             \u001b[0mcum_weights\u001b[0m \u001b[0;34m=\u001b[0m \u001b[0mlist\u001b[0m\u001b[0;34m(\u001b[0m\u001b[0m_itertools\u001b[0m\u001b[0;34m.\u001b[0m\u001b[0maccumulate\u001b[0m\u001b[0;34m(\u001b[0m\u001b[0mweights\u001b[0m\u001b[0;34m)\u001b[0m\u001b[0;34m)\u001b[0m\u001b[0;34m\u001b[0m\u001b[0;34m\u001b[0m\u001b[0m\n\u001b[1;32m    358\u001b[0m         \u001b[0;32melif\u001b[0m \u001b[0mweights\u001b[0m \u001b[0;32mis\u001b[0m \u001b[0;32mnot\u001b[0m \u001b[0;32mNone\u001b[0m\u001b[0;34m:\u001b[0m\u001b[0;34m\u001b[0m\u001b[0;34m\u001b[0m\u001b[0m\n",
            "\u001b[0;32m/usr/lib/python3.7/random.py\u001b[0m in \u001b[0;36m<listcomp>\u001b[0;34m(.0)\u001b[0m\n\u001b[1;32m    354\u001b[0m                 \u001b[0m_int\u001b[0m \u001b[0;34m=\u001b[0m \u001b[0mint\u001b[0m\u001b[0;34m\u001b[0m\u001b[0;34m\u001b[0m\u001b[0m\n\u001b[1;32m    355\u001b[0m                 \u001b[0mtotal\u001b[0m \u001b[0;34m=\u001b[0m \u001b[0mlen\u001b[0m\u001b[0;34m(\u001b[0m\u001b[0mpopulation\u001b[0m\u001b[0;34m)\u001b[0m\u001b[0;34m\u001b[0m\u001b[0;34m\u001b[0m\u001b[0m\n\u001b[0;32m--> 356\u001b[0;31m                 \u001b[0;32mreturn\u001b[0m \u001b[0;34m[\u001b[0m\u001b[0mpopulation\u001b[0m\u001b[0;34m[\u001b[0m\u001b[0m_int\u001b[0m\u001b[0;34m(\u001b[0m\u001b[0mrandom\u001b[0m\u001b[0;34m(\u001b[0m\u001b[0;34m)\u001b[0m \u001b[0;34m*\u001b[0m \u001b[0mtotal\u001b[0m\u001b[0;34m)\u001b[0m\u001b[0;34m]\u001b[0m \u001b[0;32mfor\u001b[0m \u001b[0mi\u001b[0m \u001b[0;32min\u001b[0m \u001b[0mrange\u001b[0m\u001b[0;34m(\u001b[0m\u001b[0mk\u001b[0m\u001b[0;34m)\u001b[0m\u001b[0;34m]\u001b[0m\u001b[0;34m\u001b[0m\u001b[0;34m\u001b[0m\u001b[0m\n\u001b[0m\u001b[1;32m    357\u001b[0m             \u001b[0mcum_weights\u001b[0m \u001b[0;34m=\u001b[0m \u001b[0mlist\u001b[0m\u001b[0;34m(\u001b[0m\u001b[0m_itertools\u001b[0m\u001b[0;34m.\u001b[0m\u001b[0maccumulate\u001b[0m\u001b[0;34m(\u001b[0m\u001b[0mweights\u001b[0m\u001b[0;34m)\u001b[0m\u001b[0;34m)\u001b[0m\u001b[0;34m\u001b[0m\u001b[0;34m\u001b[0m\u001b[0m\n\u001b[1;32m    358\u001b[0m         \u001b[0;32melif\u001b[0m \u001b[0mweights\u001b[0m \u001b[0;32mis\u001b[0m \u001b[0;32mnot\u001b[0m \u001b[0;32mNone\u001b[0m\u001b[0;34m:\u001b[0m\u001b[0;34m\u001b[0m\u001b[0;34m\u001b[0m\u001b[0m\n",
            "\u001b[0;31mIndexError\u001b[0m: list index out of range"
          ]
        }
      ]
    },
    {
      "cell_type": "code",
      "metadata": {
        "colab": {
          "base_uri": "https://localhost:8080/"
        },
        "id": "c_8Po3D2MB_Y",
        "outputId": "8153656d-7e3d-42e2-c8b5-7778e29f561e"
      },
      "source": [
        "sof_samples"
      ],
      "execution_count": 29,
      "outputs": [
        {
          "output_type": "execute_result",
          "data": {
            "text/plain": [
              "{'/questions/1359018/how-do-i-attach-events-to-dynamic-html-elements-with-jquery': '1004\\r        I am adding a new answer to reflect changes in later jQuery releases. The .live() method is deprecated as of jQuery 1.7. From http://api.jquery.com/live/As of jQuery 1.7, the .live() method is deprecated. Use .on() to attach event handlers. Users of older versions of jQuery should use .delegate() in preference to .live(). For jQuery 1.7+ you can attach an event handler to a parent element using .on(), and pass the a selector combined with \\'myclass\\' as an argument.See http://api.jquery.com/on/So instead of...$(\".myclass\").click( function() {    // do something});You can write...$(\\'body\\').on(\\'click\\', \\'a.myclass\\', function() {    // do something});This will work for all a tags with \\'myclass\\' in the body, whether already present or dynamically added later.The body tag is used here as the example had no closer static surrounding tag, but any parent tag that exists when the .on method call occurs will work. For instance a ul tag for a list which will have dynamic elements added would look like this:$(\\'ul\\').on(\\'click\\', \\'li\\', function() {    alert( $(this).text() );});As long as the ul tag exists this will work (no li elements need exist yet).ShareImprove this answer\\r                Follow\\r            edited Jul 8 \\'14 at 12:36Chuck Le Butt44.3k5858 gold badges181181 silver badges275275 bronze badges\\r        answered Feb 17 \\'12 at 15:37SeanSean14.4k44 gold badges3535 silver badges3535 bronze badges9This otherwise brilliant solution seems to have a problem with HTML content living in a Fancybox. I\\'ve reverted to creating the handlers for that manually. I didn\\'t try iFrame Content yet, so the content of the fanyxbos is part of the body or in my case of the document variable.\\r–user673046Aug 11 \\'13 at 19:496live() is deprecated and .on() came. But it is not clear that when I write $(\\'selector\\').on(\\'event\\', callback(){}) then it wont work. Need to write desired selector inside on(). $(document).on(\\'event\\', \\'selector\\', callback(){}) or, $(\\'body\\').on(\\'event\\', \\'selector\\', callback(){})\\r–Satya PrakashDec 21 \\'13 at 14:363what about performance? is it the same as attaching events directly?\\r–JuanApr 29 \\'14 at 19:38Not work when <a> element have href address that set to http://????\\r–MostafaJul 4 \\'16 at 15:50$(\\'body\\').on(\\'each\\', \\'myclass\\', function() {     // do something }); @Sean I tried to make something on \"each\" of a \"class\", but it doesn\\'t work. What is wrong?\\r–horseSep 3 \\'16 at 6:49|Show 4 more comments\\r            100\\r        Sometimes doing this (the top-voted answer) is not always enough:$(\\'body\\').on(\\'click\\', \\'a.myclass\\', function() {    // do something});This can be an issue because of the order event handlers are fired. If you find yourself doing this, but it is causing issues because of the order in which it is handled.. You can always wrap that into a function, that when called \"refreshes\" the listener.For example:function RefreshSomeEventListener() {    // Remove handler from existing elements    $(\"#wrapper .specific-selector\").off();     // Re-add event handler for all matching elements    $(\"#wrapper .specific-selector\").on(\"click\", function() {        // Handle event.    }}Because it is a function, whenever I set up my listener this way, I typically call it on document ready:$(document).ready(function() {    // Other ready commands / code    // Call our function to setup initial listening    RefreshSomeEventListener();});Then, whenever you add some dynamically added element, call that method again:function SomeMethodThatAddsElement() {    // Some code / AJAX / whatever.. Adding element dynamically    // Refresh our listener, so the new element is taken into account    RefreshSomeEventListener();}Hopefully this helps!Regards,ShareImprove this answer\\r                Follow\\r            edited May 18 \\'15 at 13:29\\r        answered Jul 15 \\'14 at 20:28Chandler ZwolleChandler Zwolle1,41711 gold badge1010 silver badges77 bronze badges3Thanks! Couldn\\'t get it to work with other answers, your solution worked like a charm, however if I call RefreshSomeEventListener() after adding dynamic element, my event is triggered twice\\r–DKMudrechenkoMar 23 \\'15 at 0:041@DKMudrechenko Likely this is because you\\'re not fully removing the event listeners from it.\\r–Ryan StefferApr 12 \\'17 at 17:30This works, and good explanation, too.\\r–John RuizFeb 26 at 17:54Add a comment|\\r            36\\r        After jQuery 1.7 the preferred methods are .on() and .off() Sean\\'s answer shows an example.Now Deprecated:Use the jQuery functions .live() and .die().  Available in  jQuery 1.3.xFrom the docs:To display each paragraph\\'s text in an    alert box whenever it is clicked:$(\"p\").live(\"click\", function(){  alert( $(this).text() );});Also, the livequery plugin does this and has support for more events.ShareImprove this answer\\r                Follow\\r            edited May 23 \\'17 at 12:34Community♦111 silver badge\\r        answered Aug 31 \\'09 at 19:30Matt BrunellMatt Brunell9,83622 gold badges3131 silver badges4545 bronze badges3What if my selector needs to be the parent of some other element? For example: $(\"p\").parent(\".myclass\").live(\"click\", ... This doesn\\'t seem to work with live().\\r–frankadelicAug 31 \\'09 at 21:58You could try to incorporate that into a single query like $(\"p:has(.myclass)\").live(\"click\",...).  Note: there are some cases where live doesn\\'t work for all events.  Check out livequery plugin for support not offered by live.\\r–Matt BrunellSep 1 \\'09 at 1:411This is no longer the correct Answer. The .live() method is deprecated as of jQuery 1.7.  Use .on() instead.  Lets get the correct answer[stackoverflow.com/a/9331127/363701] some upvotes.  Or @Matt - do you want to update your answer?\\r–Zach LysobeyFeb 17 \\'12 at 15:47Add a comment|\\r            6\\r        If you\\'re adding a pile of anchors to the DOM, look into event delegation instead. Here\\'s a simple example:$(\\'#somecontainer\\').click(function(e) {     var $target = $(e.target);     if ($target.hasClass(\"myclass\")) {    // do something  }});ShareImprove this answer\\r                Follow\\r            edited Jan 19 \\'13 at 18:05\\r        answered Aug 31 \\'09 at 19:39ScottEScottE21.1k1818 gold badges9191 silver badges129129 bronze badgesAdd a comment|\\r            5\\r        You can bind a single click event to a page for all elements, no matter if they are already on that page or if they will arrive at some future time, like that:$(document).bind(\\'click\\', function (e) {   var target = $(e.target);   if (target.is(\\'.myclass\\')) {      e.preventDefault(); // if you want to cancel the event flow      // do something   } else if (target.is(\\'.myotherclass\\')) {      e.preventDefault();      // do something else   }});Been using it for a while. Works like a charm.In jQuery 1.7 and later, it is recommended to use .on() in place of bind or any other event delegation method, but .bind() still works.ShareImprove this answer\\r                Follow\\r            edited Apr 29 \\'13 at 15:15\\r        answered Mar 29 \\'13 at 3:09i--i--4,23122 gold badges2525 silver badges3535 bronze badgesAdd a comment|\\r            3\\r        Binds a handler to an event (like click) for all current - and future - matched element. Can also bind custom events.link text$(function(){    $(\".myclass\").live(\"click\", function() {        // do something    });});ShareImprove this answer\\r                Follow\\r            \\r        answered Aug 31 \\'09 at 19:32andres descalzoandres descalzo14.5k1212 gold badges6262 silver badges105105 bronze badges111live is deprecated.\\r–Francisco Corrales MoralesMay 12 \\'14 at 22:41Add a comment|\\r            2\\r        If your on jQuery 1.3+ then use .live()Binds a handler to an event (like  click) for all current - and future -  matched element. Can also bind custom  events.ShareImprove this answer\\r                Follow\\r            \\r        answered Aug 31 \\'09 at 19:31redsquareredsquare76.2k1818 gold badges149149 silver badges156156 bronze badgesAdd a comment|\\r            0\\r        You want to use the live() function. See the docs.For example:$(\"#anchor1\").live(\"click\", function() {    $(\"#anchor1\").append(\\'<a class=\"myclass\" href=\"#\">test4</a>\\');});ShareImprove this answer\\r                Follow\\r            \\r        answered Aug 31 \\'09 at 19:31Adam BellaireAdam Bellaire101k1919 gold badges144144 silver badges160160 bronze badges1live is deprecated.\\r–Nardong BagsikJan 13 \\'20 at 7:44Add a comment|',\n",
              " '/questions/406294/left-join-vs-left-outer-join-in-sql-server': '2462\\r        As per the documentation: FROM (Transact-SQL):<join_type> ::=     [ { INNER | { { LEFT | RIGHT | FULL } [ OUTER ] } } [ <join_hint> ] ]    JOINThe keyword OUTER is marked as optional (enclosed in square brackets). In this specific case, whether you specify OUTER or not makes no difference.  Note that while the other elements of the join clause is also marked as optional, leaving them out will make a difference.For instance, the entire type-part of the JOIN clause is optional, in which case the default is INNER if you just specify JOIN. In other words, this is legal:SELECT *FROM A JOIN B ON A.X = B.YHere\\'s a list of equivalent syntaxes:A LEFT JOIN B            A LEFT OUTER JOIN BA RIGHT JOIN B           A RIGHT OUTER JOIN BA FULL JOIN B            A FULL OUTER JOIN BA INNER JOIN B           A JOIN BAlso take a look at the answer I left on this other SO question: SQL left join vs multiple tables on FROM line?.ShareImprove this answer\\r                Follow\\r            edited Jul 24 \\'19 at 8:23WBT1,66533 gold badges2222 silver badges3333 bronze badges\\r        answered Jan 2 \\'09 at 8:51Lasse V. KarlsenLasse V. Karlsen355k9494 gold badges593593 silver badges784784 bronze badges24143Absolutely correct. OUTER is allowed for ANSI-92 compatibility.\\r–Sean ReillyJan 2 \\'09 at 21:3416@LasseV.Karlsen wouldnt it be better to have INNER JOIN on the right and just JOIN on the left in the list of equivalents?\\r–nawfalMay 1 \\'13 at 14:5510@LasseV.Karlsen I just meant that the left side has the concise form and the right side has the expanded form. I thought it would make it coherent if you followed the same for JOINs as well.\\r–nawfalMay 2 \\'13 at 7:4034@Outlier That\\'s your prerogative, but clearly 451 other people thought the answer was good. To be honest, if one answer says X and another answer says X and references the documentation, as well as copy the relevant pieces of the documentation into the answer, my vote goes to the second answer and that is why I write my answers the way I do. That someone claims X is not good. If you can prove X, that\\'s better (not to slight sactiw\\'s answer). But, its your prerogative to think whatever you want to. I question why you think it is pointless though, is the answer wrong in any way?\\r–Lasse V. KarlsenJul 20 \\'14 at 19:219@Outlier And to be honest, if you don\\'t feel like reading my \"long\" answers, then my answer was not for you. It is for everyone else coming here wondering about the same thing and want some background on why that is, and where to find more information, etc. Clearly you are the kind of guy that would want this answer: \"None\", but unfortunately this is not a legal answer here on Stack Overflow, nor should it be.\\r–Lasse V. KarlsenJul 20 \\'14 at 19:25|Show 19 more comments\\r            758\\r        To answer your question there is no difference between LEFT JOIN  and LEFT OUTER JOIN, they are exactly same that said...At the top level there are mainly 3 types of joins:INNEROUTERCROSSINNER JOIN - fetches data if present in both the tables.OUTER JOIN are of 3 types:LEFT OUTER JOIN - fetches data if present in the left table.RIGHT OUTER JOIN - fetches data if present in the right table.FULL OUTER JOIN - fetches data if present in either of the two tables.CROSS JOIN, as the name suggests, does [n X m] that joins everything to everything.Similar to scenario where we simply lists the tables for joining (in the FROM clause of the SELECT statement), using commas to separate them.Points to be noted:If you just mention JOIN then by default it is a INNER JOIN.An OUTER join has to be LEFT | RIGHT | FULL you can not simply say OUTER JOIN.You can drop OUTER keyword and just say LEFT JOIN or RIGHT JOIN or FULL JOIN.For those who want to visualise these in a better way, please go to this link:A Visual Explanation of SQL JoinsShareImprove this answer\\r                Follow\\r            edited May 14 \\'14 at 9:38SriniV10.4k1414 gold badges5454 silver badges8484 bronze badges\\r        answered Dec 9 \\'10 at 18:05sactiwsactiw20.3k44 gold badges3737 silver badges2828 bronze badges519Very good answer. It will be clearer if you say   \"LEFT OUTER JOIN - fetches all data from the left table with matching data from right, if preset.\" for 2.1   (and similar change for 2.2)\\r–sshDec 27 \\'12 at 19:271Also you can do cross join by simply \\'select * from TableA,TableB\\'\\r–om471987Feb 10 \\'13 at 18:223Sorry if I\\'m necrobumping, but is CROSS JOIN the same as FULL JOIN?\\r–TechnicalTophatJul 13 \\'16 at 13:1110@RhysO no, CROSS JOIN is a Cartesian product i.e. CROSS JOIN of a table, having n rows, with a table, having m rows, will always give (n*m) rows while FULL OUTER JOIN of a table, having n rows, with a table, having m rows, will give at max (n+m) rows\\r–sactiwJul 13 \\'16 at 15:341@sactiw consider to add a special note in your valuable answer about the difference between Cross Join and Full Outer Join ... in some way seems similar.\\r–Manuel JordanOct 12 \\'19 at 14:51Add a comment|\\r            395\\r        What is the difference between left join and left outer join?Nothing. LEFT JOIN and LEFT OUTER JOIN are equivalent.ShareImprove this answer\\r                Follow\\r            edited Aug 22 \\'14 at 0:03\\r        answered Jan 2 \\'09 at 8:31Mitch WheatMitch Wheat283k4141 gold badges448448 silver badges529529 bronze badges77This is the case in Microsoft SQL Server, and any other SQL-compliant RDBMS.\\r–Bill KarwinJan 2 \\'09 at 8:418It would be nice if you added a reference or explanation about why the OUTER is optional.\\r–Zero3Apr 12 \\'16 at 12:503it\\'s optional because it\\'s unnecessary!\\r–Mitch WheatApr 13 \\'16 at 0:448Most concise, accurate answer here.\\r–ManachiSep 26 \\'17 at 1:156Thank you. The accepted answer had way too much information that left me more confused. This is exactly what I needed to know and answers the original question straight to the point.\\r–Bacon BradAug 9 \\'18 at 20:36|Show 2 more comments\\r            71\\r        I\\'m a PostgreSQL DBA, as far as I could understand the difference between outer or not outer joins difference is a topic that has considerable discussion all around the internet. Until today I never saw a difference between those two; So I went further and I try to find the difference between those. At the end I read the whole documentation about it and I found the answer for this, So if you look on documentation (at least in PostgreSQL) you can find this phrase:\"The words INNER and OUTER are optional in all forms. INNER is the default; LEFT, RIGHT, and FULL imply an outer join.\" In another words, LEFT JOIN and LEFT OUTER JOIN ARE THE SAMERIGHT JOIN and RIGHT OUTER JOIN ARE THE SAMEI hope it can be a contribute for those who are still trying to find the answer.ShareImprove this answer\\r                Follow\\r            edited May 23 \\'15 at 3:42shA.t15.4k55 gold badges4747 silver badges9696 bronze badges\\r        answered Aug 30 \\'10 at 2:33andrefspandrefsp72755 silver badges22 bronze badgesAdd a comment|\\r            69\\r        Left Join and Left Outer Join are one and the same.  The former is the shorthand for the latter.  The same can be said about the Right Join and Right Outer Join relationship.  The demonstration will illustrate the equality.  Working examples of each query have been provided via SQL Fiddle.  This tool will allow for hands on manipulation of the query.GivenLeft Join and Left Outer JoinResultsRight Join and Right Outer JoinResultsShareImprove this answer\\r                Follow\\r            edited Dec 14 \\'17 at 23:06xdhmoore6,74188 gold badges3939 silver badges7373 bronze badges\\r        answered May 22 \\'15 at 17:09WorkSmarterWorkSmarter3,40822 gold badges2424 silver badges3232 bronze badges0Add a comment|\\r            47\\r        I find it easier to think of Joins in the following order:CROSS JOIN - a Cartesian product of both tables.  ALL joins begin hereINNER JOIN - a CROSS JOIN with a filter added. OUTER JOIN - an INNER JOIN with missing elements (from either LEFT or RIGHT table)added afterward.Until I figured out this (relatively) simple model, JOINS were always a bit more of a black art.  Now they make perfect sense.Hope this helps more than it confuses.ShareImprove this answer\\r                Follow\\r            \\r        answered Dec 29 \\'11 at 21:01frozenjimfrozenjim62855 silver badges1111 bronze badges1This does not answer the question.\\r–philipxyJun 17 \\'19 at 3:38Add a comment|\\r            36\\r        Why are LEFT/RIGHT and LEFT OUTER/RIGHT OUTER the same? Let\\'s explain why this vocabulary.Understand that LEFT and RIGHT joins are specific cases of the OUTER join, and therefore couldn\\'t be anything else than OUTER LEFT/OUTER RIGHT. The OUTER join is also called FULL OUTER as opposed to LEFT and RIGHT joins that are PARTIAL results of the OUTER join. Indeed:Table A | Table B     Table A | Table B      Table A | Table B      Table A | Table B   1    |   5            1    |   1             1    |   1             1    |   1   2    |   1            2    |   2             2    |   2             2    |   2   3    |   6            3    |  null           3    |  null           -    |   -   4    |   2            4    |  null           4    |  null           -    |   -                        null  |   5             -    |   -            null  |   5                        null  |   6             -    |   -            null  |   6                      OUTER JOIN (FULL)     LEFT OUTER (partial)   RIGHT OUTER (partial)It is now clear why those operations have aliases, as well as it is clear only 3 cases exist: INNER, OUTER, CROSS. With two sub-cases for the OUTER.The vocabulary, the way teachers explain this, as well as some answers above, often make it looks like there are lots of different types of join. But it\\'s actually very simple.ShareImprove this answer\\r                Follow\\r            edited Apr 17 \\'14 at 21:15\\r        answered Apr 17 \\'14 at 21:08Yugo AmarylYugo Amaryl1,17922 gold badges1111 silver badges1818 bronze badges11\"it is clear only 3 cases exist\": interesting but flawed. Consider that an inner join is a specialised cross join (i.e. move join predicates to the where clause). Further consider that outer join isn\\'t a join at all, rather is a union where are used nulls in place of \\'missing\\' columns. Therefore, it could be argued that cross is the only join required. Note the current thinking in relational theory is that natural join satisfies all join requirements. Aside: can you explain if/how the vocabulary \"JOIN implies INNER JOIN\" fits with your reasoning for outer join vocab?\\r–onedaywhenJul 6 \\'16 at 10:39Add a comment|\\r            34\\r        To answer your questionIn Sql Server joins syntax OUTER is optionalIt is mentioned in msdn article : https://msdn.microsoft.com/en-us/library/ms177634(v=sql.130).aspxSo following list shows join equivalent syntaxes with and without OUTERLEFT OUTER JOIN => LEFT JOINRIGHT OUTER JOIN => RIGHT JOINFULL OUTER JOIN => FULL JOINOther equivalent syntaxesINNER JOIN => JOINCROSS JOIN => ,Strongly Recommend Dotnet Mob Artice : Joins in Sql ServerShareImprove this answer\\r                Follow\\r            edited Jan 17 \\'19 at 9:16MD. Khairul Basar4,3971111 gold badges4040 silver badges5252 bronze badges\\r        answered Jun 25 \\'16 at 4:05massmass47244 silver badges77 bronze badges13Re abuse of Venn diagrams here see my comment on the question.\\r–philipxyApr 29 \\'19 at 1:52Add a comment|\\r            22\\r        There are only 3 joins:A) Cross Join  = Cartesian         (E.g: Table A, Table B)  B) Inner Join    = JOIN            (E.g: Table A Join/Inner Join TableB)C) Outer join:   There are three type of outer join   1)  Left Outer Join     = Left Join   2)  Right Outer Join    = Right Join   3)  Full Outer Join     = Full Join    Hope it\\'d help.ShareImprove this answer\\r                Follow\\r            \\r        answered Mar 17 \\'17 at 9:56DelickateDelickate88811 gold badge99 silver badges1616 bronze badges12So 5 joins altogether.\\r–Zeek2Jul 20 \\'18 at 10:44Add a comment|\\r            19\\r        There are mainly three types of JOINInner: fetches data, that are present in both tablesOnly JOIN means INNER JOINOuter: are of three typesLEFT OUTER - - fetches data present only in left table & matching conditionRIGHT OUTER - - fetches data present only in right table & matching conditionFULL OUTER - - fetches data present any or both table(LEFT or RIGHT or FULL) OUTER JOIN can be written w/o writing \"OUTER\"Cross Join: joins everything to everythingShareImprove this answer\\r                Follow\\r            edited Jan 18 \\'12 at 12:59sjngm11.6k1313 gold badges7272 silver badges105105 bronze badges\\r        answered Jan 18 \\'12 at 12:29HarshHarsh20722 silver badges33 bronze badgesAdd a comment|\\r            17\\r        Syntactic sugar, makes it more obvious to the casual reader that the join isn\\'t an inner one. ShareImprove this answer\\r                Follow\\r            edited Aug 10 \\'12 at 20:28Uncle Iroh5,11155 gold badges4444 silver badges5656 bronze badges\\r        answered Jan 2 \\'09 at 8:54UnslicedUnsliced9,97588 gold badges4848 silver badges8181 bronze badges22So... what\\'s a FULL OUTER JOIN then?\\r–Amy BJan 2 \\'09 at 20:296tableA FULL OUTER JOIN tableB will give you three types of records: all records in tableA with no matching record in tableB, all records in tableB with no matching record in tableA, and all records in tableA with a matching record in tableB.\\r–Dave DuPlantisOct 5 \\'09 at 18:16Add a comment|\\r            8\\r        Just in the context of this question, I want to post the 2 \\'APPLY\\' operators as well:JOINS:INNER JOIN   = JOINOUTER JOINLEFT OUTER JOIN = LEFT JOINRIGHT OUTER JOIN = RIGHT JOINFULL OUTER JOIN = FULL JOINCROSS JOINSELF-JOIN: This is not exactly a separate type of join. This is basically joining a table to itself using one of the above joins. But I felt it is worth mentioning in the context JOIN discussions as you will hear this term from many in the SQL Developer community.   APPLY:CROSS APPLY  -- Similar to INNER JOIN (But has added advantage of being able to compute something in the Right table for each row of the Left table and would return only the matching rows)OUTER APPLY  -- Similar to LEFT OUTER JOIN (But has added advantage of being able to compute something in the Right table for each row of the Left table and would return all the rows from the Left table irrespective of a match on the Right table)https://www.mssqltips.com/sqlservertip/1958/sql-server-cross-apply-and-outer-apply/https://sqlhints.com/2016/10/23/outer-apply-in-sql-server/Real life example, when to use OUTER / CROSS APPLY in SQLI find APPLY operator very beneficial as they give better performance than having to do the same computation in a subquery. They are also replacement of many Analytical functions in older versions of SQL Server. That is why I believe that after being comfortable with JOINS, one SQL developer should try to learn the APPLY operators next.ShareImprove this answer\\r                Follow\\r            \\r        answered Jun 17 \\'19 at 2:23sansan1,21766 silver badges1010 bronze badgesAdd a comment|'}"
            ]
          },
          "metadata": {},
          "execution_count": 29
        }
      ]
    },
    {
      "cell_type": "code",
      "metadata": {
        "colab": {
          "base_uri": "https://localhost:8080/"
        },
        "id": "yZLmNAaV11Gb",
        "outputId": "5cfe5430-ae71-405b-fb07-e4f3350f82f7"
      },
      "source": [
        "hwz_samples"
      ],
      "execution_count": 28,
      "outputs": [
        {
          "output_type": "execute_result",
          "data": {
            "text/plain": [
              "{'/tech-news-apple-iphone13-iphone13mini-singapore-specs-price': 'Note: This article was first published on 15 September 2021.So Apple has decided to stick to tradition and call their latest iPhones the iPhone 13.The iPhone 13 and 13 Mini have the same design as last year’s iPhones. The enclosures are made of 100% recycled aluminium. Sizes are also unchanged, so the iPhone 13 has a 6.1-inch display while the iPhone 13 Mini gets a 5.4-inch display.The display is Apple’s Super Retina XDR display so they use OLED panels. Apple says they are 28% brighter than last year’s display. They are protected by Ceramic Shield. Eagle-eyed readers might also notice that the notch is smaller. That’s thanks to a smaller TrueDepth camera system which has allowed Apple to shrink the notch by 20%.The processor is new. Inside is Apple’s new A15 Bionic which is built on a 5nm process and is a 6-core component with two high-performance cores and four high-efficiency cores. It also has a 4-core GPU. Apple claims A15 Bionic’s CPU is 50% faster than the leading competition, while its GPU is 30% faster than the leading competition. However, it stopped short at identifying who this “leading competition” is.Despite the more powerful chip, battery life is up thanks to a larger battery and more efficient components. According to Apple, the iPhone 13 should last 2.5 hours than iPhone 12 while the iPhone 13 Mini should last 1.5 hours longer than iPhone 12 Mini.The cameras in the new phones are also substantially improved. The iPhone 13 and 13 Mini still has two cameras but the sensors are new. The main wide camera’s sensor captures 47% more light and features sensor-shift optical image stabilisation technology that debuted in last year’s iPhone 12 Pro Max. The ultra wide camera also has a new faster sensor with a faster lens so it takes better photos in challenging lighting situations. There’s also a new Photographic Styles mode that uses machine learning to apply real-time filters to your photos to create a distinctly personal look.On the video side of things, there’s support for Dolby Vision in 4K at 60fps. And there’s a new Cinematic Mode that lets you create depth effects and focus transitions. You can even do this post-capture.The new iPhones support 5G and Apple says it has increased support for more bands and it will support 200 carriers in over 60 countries by the end of the year.The iPhone 13 and iPhone 13 Mini will be available in five colours: Starlight, Midnight, Blue, Pink, and (PRODUCT)RED. Starting capacity has been doubled to 128GB and there’s a new 512GB option.Pre-orders start on 17 September and the phones will be available in retail on 24 September.Prices are as follows:Read Next (1):iPhone 13 Pro series get 120Hz displays, better CPUs and camerasRead Next (2): Should you get the discounted iPhone 12 instead?Read Next (3):Apple Watch Series 7 gets crack-resistant display and better endurance',\n",
              " '/tech-news-apple-s-102-inch-ipad-gets-processor-bump-and-new-camera': \"Note: This article was first published on 15 September 2021.At the top of the Apple California Streaming event,Tim Cook unveiled an update to one of Apple’s most popular iPads, with the 10.2-inch iPad (9th Gen).The new 10.2-inch iPad has a Retina display with its size and bezels that are the same as its predecessor. Handily this means that the accessories you have for it will still work for the new model.It is however powered by the A13 Bionicprocessor, promising a 20% performance boost over the A12 Bionic in last year's model. And Apple did add the TrueTone feature to this entry-level tablet.True Tone, makes images appear more natural by adjusting screen content to the colour temperature of the room the user is in. This provides users with a more comfortable viewing experience in all lighting environments.A new 12MP Ultra-Wide front camera enables Center Stage for users. As users move around, Center Stage automatically pans the camera to keep them in view. When others join in, the camera detects them too, and smoothly zooms out to include them in the conversation. Center Stage works not just for Facetime but for other video conferencing apps Zoom, Bluejeans, and WebEx.Other announcements from the event included the new iPad mini 6, the iPhone 13 series , and the Apple Watch 7.Apple has doubled the storage on the base model to 64GB with it maxing out at 256GB. Apple's new iPad (9th Gen) starts at S$499 for 64GB Wi-Fi only with the Wi-Fi + Cellular model starting from S$699. They are available for pre-order now online with delivery later this month.w\"}"
            ]
          },
          "metadata": {},
          "execution_count": 28
        }
      ]
    },
    {
      "cell_type": "markdown",
      "metadata": {
        "id": "BM-XF4Cg11lt"
      },
      "source": [
        "1） check if the first word in a sentence is capitalised\n"
      ]
    },
    {
      "cell_type": "code",
      "metadata": {
        "id": "9pVKwN1m5Xjs"
      },
      "source": [
        "sof_text_sample1 = sof_samples['/questions/1359018/how-do-i-attach-events-to-dynamic-html-elements-with-jquery']\n",
        "sof_text_sample2 = sof_samples['/questions/406294/left-join-vs-left-outer-join-in-sql-server']\n",
        "hwz_text_sample1 = hwz_samples['/tech-news-apple-iphone13-iphone13mini-singapore-specs-price']\n",
        "hwz_text_sample2 = hwz_samples['/tech-news-apple-s-102-inch-ipad-gets-processor-bump-and-new-camera']"
      ],
      "execution_count": 30,
      "outputs": []
    },
    {
      "cell_type": "code",
      "metadata": {
        "colab": {
          "base_uri": "https://localhost:8080/"
        },
        "id": "IJ0jeSHF5-pb",
        "outputId": "b223b248-44f1-4894-d8ad-917cd9eaaae1"
      },
      "source": [
        "import nltk\n",
        "nltk. download('punkt')\n",
        "#text = \"I do not like green eggs and ham. I do not like them Sam-I-am.\"\n",
        "#a_list = nltk. tokenize. sent_tokenize(text) Split into list of sentences.\n",
        "#print(a_list)\n",
        "sof_sample1_sent = nltk.tokenize.sent_tokenize(sof_text_sample1)\n",
        "hwz_sample1_sent = nltk.tokenize.sent_tokenize(hwz_text_sample1)\n",
        "sof_sample2_sent = nltk.tokenize.sent_tokenize(sof_text_sample2)\n",
        "hwz_sample2_sent = nltk.tokenize.sent_tokenize(hwz_text_sample2)"
      ],
      "execution_count": 31,
      "outputs": [
        {
          "output_type": "stream",
          "name": "stdout",
          "text": [
            "[nltk_data] Downloading package punkt to /root/nltk_data...\n",
            "[nltk_data]   Unzipping tokenizers/punkt.zip.\n"
          ]
        }
      ]
    },
    {
      "cell_type": "code",
      "metadata": {
        "colab": {
          "base_uri": "https://localhost:8080/"
        },
        "id": "2-LcBD3N11M2",
        "outputId": "ecdadf2d-7e0a-4ea9-e517-0e529ea916a7"
      },
      "source": [
        "#check the upper case letter portion for stackoverflow post \n",
        "upper_or_not = []\n",
        "for i in sof_sample1_sent:\n",
        "  upper_or_not.append(i[0].isupper())\n",
        "\n",
        "portion1= sum(upper_or_not) / len(upper_or_not)\n",
        "print(portion1)\n",
        "\n",
        "upper_or_not = []\n",
        "for i in sof_sample2_sent:\n",
        "  upper_or_not.append(i[0].isupper())\n",
        "\n",
        "portion2= sum(upper_or_not) / len(upper_or_not)\n",
        "print(portion2)"
      ],
      "execution_count": 32,
      "outputs": [
        {
          "output_type": "stream",
          "name": "stdout",
          "text": [
            "0.6511627906976745\n",
            "0.6865671641791045\n"
          ]
        }
      ]
    },
    {
      "cell_type": "code",
      "metadata": {
        "colab": {
          "base_uri": "https://localhost:8080/"
        },
        "id": "iTE77lhmFn9r",
        "outputId": "4e2b0a20-2a09-417f-f1ec-8a33df246154"
      },
      "source": [
        "#check the upper case letter portion for hardwarezone post \n",
        "upper_or_not = []\n",
        "for i in hwz_sample1_sent:\n",
        "  upper_or_not.append(i[0].isupper())\n",
        "\n",
        "portion1 = sum(upper_or_not) / len(upper_or_not)\n",
        "print(portion1)\n",
        "\n",
        "upper_or_not = []\n",
        "for i in hwz_sample2_sent:\n",
        "  upper_or_not.append(i[0].isupper())\n",
        "\n",
        "portion2 = sum(upper_or_not) / len(upper_or_not)\n",
        "print(portion2)"
      ],
      "execution_count": 33,
      "outputs": [
        {
          "output_type": "stream",
          "name": "stdout",
          "text": [
            "1.0\n",
            "1.0\n"
          ]
        }
      ]
    },
    {
      "cell_type": "markdown",
      "metadata": {
        "id": "TkZtSv9wBGHn"
      },
      "source": [
        "+ do sentences follow good grammars"
      ]
    },
    {
      "cell_type": "markdown",
      "metadata": {
        "id": "uiynwMu1PJlq"
      },
      "source": [
        "use nltk parsing to check the sentences have \n",
        "good grammar or not "
      ]
    },
    {
      "cell_type": "code",
      "metadata": {
        "id": "5yhBfQEaSRSj"
      },
      "source": [
        ""
      ],
      "execution_count": null,
      "outputs": []
    },
    {
      "cell_type": "markdown",
      "metadata": {
        "id": "R1X8qN8bSKP2"
      },
      "source": [
        "use language tool python to check for presence of grammar errors"
      ]
    },
    {
      "cell_type": "code",
      "metadata": {
        "id": "1CbDd2XHSlPn"
      },
      "source": [
        ""
      ],
      "execution_count": null,
      "outputs": []
    },
    {
      "cell_type": "code",
      "metadata": {
        "colab": {
          "base_uri": "https://localhost:8080/"
        },
        "id": "0JvbdD1sPPnp",
        "outputId": "e0bdb137-5347-4414-9cbf-9f0334cf62cc"
      },
      "source": [
        "import language_tool_python\n",
        "tool = language_tool_python.LanguageTool('en-US')\n",
        "text =  sof_sample2_sent[0]\n",
        "matches = tool.check(text)\n",
        "len(matches)"
      ],
      "execution_count": 148,
      "outputs": [
        {
          "output_type": "execute_result",
          "data": {
            "text/plain": [
              "1"
            ]
          },
          "metadata": {},
          "execution_count": 148
        }
      ]
    },
    {
      "cell_type": "code",
      "metadata": {
        "colab": {
          "base_uri": "https://localhost:8080/"
        },
        "id": "Qw0bWDGRTRH6",
        "outputId": "326be414-4822-4b54-8516-22fc764d4a81"
      },
      "source": [
        "matches"
      ],
      "execution_count": 149,
      "outputs": [
        {
          "output_type": "execute_result",
          "data": {
            "text/plain": [
              "[Match({'ruleId': 'GITHUB', 'message': 'The official name of this software platform is spelled with a capital “H”.', 'replacements': ['GitHub'], 'offsetInContext': 43, 'context': '...l repository gets all the new info from Github.', 'offset': 84, 'errorLength': 6, 'category': 'CASING', 'ruleIssueType': 'uncategorized', 'sentence': '1134\\r        Try git fetch so that your local repository gets all the new info from Github.'})]"
            ]
          },
          "metadata": {},
          "execution_count": 149
        }
      ]
    },
    {
      "cell_type": "code",
      "metadata": {
        "colab": {
          "base_uri": "https://localhost:8080/"
        },
        "id": "OnvkcJywPPrU",
        "outputId": "b8a2c596-8ff3-4e0f-dfc2-05e0d4ba9642"
      },
      "source": [
        "!pip install language_tool_python"
      ],
      "execution_count": 140,
      "outputs": [
        {
          "output_type": "stream",
          "name": "stdout",
          "text": [
            "Collecting language_tool_python\n",
            "  Downloading language_tool_python-2.6.1-py3-none-any.whl (30 kB)\n",
            "Requirement already satisfied: tqdm in /usr/local/lib/python3.7/dist-packages (from language_tool_python) (4.62.2)\n",
            "Requirement already satisfied: requests in /usr/local/lib/python3.7/dist-packages (from language_tool_python) (2.23.0)\n",
            "Requirement already satisfied: idna<3,>=2.5 in /usr/local/lib/python3.7/dist-packages (from requests->language_tool_python) (2.10)\n",
            "Requirement already satisfied: certifi>=2017.4.17 in /usr/local/lib/python3.7/dist-packages (from requests->language_tool_python) (2021.5.30)\n",
            "Requirement already satisfied: urllib3!=1.25.0,!=1.25.1,<1.26,>=1.21.1 in /usr/local/lib/python3.7/dist-packages (from requests->language_tool_python) (1.24.3)\n",
            "Requirement already satisfied: chardet<4,>=3.0.2 in /usr/local/lib/python3.7/dist-packages (from requests->language_tool_python) (3.0.4)\n",
            "Installing collected packages: language-tool-python\n",
            "Successfully installed language-tool-python-2.6.1\n"
          ]
        }
      ]
    },
    {
      "cell_type": "code",
      "metadata": {
        "id": "IHuHNUIGPPtS"
      },
      "source": [
        ""
      ],
      "execution_count": null,
      "outputs": []
    },
    {
      "cell_type": "code",
      "metadata": {
        "id": "x363P3GSPPvF"
      },
      "source": [
        ""
      ],
      "execution_count": null,
      "outputs": []
    },
    {
      "cell_type": "markdown",
      "metadata": {
        "id": "KEW2M10jBGHn"
      },
      "source": [
        "+ are the proper nouns capitalized"
      ]
    },
    {
      "cell_type": "code",
      "metadata": {
        "id": "F6kl2azFKPHd"
      },
      "source": [
        ""
      ],
      "execution_count": null,
      "outputs": []
    }
  ]
}