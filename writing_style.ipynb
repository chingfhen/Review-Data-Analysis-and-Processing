{
  "nbformat": 4,
  "nbformat_minor": 0,
  "metadata": {
    "orig_nbformat": 4,
    "language_info": {
      "name": "python",
      "version": "3.6.13",
      "mimetype": "text/x-python",
      "codemirror_mode": {
        "name": "ipython",
        "version": 3
      },
      "pygments_lexer": "ipython3",
      "nbconvert_exporter": "python",
      "file_extension": ".py"
    },
    "kernelspec": {
      "name": "python3",
      "display_name": "Python 3.6.13 64-bit ('NLP': conda)"
    },
    "interpreter": {
      "hash": "b079d5311889622f44e4c2f41b5f627b01682cb0af4a910fcfdea8749fa0b089"
    },
    "colab": {
      "name": "writing_style.ipynb",
      "provenance": [],
      "collapsed_sections": [],
      "machine_shape": "hm"
    },
    "accelerator": "GPU"
  },
  "cells": [
    {
      "cell_type": "markdown",
      "metadata": {
        "id": "-38VmXYBBGHZ"
      },
      "source": [
        "# Writing Style\n",
        "\n"
      ]
    },
    {
      "cell_type": "markdown",
      "metadata": {
        "id": "30f3dS70BGHc"
      },
      "source": [
        "+ two posts from StackOverflow\n",
        "+ two posts from Hardwarezone\n",
        "+ two news articles from ChannelNewsAsia."
      ]
    },
    {
      "cell_type": "code",
      "metadata": {
        "id": "9Hku6EhlBGHd"
      },
      "source": [
        "import random\n",
        "import requests\n",
        "from bs4 import BeautifulSoup\n",
        "import re\n",
        "from tqdm import trange\n",
        "import pandas as pd"
      ],
      "execution_count": null,
      "outputs": []
    },
    {
      "cell_type": "code",
      "metadata": {
        "colab": {
          "base_uri": "https://localhost:8080/"
        },
        "id": "pwD7h8UcbxmH",
        "outputId": "ce760375-1ef4-456e-acb5-292088850f6b"
      },
      "source": [
        "from google.colab import drive\n",
        "drive.mount('/content/drive')"
      ],
      "execution_count": null,
      "outputs": [
        {
          "output_type": "stream",
          "name": "stdout",
          "text": [
            "Mounted at /content/drive\n"
          ]
        }
      ]
    },
    {
      "cell_type": "code",
      "metadata": {
        "id": "N6_qUzoMBGHe"
      },
      "source": [
        "SEED = 1\n",
        "random.seed(SEED)"
      ],
      "execution_count": null,
      "outputs": []
    },
    {
      "cell_type": "code",
      "metadata": {
        "id": "pkximX_pBGHf"
      },
      "source": [
        "def clean_text(uncleaned:str) -> str:\n",
        "    x = uncleaned.replace(u\"\\\\\", u\"\")\n",
        "    x = x.replace(u\"\\n\", u\"\")\n",
        "    x = x.replace(u\"\\xa0\", u\"\")\n",
        "    return x.strip()"
      ],
      "execution_count": null,
      "outputs": []
    },
    {
      "cell_type": "code",
      "metadata": {
        "id": "f-Pa1uu_BGHf"
      },
      "source": [
        "headers = {'User-Agent': 'Mozilla/5.0 (Windows; U; Windows NT 5.1; en-US; rv:1.9.0.7) Gecko/2009021910 safari/3.0.7'}\n",
        "\n",
        "proxies =  {\"https\": \"https//59.110.7.190:1080\"}"
      ],
      "execution_count": null,
      "outputs": []
    },
    {
      "cell_type": "code",
      "metadata": {
        "id": "c5ndtd-XBGHg"
      },
      "source": [
        "def get_sample_from_sof():\n",
        "    URL_SOF = 'https://stackoverflow.com'\n",
        "    links = []\n",
        "    # top 800 rating post\n",
        "    for i in trange(8):\n",
        "        content = requests.get(URL_SOF + \"/questions\", params={\"tab\":\"votes\", \"page\":i+1}).content\n",
        "        soup = BeautifulSoup(content, 'html.parser')\n",
        "        for i in soup.find_all('a', href=re.compile(\"^/questions/[0-9]\")):\n",
        "            links.append(i.get('href'))\n",
        "    choosen_2 = random.choices(links, k=2)\n",
        "    # get post\n",
        "    ans = {}\n",
        "    for link in choosen_2:\n",
        "        content = requests.get(URL_SOF + link).content\n",
        "        soup = BeautifulSoup(content, 'html.parser')\n",
        "        # remove code sections in the snippet-code only, not in text part \n",
        "        #for s in soup.find_all(class_ = \"snippet-code\"):\n",
        "        #    s.extract()\n",
        "        text = \"\"\n",
        "        for i in soup.find_all('div', class_ = 'answer'):\n",
        "            text += i.get_text()\n",
        "        text = clean_text(text)\n",
        "        ans[link] = text\n",
        "  \n",
        "    return ans"
      ],
      "execution_count": null,
      "outputs": []
    },
    {
      "cell_type": "code",
      "metadata": {
        "colab": {
          "base_uri": "https://localhost:8080/"
        },
        "id": "oQpX0VzyBGHh",
        "outputId": "bb5a75cd-8b1d-4ce4-a5be-ee806387df11"
      },
      "source": [
        "# get 2 random samples from stackoverflow out of the \n",
        "sof_samples = get_sample_from_sof()\n",
        "sof_samples"
      ],
      "execution_count": null,
      "outputs": [
        {
          "output_type": "stream",
          "name": "stderr",
          "text": [
            "100%|██████████| 8/8 [00:16<00:00,  2.10s/it]\n"
          ]
        },
        {
          "output_type": "execute_result",
          "data": {
            "text/plain": [
              "{'/questions/1200621/how-do-i-declare-and-initialize-an-array-in-java': '2947\\r        You can either use array declaration or array literal (but only when you declare and affect the variable right away, array literals cannot be used for re-assigning an array).For primitive types:int[] myIntArray = new int[3];int[] myIntArray = {1, 2, 3};int[] myIntArray = new int[]{1, 2, 3};// Since Java 8. Doc of IntStream: https://docs.oracle.com/javase/8/docs/api/java/util/stream/IntStream.htmlint [] myIntArray = IntStream.range(0, 100).toArray(); // From 0 to 99int [] myIntArray = IntStream.rangeClosed(0, 100).toArray(); // From 0 to 100int [] myIntArray = IntStream.of(12,25,36,85,28,96,47).toArray(); // The order is preserved.int [] myIntArray = IntStream.of(12,25,36,85,28,96,47).sorted().toArray(); // Sort For classes, for example String, it\\'s the same:String[] myStringArray = new String[3];String[] myStringArray = {\"a\", \"b\", \"c\"};String[] myStringArray = new String[]{\"a\", \"b\", \"c\"};The third way of initializing is useful when you declare an array first and then initialize it, pass an array as a function argument, or return an array. The explicit type is required.String[] myStringArray;myStringArray = new String[]{\"a\", \"b\", \"c\"};ShareImprove this answer\\r                Follow\\r            edited Mar 3 at 13:33\\r            community wiki\\r        \\r        14 revs, 11 users 47%glmxndr1537What\\'s the purpose of having both the second and third way to do it?\\r–Quazi IrfanApr 10 \\'15 at 3:23143@iamcreasy It looks like the second way doesn\\'t work with return statements.  return {1,2,3} gives an error, while return new int[]{1,2,3} works fine (assuming of course that your function returns an integer array).\\r–Skylar IttnerApr 16 \\'15 at 17:441@SkylarMT But we can still use the first way to use with return statement.\\r–Quazi IrfanApr 18 \\'15 at 4:417@iamcreasy I recently wrote a function that returned an array of ints.  If an error happened inside the function, I wanted it to return a certain value, but the function needed to return an array.  Which way works for a one-liner return statement?  Only the third one.\\r–Skylar IttnerApr 20 \\'15 at 6:097@apadana In the second case you are creating an anonymous object which is only defined in the enclosing scope (function or whatever). After returning it to the caller, it is no longer valid. Using the new keyword you allocate the new object from the heap and it is valid outside the defining scope.\\r–teukkamOct 18 \\'16 at 9:55|Show 10 more comments\\r            299\\r        There are two types of array. One Dimensional ArraySyntax for default values:int[] num = new int[5];Or (less preferred)int num[] = new int[5];Syntax with values given (variable/field initialization):int[] num = {1,2,3,4,5};Or (less preferred)int num[] = {1, 2, 3, 4, 5};Note: For convenience  int[] num is preferable because it clearly tells that you are talking here about array. Otherwise no difference. Not at all.Multidimensional arrayDeclarationint[][] num = new int[5][2];Orint num[][] = new int[5][2];Orint[] num[] = new int[5][2];Initialization num[0][0]=1; num[0][1]=2; num[1][0]=1; num[1][1]=2; num[2][0]=1; num[2][1]=2; num[3][0]=1; num[3][1]=2; num[4][0]=1; num[4][1]=2;Or int[][] num={ {1,2}, {1,2}, {1,2}, {1,2}, {1,2} };Ragged Array (or Non-rectangular Array) int[][] num = new int[5][]; num[0] = new int[1]; num[1] = new int[5]; num[2] = new int[2]; num[3] = new int[3];So here we are defining columns explicitly.Another Way: int[][] num={ {1}, {1,2}, {1,2,3,4,5}, {1,2}, {1,2,3} };For Accessing:for (int i=0; i<(num.length); i++ ) {    for (int j=0;j<num[i].length;j++)        System.out.println(num[i][j]);}Alternatively:for (int[] a : num) {  for (int i : a) {    System.out.println(i);  }}Ragged arrays are multidimensional arrays.For explanation see multidimensional array detail at the official java tutorialsShareImprove this answer\\r                Follow\\r            edited Dec 20 \\'15 at 20:57Bruno Ribeiro17844 bronze badges\\r        answered Jul 9 \\'13 at 21:59Isabella EngineerIsabella Engineer3,44311 gold badge1313 silver badges66 bronze badges3Won\\'t the first one lead to a null/empty array, instead of array with default values?\\r–vipin8169Feb 19 \\'17 at 0:25I agree on that point, and we can add one more feature, we can change the size dynamically.\\r–AdamIJKApr 26 \\'17 at 11:26I might argue with you on the point that a multidimensional array is a different \"type\" of array. It\\'s simply a term used to describe an array that happens to contain other arrays. Both the outer arrays and the inner arrays (and those in between, if they exist) are just regular arrays.\\r–Tim M.Jul 18 \\'17 at 15:19Add a comment|\\r            130\\r        Type[] variableName = new Type[capacity];Type[] variableName = {comma-delimited values};Type variableName[] = new Type[capacity]; Type variableName[] = {comma-delimited values};is also valid, but I prefer the brackets after the type, because it\\'s easier to see that the variable\\'s type is actually an array.ShareImprove this answer\\r                Follow\\r            edited Nov 12 \\'14 at 19:48rogerdpack52.8k3131 gold badges223223 silver badges342342 bronze badges\\r        answered Jul 29 \\'09 at 14:29NateNate16.3k55 gold badges4545 silver badges5858 bronze badges323I agree on that point.  The type of the variable is not \"TYPE\", but actually a TYPE[], so it makes sense to write it that way for me.\\r–ChetJul 29 \\'09 at 14:313Google style suggest this too.\\r–wenerMar 5 \\'14 at 12:4312Note that int[] a, b; will not be the same as int a[], b;, a mistake easy to make if you use the latter form.\\r–Jeroen VannevelMar 19 \\'15 at 1:46Add a comment|\\r            40\\r        There are various ways in which you can declare an array in Java:float floatArray[]; // Initialize laterint[] integerArray = new int[10];String[] array = new String[] {\"a\", \"b\"};You can find more information in the Sun tutorial site and the JavaDoc.ShareImprove this answer\\r                Follow\\r            edited Feb 6 \\'18 at 17:14Peter Mortensen28.9k2121 gold badges9696 silver badges123123 bronze badges\\r        answered Jul 29 \\'09 at 14:28AnirudhAnirudh2,14944 gold badges2424 silver badges3232 bronze badges0Add a comment|\\r            32\\r        I find it is helpful if you understand each part:Type[] name = new Type[5];Type[] is the type of the variable called name (\"name\" is called the identifier).  The literal \"Type\" is the base type, and the brackets mean this is the array type of that base. Array types are in turn types of their own, which allows you to make multidimensional arrays like Type[][] (the array type of Type[]). The keyword new says to allocate memory for the new array.  The number between the bracket says how large the new array will be and how much memory to allocate. For instance, if Java knows that the base type Type takes 32 bytes, and you want an array of size 5, it needs to internally allocate 32 * 5 = 160 bytes.You can also create arrays with the values already there, such asint[] name = {1, 2, 3, 4, 5};which not only creates the empty space but fills it with those values. Java can tell that the primitives are integers and that there are 5 of them, so the size of the array can be determined implicitly.ShareImprove this answer\\r                Follow\\r            edited Oct 12 \\'13 at 9:45Ryan70277 silver badges2121 bronze badges\\r        answered Jul 29 \\'09 at 14:29ChetChet19.2k1010 gold badges3636 silver badges5757 bronze badges1So it is not necessary to include int[] name = new int[5] ?\\r–Cookie MonsterJun 28 \\'18 at 10:26Add a comment|\\r            30\\r        The following shows the declaration of an array, but the array is not initialized: int[] myIntArray = new int[3];The following shows the declaration as well as initialization of the array:int[] myIntArray = {1,2,3};Now, the following also shows the declaration as well as initialization of the array:int[] myIntArray = new int[]{1,2,3};But this third one shows the property of anonymous array-object creation which is pointed by a reference variable \"myIntArray\", so if we write just \"new int[]{1,2,3};\" then this is how anonymous array-object can be created.If we just write:int[] myIntArray;this is not declaration of array, but the following statement makes the above declaration complete:myIntArray=new int[3];ShareImprove this answer\\r                Follow\\r            edited Jun 22 \\'14 at 21:57Peter Mortensen28.9k2121 gold badges9696 silver badges123123 bronze badges\\r        answered Jun 4 \\'13 at 6:02Amit BhandariAmit Bhandari50166 silver badges88 bronze badges33There is absolutely no difference between the second and third approaches, other than that the second approach only works when you\\'re also declaring a variable. It\\'s not clear what you mean by \"shows the property of anonymous array-object creation\" but they really are equivalent pieces of code.\\r–Jon SkeetFeb 21 \\'15 at 23:086Also, the first snippet does initialize the array - it is guaranteed to have the value 0 for every array element.\\r–Jon SkeetFeb 21 \\'15 at 23:12Is there really no difference between the second and the third one approaches?\\r–eigenfieldJan 15 \\'20 at 6:28Add a comment|\\r            27\\r        Alternatively,// Either method worksString arrayName[] = new String[10];String[] arrayName = new String[10];That declares an array called arrayName of size 10 (you have elements 0 through 9 to use).ShareImprove this answer\\r                Follow\\r            \\r        answered Jul 29 \\'09 at 14:25Thomas OwensThomas Owens109k9494 gold badges301301 silver badges428428 bronze badges37What is the standard for which to use? I\\'ve only just discovered the former, and I find it horrifically misleading :|\\r–Anti EarthOct 3 \\'12 at 4:202For what it\\'s worth my prof said that the second way is more typical in Java and that it better conveys what is going on; as an array related to the type the variable was cast as.\\r–CeleritasAug 9 \\'13 at 4:503For a side note: A language having more than one semantics for declaring one thing meaning bad language design.\\r–Muhammad SulemanMay 5 \\'15 at 11:17Add a comment|\\r            25\\r        Also, in case you want something more dynamic there is the List interface.  This will not perform as well, but is more flexible:List<String> listOfString = new ArrayList<String>();listOfString.add(\"foo\");listOfString.add(\"bar\");String value = listOfString.get(0);assertEquals( value, \"foo\" );ShareImprove this answer\\r                Follow\\r            edited Mar 19 \\'13 at 10:41Paresh Mayani124k6969 gold badges236236 silver badges291291 bronze badges\\r        answered Jul 29 \\'09 at 15:56DaveDave12.4k55 gold badges3939 silver badges4848 bronze badges22what is the \"<>\" called in the list that you created ?\\r–CyprUSAug 27 \\'15 at 0:05@CyprUS List is a generic class, it has a type as a parameter, enclosed in <>. That helps because you only need to define a generic type once and you can then use it with multiple different types. For a more detailed explanation look at docs.oracle.com/javase/tutorial/java/generics/types.html\\r–HeimdallNov 29 \\'18 at 14:27Add a comment|\\r            16\\r        There are two main ways to make an array:This one, for an empty array:int[] array = new int[n]; // \"n\" being the number of spaces to allocate in the arrayAnd this one, for an initialized array:int[] array = {1,2,3,4 ...};You can also make multidimensional arrays, like this:int[][] array2d = new int[x][y]; // \"x\" and \"y\" specify the dimensionsint[][] array2d = { {1,2,3 ...}, {4,5,6 ...} ...};ShareImprove this answer\\r                Follow\\r            edited Jun 25 \\'16 at 22:00Peter Mortensen28.9k2121 gold badges9696 silver badges123123 bronze badges\\r        answered Jan 28 \\'16 at 19:19codecubedcodecubed71077 silver badges88 bronze badges0Add a comment|\\r            11\\r        Take the primitive type int for example. There are several ways to declare and int array:int[] i = new int[capacity];int[] i = new int[] {value1, value2, value3, etc};int[] i = {value1, value2, value3, etc};where in all of these, you can use int i[] instead of int[] i.With reflection, you can use (Type[]) Array.newInstance(Type.class, capacity);Note that in method parameters, ... indicates variable arguments. Essentially, any number of parameters is fine. It\\'s easier to explain with code:public static void varargs(int fixed1, String fixed2, int... varargs) {...}...varargs(0, \"\", 100); // fixed1 = 0, fixed2 = \"\", varargs = {100}varargs(0, \"\", 100, 200); // fixed1 = 0, fixed2 = \"\", varargs = {100, 200};Inside the method, varargs is treated as a normal int[]. Type... can only be used in method parameters, so int... i = new int[] {} will not compile.Note that when passing an int[] to a method (or any other Type[]), you cannot use the third way. In the statement int[] i = *{a, b, c, d, etc}*, the compiler assumes that the {...} means an int[]. But that is because you are declaring a variable. When passing an array to a method, the declaration must either be new Type[capacity] or new Type[] {...}.Multidimensional ArraysMultidimensional arrays are much harder to deal with. Essentially, a 2D array is an array of arrays. int[][] means an array of int[]s. The key is that if an int[][] is declared as int[x][y], the maximum index is i[x-1][y-1]. Essentially, a rectangular int[3][5] is:[0, 0] [1, 0] [2, 0][0, 1] [1, 1] [2, 1][0, 2] [1, 2] [2, 2][0, 3] [1, 3] [2, 3][0, 4] [1, 4] [2, 4]ShareImprove this answer\\r                Follow\\r            edited May 23 \\'15 at 20:09Unheilig15.8k193193 gold badges6565 silver badges9696 bronze badges\\r        answered May 23 \\'15 at 19:56hyper-neutrinohyper-neutrino4,61522 gold badges2222 silver badges4545 bronze badgesAdd a comment|\\r            11\\r        In Java 9Using different IntStream.iterate and IntStream.takeWhile methods:int[] a = IntStream.iterate(10, x -> x <= 100, x -> x + 10).toArray();Out: [10, 20, 30, 40, 50, 60, 70, 80, 90, 100]int[] b = IntStream.iterate(0, x -> x + 1).takeWhile(x -> x < 10).toArray();Out: [0, 1, 2, 3, 4, 5, 6, 7, 8, 9]In Java 10Using the Local Variable Type Inference:var letters = new String[]{\"A\", \"B\", \"C\"};ShareImprove this answer\\r                Follow\\r            edited May 22 \\'19 at 22:22\\r        answered Feb 21 \\'18 at 12:45Oleksandr PyrohovOleksandr Pyrohov13.4k55 gold badges5454 silver badges8686 bronze badges0Add a comment|\\r            10\\r        If you want to create arrays using reflections then you can do like this: int size = 3; int[] intArray = (int[]) Array.newInstance(int.class, size ); ShareImprove this answer\\r                Follow\\r            edited May 23 \\'15 at 20:08Unheilig15.8k193193 gold badges6565 silver badges9696 bronze badges\\r        answered Jan 20 \\'15 at 11:54Muhammad SulemanMuhammad Suleman2,75622 gold badges2323 silver badges3333 bronze badges1Why would you want to create an array that way?\\r–Dorian GrayJan 8 \\'20 at 19:38Add a comment|\\r            10\\r        In Java 8 you can use something like this.String[] strs = IntStream.range(0, 15)  // 15 is the size    .mapToObj(i -> Integer.toString(i))    .toArray(String[]::new);ShareImprove this answer\\r                Follow\\r            edited Jan 2 at 1:59Peter Mortensen28.9k2121 gold badges9696 silver badges123123 bronze badges\\r        answered Mar 8 \\'18 at 18:21Chamly IdunilChamly Idunil1,56811 gold badge1212 silver badges2727 bronze badgesAdd a comment|\\r            9\\r        Declaring an array of object references:class Animal {}class Horse extends Animal {    public static void main(String[] args) {        /*         * Array of Animal can hold Animal and Horse (all subtypes of Animal allowed)         */        Animal[] a1 = new Animal[10];        a1[0] = new Animal();        a1[1] = new Horse();        /*         * Array of Animal can hold Animal and Horse and all subtype of Horse         */        Animal[] a2 = new Horse[10];        a2[0] = new Animal();        a2[1] = new Horse();        /*         * Array of Horse can hold only Horse and its subtype (if any) and not           allowed supertype of Horse nor other subtype of Animal.         */        Horse[] h1 = new Horse[10];        h1[0] = new Animal(); // Not allowed        h1[1] = new Horse();        /*         * This can not be declared.         */        Horse[] h2 = new Animal[10]; // Not allowed    }}ShareImprove this answer\\r                Follow\\r            edited Jun 25 \\'16 at 21:59Peter Mortensen28.9k2121 gold badges9696 silver badges123123 bronze badges\\r        answered Oct 16 \\'15 at 10:18278718427871843,38188 gold badges3939 silver badges7272 bronze badgesAdd a comment|\\r            8\\r        Array is a sequential list of itemsint item = value;int [] one_dimensional_array = { value, value, value, .., value };int [][] two_dimensional_array ={  { value, value, value, .. value },  { value, value, value, .. value },    ..     ..     ..        ..  { value, value, value, .. value }};If it\\'s an object, then it\\'s the same conceptObject item = new Object();Object [] one_dimensional_array = { new Object(), new Object(), .. new Object() };Object [][] two_dimensional_array ={  { new Object(), new Object(), .. new Object() },  { new Object(), new Object(), .. new Object() },    ..            ..               ..  { new Object(), new Object(), .. new Object() }};In case of objects, you need to either assign it to null to initialize them using new Type(..), classes like String and Integer are special cases that will be handled as followingString [] a = { \"hello\", \"world\" };// is equivalent toString [] a = { new String({\\'h\\',\\'e\\',\\'l\\',\\'l\\',\\'o\\'}), new String({\\'w\\',\\'o\\',\\'r\\',\\'l\\',\\'d\\'}) };Integer [] b = { 1234, 5678 };// is equivalent toInteger [] b = { new Integer(1234), new Integer(5678) };In general you can create arrays that\\'s M dimensionalint [][]..[] array =//  ^ M times [] brackets    {{..{//  ^ M times { bracket//            this is array[0][0]..[0]//                         ^ M times [0]    }}..}//  ^ M times } bracket;It\\'s worthy to note that creating an M dimensional array is expensive in terms of Space. Since when you create an M dimensional array with N on all the dimensions, The total size of the array is bigger than N^M, since each array has a reference, and at the M-dimension there is an (M-1)-dimensional array of references. The total size is as followingSpace = N^M + N^(M-1) + N^(M-2) + .. + N^0//      ^                              ^ array reference//      ^ actual dataShareImprove this answer\\r                Follow\\r            edited Oct 21 \\'15 at 13:45\\r        answered Oct 21 \\'15 at 13:39Khaled.KKhaled.K5,58611 gold badge3131 silver badges4848 bronze badgesAdd a comment|\\r            7\\r        Declare and initialize for Java 8 and later. Create a simple integer array:int [] a1 = IntStream.range(1, 20).toArray();System.out.println(Arrays.toString(a1));// Output: [1, 2, 3, 4, 5, 6, 7, 8, 9, 10, 11, 12, 13, 14, 15, 16, 17, 18, 19]Create a random array for integers between [-50, 50] and for doubles [0, 1E17]:int [] a2 = new Random().ints(15, -50, 50).toArray();double [] a3 = new Random().doubles(5, 0, 1e17).toArray();Power-of-two sequence:double [] a4 = LongStream.range(0, 7).mapToDouble(i -> Math.pow(2, i)).toArray();System.out.println(Arrays.toString(a4));// Output: [1.0, 2.0, 4.0, 8.0, 16.0, 32.0, 64.0]For String[] you must specify a constructor:String [] a5 = Stream.generate(()->\"I will not squeak chalk\").limit(5).toArray(String[]::new);System.out.println(Arrays.toString(a5));Multidimensional arrays:String [][] a6 = List.of(new String[]{\"a\", \"b\", \"c\"} , new String[]{\"d\", \"e\", \"f\", \"g\"})    .toArray(new String[0][]);System.out.println(Arrays.deepToString(a6));// Output: [[a, b, c], [d, e, f, g]]ShareImprove this answer\\r                Follow\\r            edited Feb 21 \\'18 at 22:36Peter Mortensen28.9k2121 gold badges9696 silver badges123123 bronze badges\\r        answered Aug 25 \\'17 at 13:27Kirill PodlivaevKirill Podlivaev40677 silver badges1010 bronze badges2Are -50 and/or +50 actually included? That is, is the internal open at one or both ends?\\r–Peter MortensenFeb 21 \\'18 at 22:381-50 is included and +50 is excluded. This information from java api      \"given origin (inclusive) and bound (exclusive).\"  I use  interval declaration from wiki  . So I think  it will be more correct [-50, 50)\\r–Kirill PodlivaevMar 21 \\'18 at 9:56Add a comment|\\r            6\\r        For creating arrays of class Objects you can use the java.util.ArrayList. to define an array:public ArrayList<ClassName> arrayName;arrayName = new ArrayList<ClassName>();Assign values to the array:arrayName.add(new ClassName(class parameters go here);Read from the array:ClassName variableName = arrayName.get(index);Note:variableName is a reference to the array meaning that manipulating variableName will manipulate arrayNamefor loops://repeats for every value in the arrayfor (ClassName variableName : arrayName){}//Note that using this for loop prevents you from editing arrayNamefor loop that allows you to edit arrayName (conventional for loop):for (int i = 0; i < arrayName.size(); i++){    //manipulate array here}ShareImprove this answer\\r                Follow\\r            edited Aug 8 \\'16 at 10:10\\r        answered Aug 8 \\'16 at 10:01Samuel NewportSamuel Newport17511 silver badge1010 bronze badgesAdd a comment|\\r            5\\r        If by \"array\" you meant using java.util.Arrays, you can do it like that :List<String> number = Arrays.asList(\"1\", \"2\", \"3\");Out: [\"1\", \"2\", \"3\"]This one is pretty simple and straightforward.ShareImprove this answer\\r                Follow\\r            edited Jan 18 at 16:19\\r        answered Nov 14 \\'18 at 19:59SylhareSylhare3,46644 gold badges4141 silver badges5858 bronze badges3I didn\\'t see it in other answers so I thought I could add it.\\r–SylhareSep 13 \\'19 at 12:573A list is not an array\\r–TirnoJan 8 \\'20 at 16:25Sometime people mean arrays, when they want a list.\\r–SylhareJan 8 \\'20 at 20:22Add a comment|\\r            4\\r        Another way to declare and initialize ArrayList:private List<String> list = new ArrayList<String>(){{    add(\"e1\");    add(\"e2\");}};ShareImprove this answer\\r                Follow\\r            \\r        answered Aug 4 \\'17 at 7:42Clement.XuClement.Xu1,05011 gold badge1313 silver badges2424 bronze badgesAdd a comment|\\r            4\\r        There are a lot of answers here. I am adding a few tricky ways to create arrays (from an exam point of view it\\'s good to know this)Declare and define an arrayint intArray[] = new int[3];This will create an array of length 3. As it holds a primitive type, int, all values are set to 0 by default. For example,intArray[2]; // Will return 0Using box brackets [] before the variable nameint[] intArray = new int[3];intArray[0] = 1;  // Array content is now {1, 0, 0}Initialise and provide data to the arrayint[] intArray = new int[]{1, 2, 3};This time there isn\\'t any need to mention the size in the box bracket. Even a simple variant of this is:int[] intArray = {1, 2, 3, 4};An array of length 0int[] intArray = new int[0];int length = intArray.length; // Will return length 0Similar for multi-dimensional arraysint intArray[][] = new int[2][3];// This will create an array of length 2 and//each element contains another array of length 3.// { {0,0,0},{0,0,0} }int lenght1 = intArray.length; // Will return 2int length2 = intArray[0].length; // Will return 3Using box brackets before the variable:    int[][] intArray = new int[2][3];It\\'s absolutely fine if you put one box bracket at the end:    int[] intArray [] = new int[2][4];    int[] intArray[][] = new int[2][3][4]Some examples    int [] intArray [] = new int[][] {{1,2,3},{4,5,6}};    int [] intArray1 [] = new int[][] {new int[] {1,2,3}, new int [] {4,5,6}};    int [] intArray2 [] = new int[][] {new int[] {1,2,3},{4,5,6}}    // All the 3 arrays assignments are valid    // Array looks like {{1,2,3},{4,5,6}}It\\'s not mandatory that each inner element is of the same size.    int [][] intArray = new int[2][];    intArray[0] = {1,2,3};    intArray[1] = {4,5};    //array looks like {{1,2,3},{4,5}}    int[][] intArray = new int[][2] ; // This won\\'t compile. Keep this in mind.You have to make sure if you are using the above syntax, that the forward direction you have to specify the values in box brackets. Else it won\\'t compile. Some examples:    int [][][] intArray = new int[1][][];    int [][][] intArray = new int[1][2][];    int [][][] intArray = new int[1][2][3];Another important feature is covariant    Number[] numArray = {1,2,3,4};   // java.lang.Number    numArray[0] = new Float(1.5f);   // java.lang.Float    numArray[1] = new Integer(1);    // java.lang.Integer   // You can store a subclass object in an array that is declared   // to be of the type of its superclass.   // Here \\'Number\\' is the superclass for both Float and Integer.   Number num[] = new Float[5]; // This is also validIMPORTANT: For referenced types, the default value stored in the array is null.ShareImprove this answer\\r                Follow\\r            edited Sep 7 \\'19 at 17:23Peter Mortensen28.9k2121 gold badges9696 silver badges123123 bronze badges\\r        answered Mar 28 \\'19 at 10:05ArundevArundev1,1081818 silver badges1818 bronze badges0Add a comment|\\r            4\\r        An array has two basic types.Static Array: Fixed size array (its size should be declared at the start and can not be changed later)Dynamic Array: No size limit is considered for this. (Pure dynamic arrays do not exist in Java. Instead, List is most encouraged.)To declare a static array of Integer, string, float, etc., use the below declaration and initialization statements.int[] intArray = new int[10];String[] intArray = new int[10];float[] intArray = new int[10];// Here you have 10 index starting from 0 to 9To use dynamic features, you have to use List...List is pure dynamic Array and there is no need to declare size at beginning.Below is the proper way to declare a list in Java -ArrayList<String> myArray = new ArrayList<String>();myArray.add(\"Value 1: something\");myArray.add(\"Value 2: something more\");ShareImprove this answer\\r                Follow\\r            edited Jan 2 at 1:51Peter Mortensen28.9k2121 gold badges9696 silver badges123123 bronze badges\\r        answered Feb 21 \\'20 at 5:15ZiaZia50944 silver badges1010 bronze badges11Thank you @Matheus for improving my answers. I would request you to upvote this, so this can reach more users.\\r–ZiaMar 19 \\'20 at 6:49Add a comment|\\r            3\\r        With local variable type inference you only have to specify the type once:var values = new int[] { 1, 2, 3 };Orint[] values = { 1, 2, 3 }ShareImprove this answer\\r                Follow\\r            edited Sep 7 \\'19 at 17:24Peter Mortensen28.9k2121 gold badges9696 silver badges123123 bronze badges\\r        answered Oct 31 \\'18 at 16:38Konstantin SpirinKonstantin Spirin18.4k1313 gold badges6464 silver badges8888 bronze badges2Java does not have var.\\r–Cameron HudsonOct 18 \\'19 at 22:396@CameronHudson Java 10 has var openjdk.java.net/jeps/286\\r–Konstantin SpirinOct 23 \\'19 at 15:17Add a comment|\\r            2\\r        int[] x = new int[enter the size of array here];Example:int[] x = new int[10];              Orint[] x = {enter the elements of array here];Example:int[] x = {10, 65, 40, 5, 48, 31};ShareImprove this answer\\r                Follow\\r            edited Jan 2 at 1:47Peter Mortensen28.9k2121 gold badges9696 silver badges123123 bronze badges\\r        answered Feb 21 \\'20 at 18:13VirangaaVirangaa11977 bronze badgesAdd a comment|\\r            2\\r        An array can contain primitives data types as well as objects of a class depending on the definition of the array. In case of primitives data types, the actual values are stored in contiguous memory locations. In case of objects of a class, the actual objects are stored in the heap segment.One-Dimensional Arrays:The general form of a one-dimensional array declaration istype var-name[];ORtype[] var-name;Instantiating an Array in Javavar-name = new type [size];For example,int intArray[];  // Declaring an arrayintArray = new int[20];  // Allocating memory to the array// The below line is equal to line1 + line2int[] intArray = new int[20]; // Combining both statements in oneint[] intArray = new int[]{ 1, 2, 3, 4, 5, 6, 7, 8, 9, 10 };// Accessing the elements of the specified arrayfor (int i = 0; i < intArray.length; i++)    System.out.println(\"Element at index \" + i + \": \"+ intArray[i]);Ref: Arrays in JavaShareImprove this answer\\r                Follow\\r            edited Jan 2 at 1:56Peter Mortensen28.9k2121 gold badges9696 silver badges123123 bronze badges\\r        answered Jan 21 \\'20 at 1:12ZgpeaceZgpeace2,3372121 silver badges2121 bronze badgesAdd a comment|\\r            1\\r        Declare Array: int[] arr;Initialize Array: int[] arr = new int[10]; 10 represents the number of elements allowed in the arrayDeclare Multidimensional Array: int[][] arr;Initialize Multidimensional Array: int[][] arr = new int[10][17]; 10 rows and 17 columns and 170 elements because 10 times 17 is 170.Initializing an array means specifying the size of it. ShareImprove this answer\\r                Follow\\r            \\r        answered Jun 10 \\'19 at 0:57kunduskundus9166 bronze badgesAdd a comment|\\r            1\\r        package com.examplehub.basics;import java.util.Arrays;public class Array {    public static void main(String[] args) {        int[] numbers = {1, 2, 3, 4, 5};        /*         * numbers[0] = 1         * numbers[1] = 2         * numbers[2] = 3         * numbers[3] = 4         * numbers[4] = 5         */        System.out.println(\"numbers[0] = \" + numbers[0]);        System.out.println(\"numbers[1] = \" + numbers[1]);        System.out.println(\"numbers[2] = \" + numbers[2]);        System.out.println(\"numbers[3] = \" + numbers[3]);        System.out.println(\"numbers[4] = \" + numbers[4]);        /*         * Array index is out of bounds         */        //System.out.println(numbers[-1]);        //System.out.println(numbers[5]);        /*         * numbers[0] = 1         * numbers[1] = 2         * numbers[2] = 3         * numbers[3] = 4         * numbers[4] = 5         */        for (int i = 0; i < 5; i++) {            System.out.println(\"numbers[\" + i + \"] = \" + numbers[i]);        }        /*         * Length of numbers = 5         */        System.out.println(\"length of numbers = \" + numbers.length);        /*         * numbers[0] = 1         * numbers[1] = 2         * numbers[2] = 3         * numbers[3] = 4         * numbers[4] = 5         */        for (int i = 0; i < numbers.length; i++) {            System.out.println(\"numbers[\" + i + \"] = \" + numbers[i]);        }        /*         * numbers[4] = 5         * numbers[3] = 4         * numbers[2] = 3         * numbers[1] = 2         * numbers[0] = 1         */        for (int i = numbers.length - 1; i >= 0; i--) {            System.out.println(\"numbers[\" + i + \"] = \" + numbers[i]);        }        /*         * 12345         */        for (int number : numbers) {            System.out.print(number);        }        System.out.println();        /*         * [1, 2, 3, 4, 5]         */        System.out.println(Arrays.toString(numbers));        String[] company = {\"Google\", \"Facebook\", \"Amazon\", \"Microsoft\"};        /*         * company[0] = Google         * company[1] = Facebook         * company[2] = Amazon         * company[3] = Microsoft         */        for (int i = 0; i < company.length; i++) {            System.out.println(\"company[\" + i + \"] = \" + company[i]);        }        /*         * Google         * Facebook         * Amazon         * Microsoft         */        for (String c : company) {            System.out.println(c);        }        /*         * [Google, Facebook, Amazon, Microsoft]         */        System.out.println(Arrays.toString(company));        int[][] twoDimensionalNumbers = {                {1, 2, 3},                {4, 5, 6, 7},                {8, 9},                {10, 11, 12, 13, 14, 15}        };        /*         * total rows  = 4         */        System.out.println(\"total rows  = \" + twoDimensionalNumbers.length);        /*         * row 0 length = 3         * row 1 length = 4         * row 2 length = 2         * row 3 length = 6         */        for (int i = 0; i < twoDimensionalNumbers.length; i++) {            System.out.println(\"row \" + i + \" length = \" + twoDimensionalNumbers[i].length);        }        /*         * row 0 = 1 2 3         * row 1 = 4 5 6 7         * row 2 = 8 9         * row 3 = 10 11 12 13 14 15         */        for (int i = 0; i < twoDimensionalNumbers.length; i++) {            System.out.print(\"row \" + i + \" = \");            for (int j = 0; j < twoDimensionalNumbers[i].length; j++) {                System.out.print(twoDimensionalNumbers[i][j] + \" \");            }            System.out.println();        }        /*         * row 0 = [1, 2, 3]         * row 1 = [4, 5, 6, 7]         * row 2 = [8, 9]         * row 3 = [10, 11, 12, 13, 14, 15]         */        for (int i = 0; i < twoDimensionalNumbers.length; i++) {            System.out.println(\"row \" + i + \" = \" + Arrays.toString(twoDimensionalNumbers[i]));        }        /*         * 1 2 3         * 4 5 6 7         * 8 9         * 10 11 12 13 14 15         */        for (int[] ints : twoDimensionalNumbers) {            for (int num : ints) {                System.out.print(num + \" \");            }            System.out.println();        }        /*         * [1, 2, 3]         * [4, 5, 6, 7]         * [8, 9]         * [10, 11, 12, 13, 14, 15]         */        for (int[] ints : twoDimensionalNumbers) {            System.out.println(Arrays.toString(ints));        }        int length = 5;        int[] array = new int[length];        for (int i = 0; i < 5; i++) {            array[i] = i + 1;        }        /*         * [1, 2, 3, 4, 5]         */        System.out.println(Arrays.toString(array));    }}Source from examplehub/javaShareImprove this answer\\r                Follow\\r            edited Jan 2 at 1:44Peter Mortensen28.9k2121 gold badges9696 silver badges123123 bronze badges\\r        answered Oct 5 \\'20 at 1:55shellhubshellhub2,9052222 silver badges1414 bronze badges1An explanation would be in order.\\r–Peter MortensenJan 2 at 1:45Add a comment|\\r            1\\r        One another full example with a movies class:public class A {    public static void main(String[] args) {        class Movie {            String movieName;            String genre;            String movieType;            String year;            String ageRating;            String rating;            public Movie(String [] str)            {                this.movieName = str[0];                this.genre = str[1];                this.movieType = str[2];                this.year = str[3];                this.ageRating = str[4];                this.rating = str[5];            }        }        String [] movieDetailArr = {\"Inception\", \"Thriller\", \"MovieType\", \"2010\", \"13+\", \"10/10\"};        Movie mv = new Movie(movieDetailArr);        System.out.println(\"Movie Name: \"+ mv.movieName);        System.out.println(\"Movie genre: \"+ mv.genre);        System.out.println(\"Movie type: \"+ mv.movieType);        System.out.println(\"Movie year: \"+ mv.year);        System.out.println(\"Movie age : \"+ mv.ageRating);        System.out.println(\"Movie  rating: \"+ mv.rating);    }}ShareImprove this answer\\r                Follow\\r            edited Jan 2 at 1:46Peter Mortensen28.9k2121 gold badges9696 silver badges123123 bronze badges\\r        answered May 31 \\'20 at 17:05Dupinder SinghDupinder Singh4,91033 gold badges2828 silver badges4646 bronze badgesAdd a comment|\\r            0\\r        It\\'s very easy to declare and initialize an array.For example, you want to save five integer elements which are 1, 2, 3, 4, and 5 in an array. You can do it in the following way:a)int[] a = new int[5];orb)int[] a = {1, 2, 3, 4, 5};so the basic pattern is for initialization and declaration by method a) is:datatype[] arrayname = new datatype[requiredarraysize];datatype should be in lower case.So the basic pattern is for initialization and declaration by method a is:If it\\'s a string array:String[] a = {\"as\", \"asd\", \"ssd\"};If it\\'s a character array:char[] a = {\\'a\\', \\'s\\', \\'w\\'};For float double, the format of array will be same as integer.For example:double[] a = {1.2, 1.3, 12.3};but when you declare and initialize the array by \"method a\" you will have to enter the values manually or by loop or something.But when you do it by \"method b\" you will not have to enter the values manually.ShareImprove this answer\\r                Follow\\r            edited Sep 7 \\'19 at 17:17Peter Mortensen28.9k2121 gold badges9696 silver badges123123 bronze badges\\r        answered Aug 4 \\'19 at 12:06Syed Salman HassanSyed Salman Hassan3833 bronze badgesAdd a comment|',\n",
              " '/questions/46155/how-to-validate-an-email-address-in-javascript': '5868\\r        Using regular expressions is probably the best way. You can see a bunch of tests here (taken from chromium)function validateEmail(email) {    const re = /^(([^<>()[].,;:s@\"]+(.[^<>()[].,;:s@\"]+)*)|(\".+\"))@(([[0-9]{1,3}.[0-9]{1,3}.[0-9]{1,3}.[0-9]{1,3}])|(([a-zA-Z-0-9]+.)+[a-zA-Z]{2,}))$/;    return re.test(String(email).toLowerCase());}Here\\'s the example of regular expresion that accepts unicode:const re = /^(([^<>()[].,;:s@\"]+(.[^<>()[].,;:s@\"]+)*)|(\".+\"))@(([^<>()[].,;:s@\"]+.)+[^<>()[].,;:s@\"]{2,})$/i;But keep in mind that one should not rely only upon JavaScript validation. JavaScript can easily be disabled. This should be validated on the server side as well.Here\\'s an example of the above in action:function validateEmail(email) {  const re = /^(([^<>()[].,;:s@\"]+(.[^<>()[].,;:s@\"]+)*)|(\".+\"))@(([[0-9]{1,3}.[0-9]{1,3}.[0-9]{1,3}.[0-9]{1,3}])|(([a-zA-Z-0-9]+.)+[a-zA-Z]{2,}))$/;  return re.test(email);}function validate() {  const $result = $(\"#result\");  const email = $(\"#email\").val();  $result.text(\"\");  if (validateEmail(email)) {    $result.text(email + \" is valid :)\");    $result.css(\"color\", \"green\");  } else {    $result.text(email + \" is not valid :(\");    $result.css(\"color\", \"red\");  }  return false;}$(\"#email\").on(\"input\", validate);<script src=\"https://ajax.googleapis.com/ajax/libs/jquery/2.1.1/jquery.min.js\"></script><label for=email>Enter an email address:</label><input id=\"email\"><h2 id=\"result\"></h2>ShareImprove this answer\\r                Follow\\r            edited Jul 16 at 22:56\\r            community wiki\\r        \\r        25 revs, 23 users 35%rnevius8654This regex eliminates valid, in-use emails.  Do not use.  Google for \"RFC822\" or \"RFC2822\" to get a proper regex.\\r–Randal SchwartzSep 8 \\'10 at 2:3460This doesn\\'t even accept the examples in RFC 822. Some simple cases it doesn\\'t match a@b@c.com, a(b)@c.com. See the RFC for more. Here\\'s a regex that won\\'t reject any valid addresses [^@]+@[^@]+.[^@]+ and protects against common errors.\\r–VrooOct 26 \\'12 at 6:32190You cannot validate email addresses, period. The only one who can validate an email address is the provider of the email address. For example, this answer says these email addresses: %2@gmail.com, \"%2\"@gmail.com, \"a..b\"@gmail.com, \"a_b\"@gmail.com, _@gmail.com, 1@gmail.com , 1_example@something.gmail.com are all valid, but Gmail will never allow any of these email addresses. You should do this by accepting the email address and sending an email message to that email address, with a code/link the user must visit to confirm validity.\\r–Kevin FeganFeb 1 \\'14 at 8:492@KevinFegan let\\'s be realistic: you would not be using JavaScript to confirm whether an e-mail is authentic. I see this validation as perfectly reasonable when a user signs up. You probably do not want to bother sending verification e-mails to addresses that cannot possibly exist. Some might also have outbound e-mail limits, making it north worth it to send e-mails to email@localhost, i don\\'t have an email or any other funny user inputs.\\r–undefinedJul 16 at 23:02gautam+@Gmail.com - showing is valid which should not\\r–Gautam ParmarAug 6 at 6:33|Show 3 more comments\\r            1076\\r        I\\'ve slightly modified Jaymon\\'s answer for people who want really simple validation in the form of:anystring@anystring.anystringThe regular expression:/S+@S+.S+/To prevent matching multiple @ signs:/^[^s@]+@[^s@]+.[^s@]+$/Example JavaScript function:function validateEmail(email)     {        var re = /S+@S+.S+/;        return re.test(email);    }    console.log(validateEmail(\\'anystring@anystring.anystring\\'));ShareImprove this answer\\r                Follow\\r            edited Jul 29 at 15:50\\r            community wiki\\r        \\r        9 revs, 9 users 37%C. Lee387You can implement something 20x as long that might cause problems for a few users and might not be valid in the future, or you can grab ImmortalFirefly\\'s version to make sure they at least put in the effort to make it look real. Depending on your application it may be more likely to come across  someone will get mad because you don\\'t accept their unconventional email, rather than someone who causes problems by entering email addresses that don\\'t really exist (which they can do anyways by entering a 100% valid RFC2822 email address but using an unregistered username or domain). Upvoted!\\r–user83358Jul 30 \\'12 at 18:20116@ImmortalFirefly, the regex you provided will actually match name@again@example.com. Try pasting your line into a JavaScript console. I believe your intention was to match only the entire text, which would require the beginning of text \\'^\\' and end of text \\'$\\' operators. The one I\\'m using is /^[^s@]+@[^s@]+.[^s@]+$/.test(\\'name@again@example.com\\')\\r–OregonTrailAug 9 \\'12 at 14:58The second regexp does not require a top-level domain, i.e. it accepts user@domain. But AFAIK this is actually a valid e-mail address, although uncommon. The first regexp requires a TLD, so it doesn\\'t cover these types of addresses.\\r–waldgeistJul 15 at 13:00Add a comment|\\r            850\\r        Just for completeness, here you have another RFC 2822 compliant regexThe official standard is known as RFC 2822. It describes the syntax that valid email addresses must adhere to. You can (but you shouldn\\'t — read on) implement it with this regular expression:(?:[a-z0-9!#$%&\\'*+/=?^_`{|}~-]+(?:.[a-z0-9!#$%&\\'*+/=?^_`{|}~-]+)*|\"(?:[x01-x08x0bx0cx0e-x1fx21x23-x5bx5d-x7f]|[x01-x09x0bx0cx0e-x7f])*\")@(?:(?:[a-z0-9](?:[a-z0-9-]*[a-z0-9])?.)+[a-z0-9](?:[a-z0-9-]*[a-z0-9])?|[(?:(?:25[0-5]|2[0-4][0-9]|[01]?[0-9][0-9]?).){3}(?:25[0-5]|2[0-4][0-9]|[01]?[0-9][0-9]?|[a-z0-9-]*[a-z0-9]:(?:[x01-x08x0bx0cx0e-x1fx21-x5ax53-x7f]|[x01-x09x0bx0cx0e-x7f])+)])(...) We get a more practical implementation of RFC 2822 if we omit the syntax using double quotes and square brackets. It will still match 99.99% of all email addresses in actual use today.[a-z0-9!#$%&\\'*+/=?^_`{|}~-]+(?:.[a-z0-9!#$%&\\'*+/=?^_`{|}~-]+)*@(?:[a-z0-9](?:[a-z0-9-]*[a-z0-9])?.)+[a-z0-9](?:[a-z0-9-]*[a-z0-9])?A further change you could make is to allow any two-letter country code top level domain, and only specific generic top level domains. This regex filters dummy email addresses like asdf@adsf.adsf. You will need to update it as new top-level domains are added.[a-z0-9!#$%&\\'*+/=?^_`{|}~-]+(?:.[a-z0-9!#$%&\\'*+/=?^_`{|}~-]+)*@(?:[a-z0-9](?:[a-z0-9-]*[a-z0-9])?.)+(?:[A-Z]{2}|com|org|net|gov|mil|biz|info|mobi|name|aero|jobs|museum)bSo even when following official standards, there are still trade-offs to be made. Don\\'t blindly copy regular expressions from online libraries or discussion forums. Always test them on your own data and with your own applications.Emphasis mineShareImprove this answer\\r                Follow\\r            edited Jun 20 \\'20 at 9:12\\r            community wiki\\r        \\r        7 revs, 5 users 83%voyager294NB: \"In actual use today\" may have been valid when the code was written, back in 200x. The code will likely remain in use beyond that specific year. (If I had a dime for every \"meh, no one will ever use a 4+-letter TLD except those specific ones\" I had to fix, I could corner the world\\'s copper and nickel market ;))\\r–Piskvor left the buildingJun 13 \\'12 at 15:51Note that this doesn\\'t catch some valid email addresses, like these emoji ones: mailoji.com\\r–Toastrackenigma19 mins agoAdd a comment|\\r            444\\r        Wow, there are lots of complexity here. If all you want to do is just catch the most obvious syntax errors, I would do something like this:^S+@S+$It usually catches the most obvious errors that the user makes and assures that the form is mostly right, which is what JavaScript validation is all about.EDIT:We can also check for \\'.\\' in the email using/^S+@S+.S+$/ShareImprove this answer\\r                Follow\\r            edited Sep 15 at 17:54\\r            community wiki\\r        \\r        5 revs, 5 users 44%Jaymon286+1 as sending email and seeing what happens is the only real sure way to validate an email address , theres no need to do more than a simple regex match.\\r–kommradHomerJul 19 \\'12 at 7:142But it won\\'t accept \"Mohit Atray\"@gmail.com because it contains space character. Maybe we should just use /^S.*@S+$/ regex.\\r–Mohit AtrayJul 8 at 19:57Add a comment|\\r            351\\r        There\\'s something you have to understand the second you decide to use a regular expression to validate emails: It\\'s probably not a good idea. Once you have come to terms with that, there are many implementations out there that can get you halfway there, this article sums them up nicely.In short, however, the only way to be absolutely, positively sure that what the user entered is in fact an email is to actually send an email and see what happens. Other than that it\\'s all just guesses.ShareImprove this answer\\r                Follow\\r            \\r        answered May 2 \\'09 at 17:18\\r            community wiki\\r        \\r        Paolo Bergantino\\r        171@kommradHomer -- a \"regex invalid\" address is almost always valid, because whatever regex you use to validate an email address is almost certainly wrong and will exclude valid email addresses. An email address is name_part@domain_part and practically anything, including an @, is valid in the name_part; The address foo@bar@machine.subdomain.example.museum is legal, although it must be escaped as foo@bar@machine..... Once the email reaches the domain e.g. \\'example.com\\' that domain can route the mail \"locally\" so \"strange\" usernames and hostnames can exist.\\r–Stephen PMar 7 \\'13 at 1:40Add a comment|\\r            248\\r        HTML5 itself has email validation. If your browser supports HTML5 then you can use the following code.<form>  <input type=\"email\" placeholder=\"me@example.com\" required>  <input type=\"submit\"></form>jsFiddle linkFrom the HTML5 spec:A valid e-mail address is a string that matches the email production of the following ABNF, the character set for which is Unicode.email   = 1*( atext / \".\" ) \"@\" label *( \".\" label )label   = let-dig [ [ ldh-str ] let-dig ]  ; limited to a length of 63 characters by RFC 1034 section 3.5atext   = < as defined in RFC 5322 section 3.2.3 >let-dig = < as defined in RFC 1034 section 3.5 >ldh-str = < as defined in RFC 1034 section 3.5 >This requirement is a willful violation of RFC 5322, which defines a syntax for e-mail addresses that is simultaneously too strict (before the \"@\" character), too vague (after the \"@\" character), and too lax (allowing comments, whitespace characters, and quoted strings in manners unfamiliar to most users) to be of practical use here.The following JavaScript- and Perl-compatible regular expression is an implementation of the above definition./^[a-zA-Z0-9.!#$%&\\'*+/=?^_`{|}~-]+@[a-zA-Z0-9](?:[a-zA-Z0-9-]{0,61}[a-zA-Z0-9])?(?:.[a-zA-Z0-9](?:[a-zA-Z0-9-]{0,61}[a-zA-Z0-9])?)*$/ShareImprove this answer\\r                Follow\\r            edited 19 hours ago\\r            community wiki\\r        \\r        8 revs, 6 users 33%Anoop136this is good, but the problem with this is that it must be inside a form tag and submitted by a submit input, which not everyone has the luxury of doing. Also, you can\\'t really style the error message.\\r–JasonNov 12 \\'11 at 0:08Add a comment|\\r            176\\r        I have found this to be the best solution:/^[^s@]+@[^s@]+.[^s@]+$/It allows the following formats:1.  prettyandsimple@example.com2.  very.common@example.com3.  disposable.style.email.with+symbol@example.com4.  other.email-with-dash@example.com9.  #!$%&\\'*+-/=?^_`{}|~@example.org6.  \"()[]:,;@\"!#$%&\\'*+-/=?^_`{}| ~.a\"@example.org7.  \" \"@example.org (space between the quotes)8.  üñîçøðé@example.com (Unicode characters in local part)9.  üñîçøðé@üñîçøðé.com (Unicode characters in domain part)10. Pelé@example.com (Latin)11. δοκιμή@παράδειγμα.δοκιμή (Greek)12. 我買@屋企.香港 (Chinese)13. 甲斐@黒川.日本 (Japanese)14. чебурашка@ящик-с-апельсинами.рф (Cyrillic)It\\'s clearly versatile and allows the all-important international characters, while still enforcing the basic anything@anything.anything format. It will block spaces which are technically allowed by RFC, but they are so rare that I\\'m happy to do this.ShareImprove this answer\\r                Follow\\r            \\r        answered Sep 21 \\'15 at 1:52\\r            community wiki\\r        \\r        Andrew\\r        0Add a comment|\\r            109\\r        In modern browsers you can build on top of @Sushil\\'s answer with pure JavaScript and the DOM:function validateEmail(value) {  var input = document.createElement(\\'input\\');  input.type = \\'email\\';  input.required = true;  input.value = value;  return typeof input.checkValidity === \\'function\\' ? input.checkValidity() : /S+@S+.S+/.test(value);}I\\'ve put together an example in the fiddle http://jsfiddle.net/boldewyn/2b6d5/. Combined with feature detection and the bare-bones validation from Squirtle\\'s Answer, it frees you from the regular expression massacre and does not bork on old browsers.ShareImprove this answer\\r                Follow\\r            edited Jul 25 \\'18 at 7:07\\r            community wiki\\r        \\r        6 revs, 4 users 66%Boldewyn12This should be the accepted answer by a long shot. Let browser vendors with on staff regex gurus maintain massively complicated regexes for email addresses. Your average frontend dev building a form for collecting email does not often have time to master verbose regex. Yes you have to rely on the regex the vendor provides, but if you need something more complex, do it on the server and or send an actual email and check the response\\r–MattJul 16 at 11:04Add a comment|\\r            77\\r        This is the correct RFC822 version.function checkEmail(emailAddress) {  var sQtext = \\'[^x0dx22x5cx80-xff]\\';  var sDtext = \\'[^x0dx5b-x5dx80-xff]\\';  var sAtom = \\'[^x00-x20x22x28x29x2cx2ex3a-x3cx3ex40x5b-x5dx7f-xff]+\\';  var sQuotedPair = \\'x5c[x00-x7f]\\';  var sDomainLiteral = \\'x5b(\\' + sDtext + \\'|\\' + sQuotedPair + \\')*x5d\\';  var sQuotedString = \\'x22(\\' + sQtext + \\'|\\' + sQuotedPair + \\')*x22\\';  var sDomain_ref = sAtom;  var sSubDomain = \\'(\\' + sDomain_ref + \\'|\\' + sDomainLiteral + \\')\\';  var sWord = \\'(\\' + sAtom + \\'|\\' + sQuotedString + \\')\\';  var sDomain = sSubDomain + \\'(x2e\\' + sSubDomain + \\')*\\';  var sLocalPart = sWord + \\'(x2e\\' + sWord + \\')*\\';  var sAddrSpec = sLocalPart + \\'x40\\' + sDomain; // complete RFC822 email address spec  var sValidEmail = \\'^\\' + sAddrSpec + \\'$\\'; // as whole string  var reValidEmail = new RegExp(sValidEmail);  return reValidEmail.test(emailAddress);}ShareImprove this answer\\r                Follow\\r            edited Feb 25 \\'15 at 15:18\\r            community wiki\\r        \\r        2 revs, 2 users 91%bvl6IDN addresses are not validated (info@üpöü.com)\\r–D.A.HAug 17 \\'14 at 17:38\\'a@a\\' returns valid: jsfiddle.net/pmiranda/guoyh4dv\\r–pmirandaFeb 2 at 18:18@pmiranda That is a valid email address.\\r–ruoholaSep 29 at 11:01@ruohola it has not top-level domain (separated by periods) datatracker.ietf.org/doc/html/rfc3696\\r–pmirandaSep 29 at 11:591@pmiranda E.g. http://ai is someone\\'s valid domain, so they could use e.g. a@ai as their email.\\r–ruoholaSep 29 at 12:40|Show 1 more comment\\r            76\\r        JavaScript can match a regular expression:emailAddress.match( / some_regex /);Here\\'s an RFC22 regular expression for emails:^((?>[a-zA-Zd!#$%&\\'*+-/=?^_`{|}~]+x20*|\"((?=[x01-x7f])[^\"]|[x01-x7f])*\"x20*)*(?<angle><))?((?!.)(?>.?[a-zA-Zd!#$%&\\'*+-/=?^_`{|}~]+)+|\"((?=[x01-x7f])[^\"]|[x01-x7f])*\")@(((?!-)[a-zA-Zd-]+(?<!-).)+[a-zA-Z]{2,}|[(((?(?<![).)(25[0-5]|2[0-4]d|[01]?d?d)){4}|[a-zA-Zd-]*[a-zA-Zd]:((?=[x01-x7f])[^[]]|[x01-x7f])+)])(?(angle)>)$ShareImprove this answer\\r                Follow\\r            edited Aug 24 \\'13 at 20:45\\r            community wiki\\r        \\r        Ben Scheirman\\r        22@Kato: It uses some incompatible extensions, including (?> to stop backtracking and (?<angle><)…(?(angle)>) to avoid providing a lengthy |.\\r–Ry-♦ Mar 9 \\'14 at 20:05The match method returns an array, the test method, which returns a boolean, would be better for this situation.\\r–iPzardNov 7 \\'20 at 20:43Add a comment|\\r            73\\r        Correct validation of email address in compliance with the RFCs is not something that can be achieved with a one-liner regular expression. An article with the best solution I\\'ve found in PHP is What is a valid email address?. Obviously, it has been ported to Java. I think the function is too complex to be ported and used in JavaScript. JavaScript/node.js port: https://www.npmjs.com/package/email-addresses.A good practice is to validate your data on the client, but double-check the validation on the server. With this in mind, you can simply check whether a string looks like a valid email address on the client and perform the strict check on the server.Here\\'s the JavaScript function I use to check if a string looks like a valid mail address:function looksLikeMail(str) {    var lastAtPos = str.lastIndexOf(\\'@\\');    var lastDotPos = str.lastIndexOf(\\'.\\');    return (lastAtPos < lastDotPos && lastAtPos > 0 && str.indexOf(\\'@@\\') == -1 && lastDotPos > 2 && (str.length - lastDotPos) > 2);}Explanation:lastAtPos < lastDotPos: Last @ should be before last . since @ cannot be part of server name (as far as I know).lastAtPos > 0: There should be something (the email username) before the last @.str.indexOf(\\'@@\\') == -1: There should be no @@ in the address. Even if @ appears as the last character in email username, it has to be quoted so \" would be between that @ and the last @ in the address.lastDotPos > 2: There should be at least three characters before the last dot, for example a@b.com.(str.length - lastDotPos) > 2: There should be enough characters after the last dot to form a two-character domain. I\\'m not sure if the brackets are necessary.ShareImprove this answer\\r                Follow\\r            edited Oct 31 \\'18 at 9:15\\r            community wiki\\r        \\r        5 revs, 4 users 82%Miloš Rašić0Add a comment|\\r            71\\r        All email addresses contain an \\'at\\' (i.e. @) symbol. Test that necessary condition:email.includes(\\'@\\')Or, if you need to support IE/older browsers:email.indexOf(\\'@\\') > 0Don\\'t bother with anything more complicated. Even if you could perfectly determine whether an email is RFC-syntactically valid, that wouldn\\'t tell you whether it belongs to the person who supplied it. That\\'s what really matters.To test that, send a validation message.ShareImprove this answer\\r                Follow\\r            edited Sep 29 at 11:04\\r            community wiki\\r        \\r        7 revs, 5 users 57%Colonel Panic417what if there will be more than one \\'@\\' symbol? other restricted symbols? This validation cannot be trusted...\\r–iwazovskyApr 26 \\'15 at 10:14is a@b valid email ?\\r–AravinDec 20 \\'20 at 10:173Its better than most, yes you could have more than one @ with this, but that could also be a valid email like \"@\"@mydomain.jskd or elldffs(this is @ comment)@mydomain.kjfdij. Both are syntactically valid emails\\r–David MårtenssonFeb 16 at 18:372@Aravin Yes It is.\\r–ruoholaSep 29 at 11:01Add a comment|\\r            63\\r        This was stolen from http://codesnippets.joyent.com/posts/show/1917email = $(\\'email\\');filter = /^([a-zA-Z0-9_.-])+@(([a-zA-Z0-9-])+.)+([a-zA-Z0-9]{2,4})+$/;if (filter.test(email.value)) {  // Yay! valid  return true;}else  {return false;}ShareImprove this answer\\r                Follow\\r            \\r        answered May 2 \\'09 at 17:19\\r            community wiki\\r        \\r        Adam McKee\\r        0Add a comment|\\r            62\\r        Do this:^([a-zA-Z0-9!#$%&\\'*+/=?^_`{|}~-]+(?:.[a-zA-Z0-9!#$%&\\'*+/=?^_`{|}~-]+)*@(?:[a-zA-Z0-9](?:[a-zA-Z0-9-]*[a-zA-Z0-9])?.)+[a-zA-Z0-9](?:[a-zA-Z0-9-]*[a-zA-Z0-9])?)$It\\'s based on RFC 2822Test it at https://regex101.com/r/857lzc/1Often when storing email addresses in the database I make them lowercase and, in practice, regexs can usually be marked case insensitive. In those cases this is slightly shorter:[a-z0-9!#$%&\\'*+/=?^_`{|}~-]+(?:.[a-z0-9!#$%&\\'*+/=?^_`{|}~-]+)*@(?:[a-z0-9](?:[a-z0-9-]*[a-z0-9])?.)+[a-z0-9](?:[a-z0-9-]*[a-z0-9])?Here\\'s an example of it being used in JavaScript (with the case insensitive flag i at the end).var emailCheck=/^[a-z0-9!#$%&\\'*+/=?^_`{|}~-]+(?:.[a-z0-9!#$%&\\'*+/=?^_`{|}~-]+)*@(?:[a-z0-9](?:[a-z0-9-]*[a-z0-9])?.)+[a-z0-9](?:[a-z0-9-]*[a-z0-9])?$/i;console.log( emailCheck.test(\\'some.body@domain.co.uk\\') );Note:Technically some emails can include quotes in the section before the @ symbol with escape characters inside the quotes (so your email user can be obnoxious and contain stuff like @ and \"...\" as long as it\\'s written in quotes). NOBODY DOES THIS EVER! It\\'s obsolete. But, it IS included in the true RFC 2822 standard and omitted here.Note 2:The beginning of an email (before the @ sign) can be case sensitive (via the spec). However, anyone with a case-sensitive email is probably used to having issues, and, in practice, case insensitive is a safe assumption. More info: Are email addresses case sensitive?More info: http://www.regular-expressions.info/email.htmlShareImprove this answer\\r                Follow\\r            edited Jun 11 at 8:42\\r            community wiki\\r        \\r        10 revs, 4 users 71%Ryan Taylor11gautam+@Gmail.com - showing is valid which should not\\r–Gautam ParmarAug 6 at 6:33Add a comment|\\r            47\\r        I\\'m really looking forward to solve this problem.So I modified email validation regular expression above Original/^(([^<>()[].,;:s@\"]+(.[^<>()[].,;:s@\"]+)*)|(\".+\"))@(([[0-9]{1,3}.[0-9]{1,3}.[0-9]{1,3}.[0-9]{1,3}])|(([a-zA-Z-0-9]+.)+[a-zA-Z]{2,}))$/Modified/^(([^<>()[].,;:s@\"]+(.[^<>()[].,;:s@\"]+)*)|(\".+\"))@(([^<>().,;s@\"]+.{0,1})+[^<>().,;:s@\"]{2,})$/to pass the examples in Wikipedia Email Address.And you can see the result in here.ShareImprove this answer\\r                Follow\\r            edited Nov 13 \\'16 at 10:21\\r            community wiki\\r        \\r        2 revs, 2 users 97%Keith Lee0Add a comment|\\r            28\\r        Simply check out if the entered email address is valid or not using HTML.<input type=\"email\"/>There isn\\'t any need to write a function for validation.ShareImprove this answer\\r                Follow\\r            edited Mar 14 \\'14 at 16:30\\r            community wiki\\r        \\r        3 revs, 3 users 33%Learner0Add a comment|\\r            27\\r        You should not use regular expressions to validate an input string to check if it\\'s an email. It\\'s too complicated and would not cover all the cases.Now since you can only cover 90% of the cases, write something like:function isPossiblyValidEmail(txt) {   return txt.length > 5 && txt.indexOf(\\'@\\')>0;}You can refine it. For instance, \\'aaa@\\' is valid. But overall you get the gist. And don\\'t get carried away... A simple 90% solution is better than 100% solution that does not work. The world needs simpler code...ShareImprove this answer\\r                Follow\\r            edited Mar 9 \\'15 at 17:24\\r            community wiki\\r        \\r        5 revs, 2 users 79%Zo72123This allows the entry of so many invalid email addresses it is useless advice.\\r–cazlabJan 6 \\'12 at 23:07Add a comment|\\r            21\\r        It\\'s hard to get an email validator 100% correct. The only real way to get it correct would be to send a test email to the account. That said, there are a few basic checks that can help make sure that you\\'re getting something reasonable.Some things to improve:Instead of new RegExp, just try writing the regexp out like this:if (reg.test(/@/))Second, check to make sure that a period comes after the @ sign, and make sure that there are characters between the @s and periods. ShareImprove this answer\\r                Follow\\r            edited Apr 15 \\'18 at 10:15\\r            community wiki\\r        \\r        2 revs, 2 users 84%jacobangelAdd a comment|\\r            18\\r        This is how node-validator does it:/^(?:[w!#$%&\\'*+-/=?^`{|}~]+.)*[w!#$%&\\'*+-/=?^`{|}~]+@(?:(?:(?:[a-zA-Z0-9](?:[a-zA-Z0-9-](?!.)){0,61}[a-zA-Z0-9]?.)+[a-zA-Z0-9](?:[a-zA-Z0-9-](?!$)){0,61}[a-zA-Z0-9]?)|(?:[(?:(?:[01]?d{1,2}|2[0-4]d|25[0-5]).){3}(?:[01]?d{1,2}|2[0-4]d|25[0-5])]))$/ShareImprove this answer\\r                Follow\\r            edited Apr 15 \\'18 at 10:22\\r            community wiki\\r        \\r        4 revs, 3 users 85%peraAdd a comment|\\r            15\\r        A solution that does not check the existence of the TLD is incomplete.Almost all answers to this questions suggest using Regex to validate emails addresses. I think Regex is only good for a rudimentary validation. It seems that the checking validation of email addresses is actually two separate problems:1- Validation of email format: Making sure if the email complies with the format and pattern of emails in RFC 5322 and if the TLD actually exists. A list of all valid TLDs can be found here.For example, although the address example@example.ccc will pass the regex, it is not a valid email, because ccc is not a top-level domain by IANA.2- Making sure the email actually exists: For doing this, the only option is to send the users an email.ShareImprove this answer\\r                Follow\\r            edited Jul 2 \\'18 at 1:47\\r            community wiki\\r        \\r        2 revsbmanAdd a comment|\\r            14\\r        Use this code inside your validator function:var emailID = document.forms[\"formName\"][\"form element id\"].value;atpos = emailID.indexOf(\"@\");dotpos = emailID.lastIndexOf(\".\");if (atpos < 1 || ( dotpos - atpos < 2 )){    alert(\"Please enter correct email ID\")    return false;}Else you can use jQuery. Inside rules define:eMailId: {    required: true,    email: true}ShareImprove this answer\\r                Follow\\r            edited Apr 15 \\'18 at 10:23\\r            community wiki\\r        \\r        3 revs, 3 users 60%Orchid0Add a comment|\\r            14\\r        Regex update 2018! try thislet val = \\'email@domain.com\\';if(/^[a-z0-9][a-z0-9-_.]+@([a-z]|[a-z0-9]?[a-z0-9-]+[a-z0-9]).[a-z0-9]{2,10}(?:.[a-z]{2,10})?$/.test(val)) {   console.log(\\'passed\\');}typscript version complete//export const emailValid = (val:string):boolean => /^[a-z0-9][a-z0-9-_.]+@([a-z]|[a-z0-9]?[a-z0-9-]+[a-z0-9]).[a-z0-9]{2,10}(?:.[a-z]{2,10})?$/.test(val);more info https://git.io/vhEfcShareImprove this answer\\r                Follow\\r            edited Aug 7 \\'18 at 14:08\\r            community wiki\\r        \\r        5 revs, 3 users 78%Juan Pablo0Add a comment|\\r            13\\r        In contrast to squirtle, here is a complex solution, but it does a mighty fine job of validating emails properly:function isEmail(email) {     return /^((([a-z]|d|[!#$%&\\'*+-/=?^_`{|}~]|[u00A0-uD7FFuF900-uFDCFuFDF0-uFFEF])+(.([a-z]|d|[!#$%&\\'*+-/=?^_`{|}~]|[u00A0-uD7FFuF900-uFDCFuFDF0-uFFEF])+)*)|((x22)((((x20|x09)*(x0dx0a))?(x20|x09)+)?(([x01-x08x0bx0cx0e-x1fx7f]|x21|[x23-x5b]|[x5d-x7e]|[u00A0-uD7FFuF900-uFDCFuFDF0-uFFEF])|(([x01-x09x0bx0cx0d-x7f]|[u00A0-uD7FFuF900-uFDCFuFDF0-uFFEF]))))*(((x20|x09)*(x0dx0a))?(x20|x09)+)?(x22)))@((([a-z]|d|[u00A0-uD7FFuF900-uFDCFuFDF0-uFFEF])|(([a-z]|d|[u00A0-uD7FFuF900-uFDCFuFDF0-uFFEF])([a-z]|d|-|.|_|~|[u00A0-uD7FFuF900-uFDCFuFDF0-uFFEF])*([a-z]|d|[u00A0-uD7FFuF900-uFDCFuFDF0-uFFEF]))).)+(([a-z]|[u00A0-uD7FFuF900-uFDCFuFDF0-uFFEF])|(([a-z]|[u00A0-uD7FFuF900-uFDCFuFDF0-uFFEF])([a-z]|d|-|.|_|~|[u00A0-uD7FFuF900-uFDCFuFDF0-uFFEF])*([a-z]|[u00A0-uD7FFuF900-uFDCFuFDF0-uFFEF])))$/i.test(email);} Use like so:if (isEmail(\\'youremail@yourdomain.com\\')){ console.log(\\'This is email is valid\\'); }ShareImprove this answer\\r                Follow\\r            edited Jun 1 \\'16 at 5:12\\r            community wiki\\r        \\r        4 revs, 4 users 56%steve0Add a comment|\\r            13\\r        Regex for validating email address[a-z0-9!#$%&\\'*+/=?^_`{|}~-]+(?:.[a-z0-9!#$%&\\'*+/=?^_`{|}~-]+)*@(?:[a-z0-9](?:[a-z0-9-]*[a-z0-9])?.)+[a-z0-9](?:[a-z0-9-]*[a-z0-9])+ShareImprove this answer\\r                Follow\\r            edited Jul 5 \\'19 at 11:09\\r            community wiki\\r        \\r        7 revs, 5 users 59%Prabhat Kasera0Add a comment|\\r            13\\r        var testresultsfunction checkemail() {  var str = document.validation.emailcheck.value  var filter = /^([w-]+(?:.[w-]+)*)@((?:[w-]+.)*w[w-]{0,66}).([a-z]{2,6}(?:.[a-z]{2})?)$/i  if (filter.test(str))    testresults = true  else {    alert(\"Please input a valid email address!\")    testresults = false  }  return (testresults)}function checkbae() {  if (document.layers || document.getElementById || document.all)    return checkemail()  else    return true}<form name=\"validation\" onSubmit=\"return checkbae()\">  Please input a valid email address:<br />  <input type=\"text\" size=18 name=\"emailcheck\">  <input type=\"submit\" value=\"Submit\"></form>ShareImprove this answer\\r                Follow\\r            edited Aug 11 at 11:55\\r            community wiki\\r        \\r        3 revs, 3 users 52%Tugrul0Add a comment|\\r            12\\r        Here is a very good discussion about using regular expressions to validate email addresses; \"Comparing E-mail Address Validating Regular Expressions\"Here is the current top expression, that is JavaScript compatible, for reference purposes:/^[-a-z0-9~!$%^&*_=+}{\\'?]+(.[-a-z0-9~!$%^&*_=+}{\\'?]+)*@([a-z0-9_][-a-z0-9_]*(.[-a-z0-9_]+)*.(aero|arpa|biz|com|coop|edu|gov|info|int|mil|museum|name|net|org|pro|travel|mobi|[a-z][a-z])|([0-9]{1,3}.[0-9]{1,3}.[0-9]{1,3}.[0-9]{1,3}))(:[0-9]{1,5})?$/iShareImprove this answer\\r                Follow\\r            \\r        answered May 28 \\'10 at 22:05\\r            community wiki\\r        \\r        Eric Schoonover\\r        1Extremely outdated now.\\r–SlboxSep 3 at 19:02Add a comment|\\r            12\\r        Apparently, that\\'s it:/^([w!#$%&\\'*+-/=?^`{|}~]+.)*[w!#$%&\\'*+-/=?^`{|}~]+@((((([a-z0-9]{1}[a-z0-9-]{0,62}[a-z0-9]{1})|[a-z]).)+[a-z]{2,6})|(d{1,3}.){3}d{1,3}(:d{1,5})?)$/iTaken from http://fightingforalostcause.net/misc/2006/compare-email-regex.php on Oct 1 \\'10.But, of course, that\\'s ignoring internationalization.ShareImprove this answer\\r                Follow\\r            \\r        answered Oct 1 \\'10 at 9:37\\r            community wiki\\r        \\r        Félix Saparelli\\r        0Add a comment|\\r            12\\r        My knowledge of regular expressions is not that good. That\\'s why I check the general syntax with a simple regular expression first and check more specific options with other functions afterwards. This may not be not the best technical solution, but this way I\\'m way more flexible and faster.The most common errors I\\'ve come across are spaces (especially at the beginning and end) and occasionally a double dot.function check_email(val){    if(!val.match(/S+@S+.S+/)){ // Jaymon\\'s / Squirtle\\'s solution        // Do something        return false;    }    if( val.indexOf(\\' \\')!=-1 || val.indexOf(\\'..\\')!=-1){        // Do something        return false;    }    return true;}check_email(\\'check@thiscom\\'); // Returns falsecheck_email(\\'check@this..com\\'); // Returns falsecheck_email(\\' check@this.com\\'); // Returns falsecheck_email(\\'check@this.com\\'); // Returns trueShareImprove this answer\\r                Follow\\r            edited Mar 14 \\'14 at 16:29\\r            community wiki\\r        \\r        3 revs, 2 users 78%LinkmichielAdd a comment|\\r            10\\r        Wikipedia standard mail syntax :https://en.wikipedia.org/wiki/Email_address#Exampleshttps://fr.wikipedia.org/wiki/Adresse_%C3%A9lectronique#Syntaxe_exactefunction validMail(mail){    return /^(([^<>()[].,;:s@\"]+(.[^<>()[].,;:s@\"]+)*)|(\".+\"))@(([^<>().,;s@\"]+.{0,1})+([^<>().,;:s@\"]{2,}|[d.]+))$/.test(mail);}// VALID MAILSvalidMail(\\'Abc@example.com\\') // Return truevalidMail(\\'Abc@example.com.\\') // Return truevalidMail(\\'Abc@10.42.0.1\\') // Return truevalidMail(\\'user@localserver\\') // Return truevalidMail(\\'Abc.123@example.com\\') // Return truevalidMail(\\'user+mailbox/department=shipping@example.com\\') // Return truevalidMail(\\'\"very.(),:;<>[]\".VERY.\"very@ \"very\".unusual\"@strange.example.com\\') // Return truevalidMail(\\'!#$%&\\'*+-/=?^_`.{|}~@example.com\\') // Return truevalidMail(\\'\"()<>[]:,;@\"!#$%&\\'-/=?^_`{}| ~.a\"@example.org\\') // Return truevalidMail(\\'\"Abc@def\"@example.com\\') // Return truevalidMail(\\'\"Fred Bloggs\"@example.com\\') // Return truevalidMail(\\'\"Joe.Blow\"@example.com\\') // Return truevalidMail(\\'Loïc.Accentué@voilà.fr\\') // Return truevalidMail(\\'\" \"@example.org\\') // Return truevalidMail(\\'user@[IPv6:2001:DB8::1]\\') // Return true// INVALID MAILSvalidMail(\\'Abc.example.com\\') // Return falsevalidMail(\\'A@b@c@example.com\\') // Return falsevalidMail(\\'a\"b(c)d,e:f;g<h>i[jk]l@example.com\\') // Return falsevalidMail(\\'just\"not\"right@example.com\\') // Return falsevalidMail(\\'this is\"notallowed@example.com\\') // Return falsevalidMail(\\'this still\"notallowed@example.com\\') // Return falsevalidMail(\\'john..doe@example.com\\') // Return falsevalidMail(\\'john.doe@example..com\\') // Return falseShow this test : https://regex101.com/r/LHJ9gU/1ShareImprove this answer\\r                Follow\\r            \\r        answered Jun 21 \\'17 at 9:10\\r            community wiki\\r        \\r        Liberateur\\r        0Add a comment|\\r            10\\r        I was looking for a Regex in JS that passes all Email Address test cases:email@example.com Valid emailfirstname.lastname@example.com  Email contains dot in the address fieldemail@subdomain.example.com Email contains dot with subdomainfirstname+lastname@example.com   Plus sign is considered valid characteremail@192.0.2.123 Domain is valid IP addressemail@[192.0.2.123] Square bracket around IP address is considered valid“email”@example.com Quotes around email is considered valid1234567890@example.com Digits in address are validemail@domain-one.example Dash in domain name is valid_______@example.com Underscore in the address field is validemail@example.name .name is valid Top Level Domain nameemail@example.co.jp Dot in Top Level Domain name also considered valid (using co.jp as example here)firstname-lastname@example.com Dash in address field is validHere we go :http://regexr.com/3f07jOR regex:Regex = /(([^<>()[].,;:s@\"]+(.[^<>()[].,;:s@\"]+)*)|(\".+\"))@[*[a-zA-Z0-9-]+.[a-zA-Z0-9-.]+]*/ShareImprove this answer\\r                Follow\\r            edited Aug 2 \\'18 at 23:15\\r            community wiki\\r        \\r        4 revs, 3 users 82%Negin0Add a comment|'}"
            ]
          },
          "metadata": {},
          "execution_count": 7
        }
      ]
    },
    {
      "cell_type": "code",
      "metadata": {
        "id": "AyQ4O9oXBGHj"
      },
      "source": [
        "# function to get 2 random posts from hardwarezone\n",
        "def get_sample_from_hwz():\n",
        "    #URL_HWZ = 'https://www.hardwarezone.com.sg'\n",
        "    URL_HWZ = 'https://forums.hardwarezone.com.sg/'\n",
        "    links = []\n",
        "    # top 800 rating post\n",
        "    for i in trange(80):\n",
        "        content = requests.get(URL_HWZ, params={\"page\":i+1}).content\n",
        "        soup = BeautifulSoup(content, 'html.parser')\n",
        "        for j in soup.find_all('div',class_=\"structItem-title\"):\n",
        "            links.append((j.find('a').get(\"href\")))\n",
        "    choosen_2 = random.choices(links, k=2)\n",
        "\n",
        "    ans = {}\n",
        "    for link in choosen_2:\n",
        "        content = requests.get(URL_HWZ + link).content\n",
        "        soup = BeautifulSoup(content, 'html.parser')\n",
        "        temp = soup.find_all('article',class_='message-body js-selectToQuote')\n",
        "        \n",
        "        text = ''\n",
        "        for i in temp:\n",
        "          texts = i.find_all('div',class_='bbWrapper')\n",
        "          #print(i)\n",
        "          #print(texts)\n",
        "          #text += texts.get_text(texts)\n",
        "          for j in texts:\n",
        "            #print(j.get_text())\n",
        "            text += j.get_text()\n",
        "            text = clean_text(text)\n",
        "        ans[link] = text\n",
        "        #text += temp.get_text(temp)\n",
        "        #print(texts)\n",
        "        #for i in temp:\n",
        "         #  text_list = i[0]\n",
        "         #  text += i.get_text(text_list)\n",
        "        ##for i in temp:\n",
        "          #  text = clean_text(text)\n",
        "        #ans[link] = text\n",
        "        \n",
        "    return ans"
      ],
      "execution_count": null,
      "outputs": []
    },
    {
      "cell_type": "code",
      "metadata": {
        "colab": {
          "base_uri": "https://localhost:8080/"
        },
        "id": "z9vyh8sqBGHl",
        "outputId": "fe72b36c-29b5-41c0-d472-a3473c2be6e3"
      },
      "source": [
        "# get 2 random samples from hardwarezone out of the \n",
        "hwz_samples = get_sample_from_hwz()\n",
        "hwz_samples"
      ],
      "execution_count": null,
      "outputs": [
        {
          "output_type": "stream",
          "name": "stderr",
          "text": [
            "100%|██████████| 80/80 [00:40<00:00,  1.97it/s]\n"
          ]
        },
        {
          "output_type": "execute_result",
          "data": {
            "text/plain": [
              "{'/threads/anyone-know-what-happens-to-kpc-auntie-and-her-friend.6614765/': 'Her friend is 70plus live bungalow. Kpc was some lawyer or something\\t\\t\\t{\\t\\t\\t\\t\"lightbox_close\": \"Close\",\\t\\t\\t\\t\"lightbox_next\": \"Next\",\\t\\t\\t\\t\"lightbox_previous\": \"Previous\",\\t\\t\\t\\t\"lightbox_error\": \"The requested content cannot be loaded. Please try again later.\",\\t\\t\\t\\t\"lightbox_start_slideshow\": \"Start slideshow\",\\t\\t\\t\\t\"lightbox_stop_slideshow\": \"Stop slideshow\",\\t\\t\\t\\t\"lightbox_full_screen\": \"Full screen\",\\t\\t\\t\\t\"lightbox_thumbnails\": \"Thumbnails\",\\t\\t\\t\\t\"lightbox_download\": \"Download\",\\t\\t\\t\\t\"lightbox_share\": \"Share\",\\t\\t\\t\\t\"lightbox_zoom\": \"Zoom\",\\t\\t\\t\\t\"lightbox_new_window\": \"New window\",\\t\\t\\t\\t\"lightbox_toggle_sidebar\": \"Toggle sidebar\"\\t\\t\\t}who cares??',\n",
              " '/threads/itz-is-time-to-tell-him-hes-not-good-enough-hes-gotta-go.6614774/': 'Will he be told that?where can he go???ask some local bank give him directorship??Ubs or nolRedbull1628 said:where can he go???ask some local bank give him directorship??Click to expand...Work in his father in law’s company loh.sanzhu said:\\t\\t\\tWill he be told that?\\t\\tClick to expand... only him? or the whole team?Nope                                   .No clear plan3000 5000 10000Anyhow shoot any number like 4d sg pools outletEven Batman can’t get rid of himWhat can ordinary Singaporeans do\\t\\t\\t{\\t\\t\\t\\t\"lightbox_close\": \"Close\",\\t\\t\\t\\t\"lightbox_next\": \"Next\",\\t\\t\\t\\t\"lightbox_previous\": \"Previous\",\\t\\t\\t\\t\"lightbox_error\": \"The requested content cannot be loaded. Please try again later.\",\\t\\t\\t\\t\"lightbox_start_slideshow\": \"Start slideshow\",\\t\\t\\t\\t\"lightbox_stop_slideshow\": \"Stop slideshow\",\\t\\t\\t\\t\"lightbox_full_screen\": \"Full screen\",\\t\\t\\t\\t\"lightbox_thumbnails\": \"Thumbnails\",\\t\\t\\t\\t\"lightbox_download\": \"Download\",\\t\\t\\t\\t\"lightbox_share\": \"Share\",\\t\\t\\t\\t\"lightbox_zoom\": \"Zoom\",\\t\\t\\t\\t\"lightbox_new_window\": \"New window\",\\t\\t\\t\\t\"lightbox_toggle_sidebar\": \"Toggle sidebar\"\\t\\t\\t}u guys give him mandate last yr why he will not resignWon\\'t happen bah, unless he screwed up with LHL grandchildrens. Oh wait....nvmonly Sembawang GRC residents have the power.better to let the whole team go.He did not prepare well at all and lied abt it. Should send entire team to 枪毙 for 草菅人命He cant be gone until the clown dismisses himNo blame culture.Ownself check ownself. Sent from EDMWER app!The whole jiakliaobees need to goYou can\\'t tell a shameless man he\\'s incompetent cos he will never understandTowelie said:\\t\\t\\tHe did not prepare well at all and lied abt it. Should send entire team to 枪毙 for 草菅人命\\t\\tClick to expand...Can post link to some lies?need to get my online banter sorted outApp Time!!!Go sembcorp lo.. since he got support of sembawang..'}"
            ]
          },
          "metadata": {},
          "execution_count": 27
        }
      ]
    },
    {
      "cell_type": "code",
      "metadata": {
        "id": "-FMvS7PlBGHk"
      },
      "source": [
        "import time\n",
        "def get_sample_from_CNA():\n",
        "    URL_CNA = \"https://www.channelnewsasia.com\"\n",
        "    links = []\n",
        "    # 100 lastest news\n",
        "    for i in trange(80):\n",
        "      try:  \n",
        "        content = requests.get(URL_CNA + \"/latest-news\",headers= headers, timeout=30,verify=False).content\n",
        "      except:\n",
        "        time.sleep(5)\n",
        "        \n",
        "      soup = BeautifulSoup(content, 'html.parser')\n",
        "      \n",
        "    #print(soup)\n",
        "      #print(soup)\n",
        "      #print(soup.find_all(class_ = 'quick-link quick-link--list-object'))\n",
        "      for j in soup.find_all('a',class_= 'h6__link h6__link-- list-object__heading-link'):\n",
        "          links.append(j.get(\"href\"))\n",
        "    #print(links)\n",
        "    choosen_2 = random.choices(links, k=2)\n",
        "\n",
        "    ans = {}\n",
        "    for link in choosen_2:\n",
        "        content = requests.get(URL_CNA + link, headers=headers).content\n",
        "        soup = BeautifulSoup(content, 'html.parser')\n",
        "        temp = soup.find_all('div',class_='text-long')\n",
        "        text = ''\n",
        "        for i in temp:\n",
        "            text += i.get_text()\n",
        "        text = clean_text(text)\n",
        "        ans[URL_CNA + link] = text\n",
        "    \n",
        "    return ans"
      ],
      "execution_count": null,
      "outputs": []
    },
    {
      "cell_type": "code",
      "metadata": {
        "colab": {
          "base_uri": "https://localhost:8080/"
        },
        "id": "YcXcma9UuGbo",
        "outputId": "71f5c2a4-dd6b-4a86-aad2-d3f5801a0112"
      },
      "source": [
        "# get 2 random samples from cna out \n",
        "cna_samples = get_sample_from_CNA()\n",
        "cna_samples "
      ],
      "execution_count": null,
      "outputs": [
        {
          "output_type": "stream",
          "name": "stderr",
          "text": [
            "\r  0%|          | 0/80 [00:00<?, ?it/s]/usr/local/lib/python3.7/dist-packages/urllib3/connectionpool.py:847: InsecureRequestWarning: Unverified HTTPS request is being made. Adding certificate verification is strongly advised. See: https://urllib3.readthedocs.io/en/latest/advanced-usage.html#ssl-warnings\n",
            "  InsecureRequestWarning)\n",
            "  1%|▏         | 1/80 [00:00<00:48,  1.64it/s]/usr/local/lib/python3.7/dist-packages/urllib3/connectionpool.py:847: InsecureRequestWarning: Unverified HTTPS request is being made. Adding certificate verification is strongly advised. See: https://urllib3.readthedocs.io/en/latest/advanced-usage.html#ssl-warnings\n",
            "  InsecureRequestWarning)\n",
            "  2%|▎         | 2/80 [00:00<00:35,  2.21it/s]/usr/local/lib/python3.7/dist-packages/urllib3/connectionpool.py:847: InsecureRequestWarning: Unverified HTTPS request is being made. Adding certificate verification is strongly advised. See: https://urllib3.readthedocs.io/en/latest/advanced-usage.html#ssl-warnings\n",
            "  InsecureRequestWarning)\n",
            "  4%|▍         | 3/80 [00:01<00:31,  2.44it/s]/usr/local/lib/python3.7/dist-packages/urllib3/connectionpool.py:847: InsecureRequestWarning: Unverified HTTPS request is being made. Adding certificate verification is strongly advised. See: https://urllib3.readthedocs.io/en/latest/advanced-usage.html#ssl-warnings\n",
            "  InsecureRequestWarning)\n",
            "  5%|▌         | 4/80 [00:01<00:34,  2.20it/s]/usr/local/lib/python3.7/dist-packages/urllib3/connectionpool.py:847: InsecureRequestWarning: Unverified HTTPS request is being made. Adding certificate verification is strongly advised. See: https://urllib3.readthedocs.io/en/latest/advanced-usage.html#ssl-warnings\n",
            "  InsecureRequestWarning)\n",
            "  6%|▋         | 5/80 [00:02<00:30,  2.44it/s]/usr/local/lib/python3.7/dist-packages/urllib3/connectionpool.py:847: InsecureRequestWarning: Unverified HTTPS request is being made. Adding certificate verification is strongly advised. See: https://urllib3.readthedocs.io/en/latest/advanced-usage.html#ssl-warnings\n",
            "  InsecureRequestWarning)\n",
            "  8%|▊         | 6/80 [00:02<00:29,  2.55it/s]/usr/local/lib/python3.7/dist-packages/urllib3/connectionpool.py:847: InsecureRequestWarning: Unverified HTTPS request is being made. Adding certificate verification is strongly advised. See: https://urllib3.readthedocs.io/en/latest/advanced-usage.html#ssl-warnings\n",
            "  InsecureRequestWarning)\n",
            "  9%|▉         | 7/80 [00:02<00:27,  2.69it/s]/usr/local/lib/python3.7/dist-packages/urllib3/connectionpool.py:847: InsecureRequestWarning: Unverified HTTPS request is being made. Adding certificate verification is strongly advised. See: https://urllib3.readthedocs.io/en/latest/advanced-usage.html#ssl-warnings\n",
            "  InsecureRequestWarning)\n",
            " 10%|█         | 8/80 [00:03<00:30,  2.33it/s]/usr/local/lib/python3.7/dist-packages/urllib3/connectionpool.py:847: InsecureRequestWarning: Unverified HTTPS request is being made. Adding certificate verification is strongly advised. See: https://urllib3.readthedocs.io/en/latest/advanced-usage.html#ssl-warnings\n",
            "  InsecureRequestWarning)\n",
            " 11%|█▏        | 9/80 [00:03<00:29,  2.44it/s]/usr/local/lib/python3.7/dist-packages/urllib3/connectionpool.py:847: InsecureRequestWarning: Unverified HTTPS request is being made. Adding certificate verification is strongly advised. See: https://urllib3.readthedocs.io/en/latest/advanced-usage.html#ssl-warnings\n",
            "  InsecureRequestWarning)\n",
            " 12%|█▎        | 10/80 [00:04<00:27,  2.55it/s]/usr/local/lib/python3.7/dist-packages/urllib3/connectionpool.py:847: InsecureRequestWarning: Unverified HTTPS request is being made. Adding certificate verification is strongly advised. See: https://urllib3.readthedocs.io/en/latest/advanced-usage.html#ssl-warnings\n",
            "  InsecureRequestWarning)\n",
            " 14%|█▍        | 11/80 [00:04<00:30,  2.30it/s]/usr/local/lib/python3.7/dist-packages/urllib3/connectionpool.py:847: InsecureRequestWarning: Unverified HTTPS request is being made. Adding certificate verification is strongly advised. See: https://urllib3.readthedocs.io/en/latest/advanced-usage.html#ssl-warnings\n",
            "  InsecureRequestWarning)\n",
            " 15%|█▌        | 12/80 [00:05<00:27,  2.45it/s]/usr/local/lib/python3.7/dist-packages/urllib3/connectionpool.py:847: InsecureRequestWarning: Unverified HTTPS request is being made. Adding certificate verification is strongly advised. See: https://urllib3.readthedocs.io/en/latest/advanced-usage.html#ssl-warnings\n",
            "  InsecureRequestWarning)\n",
            " 16%|█▋        | 13/80 [00:05<00:26,  2.57it/s]/usr/local/lib/python3.7/dist-packages/urllib3/connectionpool.py:847: InsecureRequestWarning: Unverified HTTPS request is being made. Adding certificate verification is strongly advised. See: https://urllib3.readthedocs.io/en/latest/advanced-usage.html#ssl-warnings\n",
            "  InsecureRequestWarning)\n",
            " 18%|█▊        | 14/80 [00:05<00:28,  2.31it/s]/usr/local/lib/python3.7/dist-packages/urllib3/connectionpool.py:847: InsecureRequestWarning: Unverified HTTPS request is being made. Adding certificate verification is strongly advised. See: https://urllib3.readthedocs.io/en/latest/advanced-usage.html#ssl-warnings\n",
            "  InsecureRequestWarning)\n",
            " 19%|█▉        | 15/80 [00:06<00:25,  2.52it/s]/usr/local/lib/python3.7/dist-packages/urllib3/connectionpool.py:847: InsecureRequestWarning: Unverified HTTPS request is being made. Adding certificate verification is strongly advised. See: https://urllib3.readthedocs.io/en/latest/advanced-usage.html#ssl-warnings\n",
            "  InsecureRequestWarning)\n",
            " 20%|██        | 16/80 [00:06<00:24,  2.66it/s]/usr/local/lib/python3.7/dist-packages/urllib3/connectionpool.py:847: InsecureRequestWarning: Unverified HTTPS request is being made. Adding certificate verification is strongly advised. See: https://urllib3.readthedocs.io/en/latest/advanced-usage.html#ssl-warnings\n",
            "  InsecureRequestWarning)\n",
            " 21%|██▏       | 17/80 [00:06<00:22,  2.80it/s]/usr/local/lib/python3.7/dist-packages/urllib3/connectionpool.py:847: InsecureRequestWarning: Unverified HTTPS request is being made. Adding certificate verification is strongly advised. See: https://urllib3.readthedocs.io/en/latest/advanced-usage.html#ssl-warnings\n",
            "  InsecureRequestWarning)\n",
            " 22%|██▎       | 18/80 [00:07<00:25,  2.47it/s]/usr/local/lib/python3.7/dist-packages/urllib3/connectionpool.py:847: InsecureRequestWarning: Unverified HTTPS request is being made. Adding certificate verification is strongly advised. See: https://urllib3.readthedocs.io/en/latest/advanced-usage.html#ssl-warnings\n",
            "  InsecureRequestWarning)\n",
            " 24%|██▍       | 19/80 [00:07<00:23,  2.61it/s]/usr/local/lib/python3.7/dist-packages/urllib3/connectionpool.py:847: InsecureRequestWarning: Unverified HTTPS request is being made. Adding certificate verification is strongly advised. See: https://urllib3.readthedocs.io/en/latest/advanced-usage.html#ssl-warnings\n",
            "  InsecureRequestWarning)\n",
            " 25%|██▌       | 20/80 [00:08<00:21,  2.73it/s]/usr/local/lib/python3.7/dist-packages/urllib3/connectionpool.py:847: InsecureRequestWarning: Unverified HTTPS request is being made. Adding certificate verification is strongly advised. See: https://urllib3.readthedocs.io/en/latest/advanced-usage.html#ssl-warnings\n",
            "  InsecureRequestWarning)\n",
            " 26%|██▋       | 21/80 [00:08<00:24,  2.43it/s]/usr/local/lib/python3.7/dist-packages/urllib3/connectionpool.py:847: InsecureRequestWarning: Unverified HTTPS request is being made. Adding certificate verification is strongly advised. See: https://urllib3.readthedocs.io/en/latest/advanced-usage.html#ssl-warnings\n",
            "  InsecureRequestWarning)\n",
            " 28%|██▊       | 22/80 [00:08<00:22,  2.60it/s]/usr/local/lib/python3.7/dist-packages/urllib3/connectionpool.py:847: InsecureRequestWarning: Unverified HTTPS request is being made. Adding certificate verification is strongly advised. See: https://urllib3.readthedocs.io/en/latest/advanced-usage.html#ssl-warnings\n",
            "  InsecureRequestWarning)\n",
            " 29%|██▉       | 23/80 [00:09<00:20,  2.74it/s]/usr/local/lib/python3.7/dist-packages/urllib3/connectionpool.py:847: InsecureRequestWarning: Unverified HTTPS request is being made. Adding certificate verification is strongly advised. See: https://urllib3.readthedocs.io/en/latest/advanced-usage.html#ssl-warnings\n",
            "  InsecureRequestWarning)\n",
            " 30%|███       | 24/80 [00:09<00:22,  2.45it/s]/usr/local/lib/python3.7/dist-packages/urllib3/connectionpool.py:847: InsecureRequestWarning: Unverified HTTPS request is being made. Adding certificate verification is strongly advised. See: https://urllib3.readthedocs.io/en/latest/advanced-usage.html#ssl-warnings\n",
            "  InsecureRequestWarning)\n",
            " 31%|███▏      | 25/80 [00:10<00:21,  2.56it/s]/usr/local/lib/python3.7/dist-packages/urllib3/connectionpool.py:847: InsecureRequestWarning: Unverified HTTPS request is being made. Adding certificate verification is strongly advised. See: https://urllib3.readthedocs.io/en/latest/advanced-usage.html#ssl-warnings\n",
            "  InsecureRequestWarning)\n",
            " 32%|███▎      | 26/80 [00:10<00:20,  2.67it/s]/usr/local/lib/python3.7/dist-packages/urllib3/connectionpool.py:847: InsecureRequestWarning: Unverified HTTPS request is being made. Adding certificate verification is strongly advised. See: https://urllib3.readthedocs.io/en/latest/advanced-usage.html#ssl-warnings\n",
            "  InsecureRequestWarning)\n",
            " 34%|███▍      | 27/80 [00:10<00:19,  2.70it/s]/usr/local/lib/python3.7/dist-packages/urllib3/connectionpool.py:847: InsecureRequestWarning: Unverified HTTPS request is being made. Adding certificate verification is strongly advised. See: https://urllib3.readthedocs.io/en/latest/advanced-usage.html#ssl-warnings\n",
            "  InsecureRequestWarning)\n",
            " 35%|███▌      | 28/80 [00:11<00:21,  2.39it/s]/usr/local/lib/python3.7/dist-packages/urllib3/connectionpool.py:847: InsecureRequestWarning: Unverified HTTPS request is being made. Adding certificate verification is strongly advised. See: https://urllib3.readthedocs.io/en/latest/advanced-usage.html#ssl-warnings\n",
            "  InsecureRequestWarning)\n",
            " 36%|███▋      | 29/80 [00:11<00:20,  2.51it/s]/usr/local/lib/python3.7/dist-packages/urllib3/connectionpool.py:847: InsecureRequestWarning: Unverified HTTPS request is being made. Adding certificate verification is strongly advised. See: https://urllib3.readthedocs.io/en/latest/advanced-usage.html#ssl-warnings\n",
            "  InsecureRequestWarning)\n",
            " 38%|███▊      | 30/80 [00:11<00:19,  2.59it/s]/usr/local/lib/python3.7/dist-packages/urllib3/connectionpool.py:847: InsecureRequestWarning: Unverified HTTPS request is being made. Adding certificate verification is strongly advised. See: https://urllib3.readthedocs.io/en/latest/advanced-usage.html#ssl-warnings\n",
            "  InsecureRequestWarning)\n",
            " 39%|███▉      | 31/80 [00:12<00:21,  2.27it/s]/usr/local/lib/python3.7/dist-packages/urllib3/connectionpool.py:847: InsecureRequestWarning: Unverified HTTPS request is being made. Adding certificate verification is strongly advised. See: https://urllib3.readthedocs.io/en/latest/advanced-usage.html#ssl-warnings\n",
            "  InsecureRequestWarning)\n",
            " 40%|████      | 32/80 [00:12<00:19,  2.48it/s]/usr/local/lib/python3.7/dist-packages/urllib3/connectionpool.py:847: InsecureRequestWarning: Unverified HTTPS request is being made. Adding certificate verification is strongly advised. See: https://urllib3.readthedocs.io/en/latest/advanced-usage.html#ssl-warnings\n",
            "  InsecureRequestWarning)\n",
            " 41%|████▏     | 33/80 [00:13<00:17,  2.65it/s]/usr/local/lib/python3.7/dist-packages/urllib3/connectionpool.py:847: InsecureRequestWarning: Unverified HTTPS request is being made. Adding certificate verification is strongly advised. See: https://urllib3.readthedocs.io/en/latest/advanced-usage.html#ssl-warnings\n",
            "  InsecureRequestWarning)\n",
            " 42%|████▎     | 34/80 [00:13<00:19,  2.35it/s]/usr/local/lib/python3.7/dist-packages/urllib3/connectionpool.py:847: InsecureRequestWarning: Unverified HTTPS request is being made. Adding certificate verification is strongly advised. See: https://urllib3.readthedocs.io/en/latest/advanced-usage.html#ssl-warnings\n",
            "  InsecureRequestWarning)\n",
            " 44%|████▍     | 35/80 [00:14<00:17,  2.54it/s]/usr/local/lib/python3.7/dist-packages/urllib3/connectionpool.py:847: InsecureRequestWarning: Unverified HTTPS request is being made. Adding certificate verification is strongly advised. See: https://urllib3.readthedocs.io/en/latest/advanced-usage.html#ssl-warnings\n",
            "  InsecureRequestWarning)\n",
            " 45%|████▌     | 36/80 [00:14<00:16,  2.72it/s]/usr/local/lib/python3.7/dist-packages/urllib3/connectionpool.py:847: InsecureRequestWarning: Unverified HTTPS request is being made. Adding certificate verification is strongly advised. See: https://urllib3.readthedocs.io/en/latest/advanced-usage.html#ssl-warnings\n",
            "  InsecureRequestWarning)\n",
            " 46%|████▋     | 37/80 [00:14<00:15,  2.81it/s]/usr/local/lib/python3.7/dist-packages/urllib3/connectionpool.py:847: InsecureRequestWarning: Unverified HTTPS request is being made. Adding certificate verification is strongly advised. See: https://urllib3.readthedocs.io/en/latest/advanced-usage.html#ssl-warnings\n",
            "  InsecureRequestWarning)\n",
            " 48%|████▊     | 38/80 [00:15<00:17,  2.44it/s]/usr/local/lib/python3.7/dist-packages/urllib3/connectionpool.py:847: InsecureRequestWarning: Unverified HTTPS request is being made. Adding certificate verification is strongly advised. See: https://urllib3.readthedocs.io/en/latest/advanced-usage.html#ssl-warnings\n",
            "  InsecureRequestWarning)\n",
            " 49%|████▉     | 39/80 [00:15<00:16,  2.54it/s]/usr/local/lib/python3.7/dist-packages/urllib3/connectionpool.py:847: InsecureRequestWarning: Unverified HTTPS request is being made. Adding certificate verification is strongly advised. See: https://urllib3.readthedocs.io/en/latest/advanced-usage.html#ssl-warnings\n",
            "  InsecureRequestWarning)\n",
            " 50%|█████     | 40/80 [00:15<00:15,  2.63it/s]/usr/local/lib/python3.7/dist-packages/urllib3/connectionpool.py:847: InsecureRequestWarning: Unverified HTTPS request is being made. Adding certificate verification is strongly advised. See: https://urllib3.readthedocs.io/en/latest/advanced-usage.html#ssl-warnings\n",
            "  InsecureRequestWarning)\n",
            " 51%|█████▏    | 41/80 [00:16<00:16,  2.39it/s]/usr/local/lib/python3.7/dist-packages/urllib3/connectionpool.py:847: InsecureRequestWarning: Unverified HTTPS request is being made. Adding certificate verification is strongly advised. See: https://urllib3.readthedocs.io/en/latest/advanced-usage.html#ssl-warnings\n",
            "  InsecureRequestWarning)\n",
            " 52%|█████▎    | 42/80 [00:16<00:14,  2.57it/s]/usr/local/lib/python3.7/dist-packages/urllib3/connectionpool.py:847: InsecureRequestWarning: Unverified HTTPS request is being made. Adding certificate verification is strongly advised. See: https://urllib3.readthedocs.io/en/latest/advanced-usage.html#ssl-warnings\n",
            "  InsecureRequestWarning)\n",
            " 54%|█████▍    | 43/80 [00:17<00:13,  2.70it/s]/usr/local/lib/python3.7/dist-packages/urllib3/connectionpool.py:847: InsecureRequestWarning: Unverified HTTPS request is being made. Adding certificate verification is strongly advised. See: https://urllib3.readthedocs.io/en/latest/advanced-usage.html#ssl-warnings\n",
            "  InsecureRequestWarning)\n",
            " 55%|█████▌    | 44/80 [00:17<00:14,  2.42it/s]/usr/local/lib/python3.7/dist-packages/urllib3/connectionpool.py:847: InsecureRequestWarning: Unverified HTTPS request is being made. Adding certificate verification is strongly advised. See: https://urllib3.readthedocs.io/en/latest/advanced-usage.html#ssl-warnings\n",
            "  InsecureRequestWarning)\n",
            " 56%|█████▋    | 45/80 [00:17<00:13,  2.52it/s]/usr/local/lib/python3.7/dist-packages/urllib3/connectionpool.py:847: InsecureRequestWarning: Unverified HTTPS request is being made. Adding certificate verification is strongly advised. See: https://urllib3.readthedocs.io/en/latest/advanced-usage.html#ssl-warnings\n",
            "  InsecureRequestWarning)\n",
            " 57%|█████▊    | 46/80 [00:18<00:12,  2.69it/s]/usr/local/lib/python3.7/dist-packages/urllib3/connectionpool.py:847: InsecureRequestWarning: Unverified HTTPS request is being made. Adding certificate verification is strongly advised. See: https://urllib3.readthedocs.io/en/latest/advanced-usage.html#ssl-warnings\n",
            "  InsecureRequestWarning)\n",
            " 59%|█████▉    | 47/80 [00:18<00:12,  2.73it/s]/usr/local/lib/python3.7/dist-packages/urllib3/connectionpool.py:847: InsecureRequestWarning: Unverified HTTPS request is being made. Adding certificate verification is strongly advised. See: https://urllib3.readthedocs.io/en/latest/advanced-usage.html#ssl-warnings\n",
            "  InsecureRequestWarning)\n",
            " 60%|██████    | 48/80 [00:19<00:13,  2.39it/s]/usr/local/lib/python3.7/dist-packages/urllib3/connectionpool.py:847: InsecureRequestWarning: Unverified HTTPS request is being made. Adding certificate verification is strongly advised. See: https://urllib3.readthedocs.io/en/latest/advanced-usage.html#ssl-warnings\n",
            "  InsecureRequestWarning)\n",
            " 61%|██████▏   | 49/80 [00:19<00:12,  2.57it/s]/usr/local/lib/python3.7/dist-packages/urllib3/connectionpool.py:847: InsecureRequestWarning: Unverified HTTPS request is being made. Adding certificate verification is strongly advised. See: https://urllib3.readthedocs.io/en/latest/advanced-usage.html#ssl-warnings\n",
            "  InsecureRequestWarning)\n",
            " 62%|██████▎   | 50/80 [00:19<00:11,  2.70it/s]/usr/local/lib/python3.7/dist-packages/urllib3/connectionpool.py:847: InsecureRequestWarning: Unverified HTTPS request is being made. Adding certificate verification is strongly advised. See: https://urllib3.readthedocs.io/en/latest/advanced-usage.html#ssl-warnings\n",
            "  InsecureRequestWarning)\n",
            " 64%|██████▍   | 51/80 [00:20<00:12,  2.38it/s]/usr/local/lib/python3.7/dist-packages/urllib3/connectionpool.py:847: InsecureRequestWarning: Unverified HTTPS request is being made. Adding certificate verification is strongly advised. See: https://urllib3.readthedocs.io/en/latest/advanced-usage.html#ssl-warnings\n",
            "  InsecureRequestWarning)\n",
            " 65%|██████▌   | 52/80 [00:20<00:11,  2.54it/s]/usr/local/lib/python3.7/dist-packages/urllib3/connectionpool.py:847: InsecureRequestWarning: Unverified HTTPS request is being made. Adding certificate verification is strongly advised. See: https://urllib3.readthedocs.io/en/latest/advanced-usage.html#ssl-warnings\n",
            "  InsecureRequestWarning)\n",
            " 66%|██████▋   | 53/80 [00:20<00:09,  2.70it/s]/usr/local/lib/python3.7/dist-packages/urllib3/connectionpool.py:847: InsecureRequestWarning: Unverified HTTPS request is being made. Adding certificate verification is strongly advised. See: https://urllib3.readthedocs.io/en/latest/advanced-usage.html#ssl-warnings\n",
            "  InsecureRequestWarning)\n",
            " 68%|██████▊   | 54/80 [00:21<00:11,  2.36it/s]/usr/local/lib/python3.7/dist-packages/urllib3/connectionpool.py:847: InsecureRequestWarning: Unverified HTTPS request is being made. Adding certificate verification is strongly advised. See: https://urllib3.readthedocs.io/en/latest/advanced-usage.html#ssl-warnings\n",
            "  InsecureRequestWarning)\n",
            " 69%|██████▉   | 55/80 [00:21<00:09,  2.53it/s]/usr/local/lib/python3.7/dist-packages/urllib3/connectionpool.py:847: InsecureRequestWarning: Unverified HTTPS request is being made. Adding certificate verification is strongly advised. See: https://urllib3.readthedocs.io/en/latest/advanced-usage.html#ssl-warnings\n",
            "  InsecureRequestWarning)\n",
            " 70%|███████   | 56/80 [00:22<00:08,  2.71it/s]/usr/local/lib/python3.7/dist-packages/urllib3/connectionpool.py:847: InsecureRequestWarning: Unverified HTTPS request is being made. Adding certificate verification is strongly advised. See: https://urllib3.readthedocs.io/en/latest/advanced-usage.html#ssl-warnings\n",
            "  InsecureRequestWarning)\n",
            " 71%|███████▏  | 57/80 [00:22<00:08,  2.74it/s]/usr/local/lib/python3.7/dist-packages/urllib3/connectionpool.py:847: InsecureRequestWarning: Unverified HTTPS request is being made. Adding certificate verification is strongly advised. See: https://urllib3.readthedocs.io/en/latest/advanced-usage.html#ssl-warnings\n",
            "  InsecureRequestWarning)\n",
            " 72%|███████▎  | 58/80 [00:23<00:09,  2.41it/s]/usr/local/lib/python3.7/dist-packages/urllib3/connectionpool.py:847: InsecureRequestWarning: Unverified HTTPS request is being made. Adding certificate verification is strongly advised. See: https://urllib3.readthedocs.io/en/latest/advanced-usage.html#ssl-warnings\n",
            "  InsecureRequestWarning)\n",
            " 74%|███████▍  | 59/80 [00:23<00:08,  2.56it/s]/usr/local/lib/python3.7/dist-packages/urllib3/connectionpool.py:847: InsecureRequestWarning: Unverified HTTPS request is being made. Adding certificate verification is strongly advised. See: https://urllib3.readthedocs.io/en/latest/advanced-usage.html#ssl-warnings\n",
            "  InsecureRequestWarning)\n",
            " 75%|███████▌  | 60/80 [00:23<00:07,  2.64it/s]/usr/local/lib/python3.7/dist-packages/urllib3/connectionpool.py:847: InsecureRequestWarning: Unverified HTTPS request is being made. Adding certificate verification is strongly advised. See: https://urllib3.readthedocs.io/en/latest/advanced-usage.html#ssl-warnings\n",
            "  InsecureRequestWarning)\n",
            " 76%|███████▋  | 61/80 [00:24<00:07,  2.38it/s]/usr/local/lib/python3.7/dist-packages/urllib3/connectionpool.py:847: InsecureRequestWarning: Unverified HTTPS request is being made. Adding certificate verification is strongly advised. See: https://urllib3.readthedocs.io/en/latest/advanced-usage.html#ssl-warnings\n",
            "  InsecureRequestWarning)\n",
            " 78%|███████▊  | 62/80 [00:24<00:07,  2.54it/s]/usr/local/lib/python3.7/dist-packages/urllib3/connectionpool.py:847: InsecureRequestWarning: Unverified HTTPS request is being made. Adding certificate verification is strongly advised. See: https://urllib3.readthedocs.io/en/latest/advanced-usage.html#ssl-warnings\n",
            "  InsecureRequestWarning)\n",
            " 79%|███████▉  | 63/80 [00:24<00:06,  2.69it/s]/usr/local/lib/python3.7/dist-packages/urllib3/connectionpool.py:847: InsecureRequestWarning: Unverified HTTPS request is being made. Adding certificate verification is strongly advised. See: https://urllib3.readthedocs.io/en/latest/advanced-usage.html#ssl-warnings\n",
            "  InsecureRequestWarning)\n",
            " 80%|████████  | 64/80 [00:25<00:06,  2.42it/s]/usr/local/lib/python3.7/dist-packages/urllib3/connectionpool.py:847: InsecureRequestWarning: Unverified HTTPS request is being made. Adding certificate verification is strongly advised. See: https://urllib3.readthedocs.io/en/latest/advanced-usage.html#ssl-warnings\n",
            "  InsecureRequestWarning)\n",
            " 81%|████████▏ | 65/80 [00:25<00:06,  2.45it/s]/usr/local/lib/python3.7/dist-packages/urllib3/connectionpool.py:847: InsecureRequestWarning: Unverified HTTPS request is being made. Adding certificate verification is strongly advised. See: https://urllib3.readthedocs.io/en/latest/advanced-usage.html#ssl-warnings\n",
            "  InsecureRequestWarning)\n",
            " 82%|████████▎ | 66/80 [00:26<00:05,  2.54it/s]/usr/local/lib/python3.7/dist-packages/urllib3/connectionpool.py:847: InsecureRequestWarning: Unverified HTTPS request is being made. Adding certificate verification is strongly advised. See: https://urllib3.readthedocs.io/en/latest/advanced-usage.html#ssl-warnings\n",
            "  InsecureRequestWarning)\n",
            " 84%|████████▍ | 67/80 [00:26<00:04,  2.64it/s]/usr/local/lib/python3.7/dist-packages/urllib3/connectionpool.py:847: InsecureRequestWarning: Unverified HTTPS request is being made. Adding certificate verification is strongly advised. See: https://urllib3.readthedocs.io/en/latest/advanced-usage.html#ssl-warnings\n",
            "  InsecureRequestWarning)\n",
            " 85%|████████▌ | 68/80 [00:27<00:05,  2.28it/s]/usr/local/lib/python3.7/dist-packages/urllib3/connectionpool.py:847: InsecureRequestWarning: Unverified HTTPS request is being made. Adding certificate verification is strongly advised. See: https://urllib3.readthedocs.io/en/latest/advanced-usage.html#ssl-warnings\n",
            "  InsecureRequestWarning)\n",
            " 86%|████████▋ | 69/80 [00:27<00:04,  2.40it/s]/usr/local/lib/python3.7/dist-packages/urllib3/connectionpool.py:847: InsecureRequestWarning: Unverified HTTPS request is being made. Adding certificate verification is strongly advised. See: https://urllib3.readthedocs.io/en/latest/advanced-usage.html#ssl-warnings\n",
            "  InsecureRequestWarning)\n",
            " 88%|████████▊ | 70/80 [00:27<00:03,  2.58it/s]/usr/local/lib/python3.7/dist-packages/urllib3/connectionpool.py:847: InsecureRequestWarning: Unverified HTTPS request is being made. Adding certificate verification is strongly advised. See: https://urllib3.readthedocs.io/en/latest/advanced-usage.html#ssl-warnings\n",
            "  InsecureRequestWarning)\n",
            " 89%|████████▉ | 71/80 [00:28<00:03,  2.30it/s]/usr/local/lib/python3.7/dist-packages/urllib3/connectionpool.py:847: InsecureRequestWarning: Unverified HTTPS request is being made. Adding certificate verification is strongly advised. See: https://urllib3.readthedocs.io/en/latest/advanced-usage.html#ssl-warnings\n",
            "  InsecureRequestWarning)\n",
            " 90%|█████████ | 72/80 [00:28<00:03,  2.41it/s]/usr/local/lib/python3.7/dist-packages/urllib3/connectionpool.py:847: InsecureRequestWarning: Unverified HTTPS request is being made. Adding certificate verification is strongly advised. See: https://urllib3.readthedocs.io/en/latest/advanced-usage.html#ssl-warnings\n",
            "  InsecureRequestWarning)\n",
            " 91%|█████████▏| 73/80 [00:29<00:02,  2.57it/s]/usr/local/lib/python3.7/dist-packages/urllib3/connectionpool.py:847: InsecureRequestWarning: Unverified HTTPS request is being made. Adding certificate verification is strongly advised. See: https://urllib3.readthedocs.io/en/latest/advanced-usage.html#ssl-warnings\n",
            "  InsecureRequestWarning)\n",
            " 92%|█████████▎| 74/80 [00:29<00:02,  2.24it/s]/usr/local/lib/python3.7/dist-packages/urllib3/connectionpool.py:847: InsecureRequestWarning: Unverified HTTPS request is being made. Adding certificate verification is strongly advised. See: https://urllib3.readthedocs.io/en/latest/advanced-usage.html#ssl-warnings\n",
            "  InsecureRequestWarning)\n",
            " 94%|█████████▍| 75/80 [00:29<00:02,  2.38it/s]/usr/local/lib/python3.7/dist-packages/urllib3/connectionpool.py:847: InsecureRequestWarning: Unverified HTTPS request is being made. Adding certificate verification is strongly advised. See: https://urllib3.readthedocs.io/en/latest/advanced-usage.html#ssl-warnings\n",
            "  InsecureRequestWarning)\n",
            " 95%|█████████▌| 76/80 [00:30<00:01,  2.58it/s]/usr/local/lib/python3.7/dist-packages/urllib3/connectionpool.py:847: InsecureRequestWarning: Unverified HTTPS request is being made. Adding certificate verification is strongly advised. See: https://urllib3.readthedocs.io/en/latest/advanced-usage.html#ssl-warnings\n",
            "  InsecureRequestWarning)\n",
            " 96%|█████████▋| 77/80 [00:30<00:01,  2.65it/s]/usr/local/lib/python3.7/dist-packages/urllib3/connectionpool.py:847: InsecureRequestWarning: Unverified HTTPS request is being made. Adding certificate verification is strongly advised. See: https://urllib3.readthedocs.io/en/latest/advanced-usage.html#ssl-warnings\n",
            "  InsecureRequestWarning)\n",
            " 98%|█████████▊| 78/80 [00:31<00:00,  2.38it/s]/usr/local/lib/python3.7/dist-packages/urllib3/connectionpool.py:847: InsecureRequestWarning: Unverified HTTPS request is being made. Adding certificate verification is strongly advised. See: https://urllib3.readthedocs.io/en/latest/advanced-usage.html#ssl-warnings\n",
            "  InsecureRequestWarning)\n",
            " 99%|█████████▉| 79/80 [00:31<00:00,  2.58it/s]/usr/local/lib/python3.7/dist-packages/urllib3/connectionpool.py:847: InsecureRequestWarning: Unverified HTTPS request is being made. Adding certificate verification is strongly advised. See: https://urllib3.readthedocs.io/en/latest/advanced-usage.html#ssl-warnings\n",
            "  InsecureRequestWarning)\n",
            "100%|██████████| 80/80 [00:31<00:00,  2.52it/s]\n"
          ]
        },
        {
          "output_type": "execute_result",
          "data": {
            "text/plain": [
              "{'https://www.channelnewsasia.com/living/how-make-dalgona-candy-squid-game-2224831': 'First, it was dalgona coffee (remember those \"circuit breaker\" days?). Now, thanks to the hit South Korean drama Squid Game, it’s dalgona candy. Immortalised as the high-stakes children’s game in the third episode, the brittle honeycomb thins were given out to the participants in the show, who had to pick shapes out of their dalgona sweets with needles. Break the shape and there were no sweet endings for them. In real life, those who succeed in picking out the shapes get rewarded with another wafer-thin honeycomb by the vendor. And since the little game involves using a toothpick, the sweet is also known as ppopgi, meaning to pick. These sweets are traditionally sold as street food in South Korea, much like how biscuit piring (yup, those wafer-thin treats in yellow, pink and green) is sold at our pasar malam. (Maybe someone should start a game with that.)Naturally, kits for making dalgona candyhave been flying off online shopping portals and can range from less than S$5 to S$28. But it is a recipe consisting of just white sugar (the kind you add to coffee) and a pinch of baking soda. It is so simple that Chef Cat of@thatlittlepuff on Instagram is also in on the game.        View this post on Instagram            A post shared by That Little Puff (@thatlittlepuff) As for the tools, you can find them in your kitchen. Here’s what you need to make each dalgona candy:Two tablespoons of sugarA pinch of baking sodaThe smallest, non-stick pan you haveA pair of chopsticks (preferably wood or other materials that don’t melt)Glass jar with flat bottomCookie cutter of your preferred shapeA sheet of baking paper1. Turn the stove on and use the lowest flame; you don’t want to burn the sugar.2. Place the sugar in the non-stick pan and heat it. Tilt the pan at an angle (and keep it there) so that the sugar pools in a small area instead of spreading out over the pan.3. Stir with the chopsticks and keep stirring as the sugar melts. Let the melted sugar turn a milk coffee colour (the darker the colour, the more bitter it becomes). You can adjust the heat by lifting the pan or bringing it back to the fire. 4. Once all the sugar has melted, remove the pan from the fire. Immediately add a pinch of baking soda and stir constantly. The mixture’s colour will lighten. Make sure all the baking soda dissolves and there are no lumps. 5. Pour the mixture onto the baking paper. Wait for about 10 seconds, then place the jar on the mixture and gently press it down to flatten it. Don’t press too hard because you still want to retain some thickness for the cookie cutter. 6. Remove the jar and quickly press down with the cookie cutter. Let it cool and harden. You’re now ready to play Squid Game. Minus the part where you get killed.',\n",
              " 'https://www.channelnewsasia.com/sustainability/global-warming-1-5-degrees-celsius-climate-change-2219436': 'PARIS: Half a degree Celsius may not seem like much, but climate experts say a world that has warmed 1.5 degrees Celsius above 19th-century levels compared to 2 degrees Celsius could be the difference between life and death.A 2degrees Celsius Earth would see the number of people facing extreme heat waves more than double. A quarter of a billion more people would face water shortages.The Arctic Ocean will be ice-free not once in a century but once every 10 years.Countries that signed the Paris Agreement vowed to cap the rise in global temperatures - already 1.1degrees Celsius above the pre-industrial benchmark -at well below 2 degrees Celsius, and preferably at 1.5 degrees Celsius.Humanity is still far off the mark: Even if fulfilled, current pledges to reduce emissions would still set the planet on course to warm by a \"catastrophic\" 2.7 degrees Celsius, according to the UN.Here is what the UN\\'s Intergovernmental Panel on Climate Change (IPCC) says we can expect in a world that warms by 1.5 degrees Celsius, 2degrees Celsius and beyond.HEAT WAVESMaximum temperatures in some areas will increase by three degrees if the climate warms 1.5 degrees Celsius, four if global heating reaches the 2degrees Celsius-mark.Heat waves that occur once-a-decade today will become four times more likely at 1.5 degrees Celsius, and nearly six times more likely at 2 degrees Celsius.The odds of extreme hot spells currently seen once every 50 year increase by nearly nine fold at 1.5 degrees Celsius, and 40 fold in a 4degrees Celsius-world.More people will be affected as well: The percentage of humanity exposed to extreme heatwaves at least once every five years jumps from 14 per cent at 1.5degrees Celsius to 37 per cent with an extra half-a-degree.STORMSGlobal warming will cause more rain at higher latitudes, north and south of the equator, as well as in the tropics and some monsoon zones.Precipitation in sub-tropical zones will likely become rarer, raising the spectre of drought.Extreme precipitation events today are 1.3 times more likely and seven per cent more intense than before global warming kicked in.At 1.5 degrees Celsius of warming, extreme rain, snowfall or other precipitation events will be 10 per cent heavier and 1.5 times more likely.DROUGHTIn drought-prone regions dry spells are twice as likely in a 1.5degrees Celsius world, and four times more likely if temperatures climb 4 degrees Celsius.Capping the rise in average global temperatures to 1.5degrees Celsius rather than 2degrees Celsius would prevent an additional 200 to 250 million people from facing severe water shortages.Limiting drought would also reduce the risk of related disasters such as wildfires.FOODIn a world that is two degrees warmer than pre-industrial levels, seven to 10 per cent of agricultural land will no longer be farmable.Yields are also predicted to decrease, with corn harvests in tropical zones estimated to drop by three percent in a 1.5degrees Celsius warmer world and seven percent with a rise of 2 degrees Celsius.SEA LEVELSIf global warming is capped at 2 degrees Celsius, the ocean watermark will go up about half a metre over the 21st century. It will continue rising to nearly two metres by 2300 -twice the amount predicted by the IPCC in 2019.Because of uncertainty over ice sheets, scientists cannot rule out a total rise of two metres by 2100 in a worst-case emissions scenario.Limiting warming to 1.5degrees Celsius would reduce rising sea levels by 10 about centimetres.SPECIES IN PERILAll these impacts affect the survival of plants and animals across the planet.Global warming capped at 1.5degrees Celsius negatively affects seven percent of ecosystems. At 2 degrees Celsius, that figure nearly doubles.An increase of 4degrees Celsius would endanger half of the species on Earth.'}"
            ]
          },
          "metadata": {},
          "execution_count": 65
        }
      ]
    },
    {
      "cell_type": "code",
      "metadata": {
        "id": "efG-1KzTVDMw"
      },
      "source": [
        "#create a dataframe to store all the samples randomly generated from the 3 websites\n",
        "website = []\n",
        "content = []\n",
        "for i in sof_samples:\n",
        "  website.append(i)\n",
        "  content.append(sof_samples[i])\n",
        "\n",
        "for i in hwz_samples:\n",
        "  website.append(i)\n",
        "  content.append(hwz_samples[i])\n",
        "\n",
        "for i in cna_samples:\n",
        "  website.append(i)\n",
        "  content.append(cna_samples[i])"
      ],
      "execution_count": null,
      "outputs": []
    },
    {
      "cell_type": "code",
      "metadata": {
        "colab": {
          "base_uri": "https://localhost:8080/",
          "height": 235
        },
        "id": "5fPVE91xdXlC",
        "outputId": "44d97613-ccb8-42fb-cfd8-0c1958352e22"
      },
      "source": [
        "sample_data = pd.DataFrame(list(zip(website,content)),columns = ['website','content'])\n",
        "sample_data"
      ],
      "execution_count": null,
      "outputs": [
        {
          "output_type": "execute_result",
          "data": {
            "text/html": [
              "<div>\n",
              "<style scoped>\n",
              "    .dataframe tbody tr th:only-of-type {\n",
              "        vertical-align: middle;\n",
              "    }\n",
              "\n",
              "    .dataframe tbody tr th {\n",
              "        vertical-align: top;\n",
              "    }\n",
              "\n",
              "    .dataframe thead th {\n",
              "        text-align: right;\n",
              "    }\n",
              "</style>\n",
              "<table border=\"1\" class=\"dataframe\">\n",
              "  <thead>\n",
              "    <tr style=\"text-align: right;\">\n",
              "      <th></th>\n",
              "      <th>website</th>\n",
              "      <th>content</th>\n",
              "    </tr>\n",
              "  </thead>\n",
              "  <tbody>\n",
              "    <tr>\n",
              "      <th>0</th>\n",
              "      <td>/questions/46155/how-to-validate-an-email-addr...</td>\n",
              "      <td>5868\\r        Using regular expressions is pro...</td>\n",
              "    </tr>\n",
              "    <tr>\n",
              "      <th>1</th>\n",
              "      <td>/questions/1200621/how-do-i-declare-and-initia...</td>\n",
              "      <td>2947\\r        You can either use array declara...</td>\n",
              "    </tr>\n",
              "    <tr>\n",
              "      <th>2</th>\n",
              "      <td>/threads/anyone-know-what-happens-to-kpc-aunti...</td>\n",
              "      <td>Her friend is 70plus live bungalow. Kpc was so...</td>\n",
              "    </tr>\n",
              "    <tr>\n",
              "      <th>3</th>\n",
              "      <td>/threads/itz-is-time-to-tell-him-hes-not-good-...</td>\n",
              "      <td>Will he be told that?where can he go???ask som...</td>\n",
              "    </tr>\n",
              "    <tr>\n",
              "      <th>4</th>\n",
              "      <td>https://www.channelnewsasia.com/sustainability...</td>\n",
              "      <td>PARIS: Half a degree Celsius may not seem like...</td>\n",
              "    </tr>\n",
              "    <tr>\n",
              "      <th>5</th>\n",
              "      <td>https://www.channelnewsasia.com/living/how-mak...</td>\n",
              "      <td>First, it was dalgona coffee (remember those \"...</td>\n",
              "    </tr>\n",
              "  </tbody>\n",
              "</table>\n",
              "</div>"
            ],
            "text/plain": [
              "                                             website                                            content\n",
              "0  /questions/46155/how-to-validate-an-email-addr...  5868\\r        Using regular expressions is pro...\n",
              "1  /questions/1200621/how-do-i-declare-and-initia...  2947\\r        You can either use array declara...\n",
              "2  /threads/anyone-know-what-happens-to-kpc-aunti...  Her friend is 70plus live bungalow. Kpc was so...\n",
              "3  /threads/itz-is-time-to-tell-him-hes-not-good-...  Will he be told that?where can he go???ask som...\n",
              "4  https://www.channelnewsasia.com/sustainability...  PARIS: Half a degree Celsius may not seem like...\n",
              "5  https://www.channelnewsasia.com/living/how-mak...  First, it was dalgona coffee (remember those \"..."
            ]
          },
          "metadata": {},
          "execution_count": 68
        }
      ]
    },
    {
      "cell_type": "code",
      "metadata": {
        "id": "gEAVwVdNeAYy"
      },
      "source": [
        "sample_data.to_csv('/content/drive/MyDrive/nlp/sample_data.csv',index=False)"
      ],
      "execution_count": null,
      "outputs": []
    },
    {
      "cell_type": "code",
      "metadata": {
        "id": "akvxrwH6gRyB"
      },
      "source": [
        "sample_data = pd.read_csv('/content/drive/MyDrive/nlp/sample_data.csv')"
      ],
      "execution_count": null,
      "outputs": []
    },
    {
      "cell_type": "markdown",
      "metadata": {
        "id": "BM-XF4Cg11lt"
      },
      "source": [
        "\n",
        "*   Is the first word in a sentence capitalised\n",
        "\n",
        "\n"
      ]
    },
    {
      "cell_type": "code",
      "metadata": {
        "id": "9pVKwN1m5Xjs",
        "colab": {
          "base_uri": "https://localhost:8080/",
          "height": 235
        },
        "outputId": "f6b5a0d7-4f16-47a7-a7ce-9292b092933c"
      },
      "source": [
        "sample_data"
      ],
      "execution_count": null,
      "outputs": [
        {
          "output_type": "execute_result",
          "data": {
            "text/html": [
              "<div>\n",
              "<style scoped>\n",
              "    .dataframe tbody tr th:only-of-type {\n",
              "        vertical-align: middle;\n",
              "    }\n",
              "\n",
              "    .dataframe tbody tr th {\n",
              "        vertical-align: top;\n",
              "    }\n",
              "\n",
              "    .dataframe thead th {\n",
              "        text-align: right;\n",
              "    }\n",
              "</style>\n",
              "<table border=\"1\" class=\"dataframe\">\n",
              "  <thead>\n",
              "    <tr style=\"text-align: right;\">\n",
              "      <th></th>\n",
              "      <th>website</th>\n",
              "      <th>content</th>\n",
              "    </tr>\n",
              "  </thead>\n",
              "  <tbody>\n",
              "    <tr>\n",
              "      <th>0</th>\n",
              "      <td>/questions/46155/how-to-validate-an-email-addr...</td>\n",
              "      <td>5868\\r        Using regular expressions is pro...</td>\n",
              "    </tr>\n",
              "    <tr>\n",
              "      <th>1</th>\n",
              "      <td>/questions/1200621/how-do-i-declare-and-initia...</td>\n",
              "      <td>2947\\r        You can either use array declara...</td>\n",
              "    </tr>\n",
              "    <tr>\n",
              "      <th>2</th>\n",
              "      <td>/threads/anyone-know-what-happens-to-kpc-aunti...</td>\n",
              "      <td>Her friend is 70plus live bungalow. Kpc was so...</td>\n",
              "    </tr>\n",
              "    <tr>\n",
              "      <th>3</th>\n",
              "      <td>/threads/itz-is-time-to-tell-him-hes-not-good-...</td>\n",
              "      <td>Will he be told that?where can he go???ask som...</td>\n",
              "    </tr>\n",
              "    <tr>\n",
              "      <th>4</th>\n",
              "      <td>https://www.channelnewsasia.com/sustainability...</td>\n",
              "      <td>PARIS: Half a degree Celsius may not seem like...</td>\n",
              "    </tr>\n",
              "    <tr>\n",
              "      <th>5</th>\n",
              "      <td>https://www.channelnewsasia.com/living/how-mak...</td>\n",
              "      <td>First, it was dalgona coffee (remember those \"...</td>\n",
              "    </tr>\n",
              "  </tbody>\n",
              "</table>\n",
              "</div>"
            ],
            "text/plain": [
              "                                             website                                            content\n",
              "0  /questions/46155/how-to-validate-an-email-addr...  5868\\r        Using regular expressions is pro...\n",
              "1  /questions/1200621/how-do-i-declare-and-initia...  2947\\r        You can either use array declara...\n",
              "2  /threads/anyone-know-what-happens-to-kpc-aunti...  Her friend is 70plus live bungalow. Kpc was so...\n",
              "3  /threads/itz-is-time-to-tell-him-hes-not-good-...  Will he be told that?where can he go???ask som...\n",
              "4  https://www.channelnewsasia.com/sustainability...  PARIS: Half a degree Celsius may not seem like...\n",
              "5  https://www.channelnewsasia.com/living/how-mak...  First, it was dalgona coffee (remember those \"..."
            ]
          },
          "metadata": {},
          "execution_count": 70
        }
      ]
    },
    {
      "cell_type": "code",
      "metadata": {
        "colab": {
          "base_uri": "https://localhost:8080/"
        },
        "id": "IJ0jeSHF5-pb",
        "outputId": "a6096cc2-1105-4b5d-a69d-185c284d8607"
      },
      "source": [
        "import nltk\n",
        "nltk. download('punkt')\n",
        "#text = \"I do not like green eggs and ham. I do not like them Sam-I-am.\"\n",
        "#a_list = nltk. tokenize. sent_tokenize(text) Split into list of sentences.\n",
        "#print(a_list)\n",
        "sof_sample1_sent = nltk.tokenize.sent_tokenize(sample_data['content'][0])\n",
        "sof_sample2_sent = nltk.tokenize.sent_tokenize(sample_data['content'][1])\n",
        "hwz_sample1_sent = nltk.tokenize.sent_tokenize(sample_data['content'][2])\n",
        "hwz_sample2_sent = nltk.tokenize.sent_tokenize(sample_data['content'][3])\n",
        "cna_sample1_sent = nltk.tokenize.sent_tokenize(sample_data['content'][4])\n",
        "cna_sample2_sent = nltk.tokenize.sent_tokenize(sample_data['content'][5])"
      ],
      "execution_count": null,
      "outputs": [
        {
          "output_type": "stream",
          "name": "stdout",
          "text": [
            "[nltk_data] Downloading package punkt to /root/nltk_data...\n",
            "[nltk_data]   Unzipping tokenizers/punkt.zip.\n"
          ]
        }
      ]
    },
    {
      "cell_type": "code",
      "metadata": {
        "colab": {
          "base_uri": "https://localhost:8080/"
        },
        "id": "2-LcBD3N11M2",
        "outputId": "911321ee-741c-400f-98ad-7b9d1a13e0b4"
      },
      "source": [
        "#check the upper case letter portion for stackoverflow post \n",
        "upper_or_not = []\n",
        "for i in sof_sample1_sent:\n",
        "  upper_or_not.append(i[0].isupper())\n",
        "\n",
        "portion1= sum(upper_or_not) / len(upper_or_not)\n",
        "print(portion1)\n",
        "\n",
        "upper_or_not = []\n",
        "for i in sof_sample2_sent:\n",
        "  upper_or_not.append(i[0].isupper())\n",
        "\n",
        "portion2= sum(upper_or_not) / len(upper_or_not)\n",
        "print(portion2)"
      ],
      "execution_count": null,
      "outputs": [
        {
          "output_type": "stream",
          "name": "stdout",
          "text": [
            "0.5\n",
            "0.6067415730337079\n"
          ]
        }
      ]
    },
    {
      "cell_type": "code",
      "metadata": {
        "colab": {
          "base_uri": "https://localhost:8080/"
        },
        "id": "iTE77lhmFn9r",
        "outputId": "52613874-a06b-4905-80c1-0bf64d661750"
      },
      "source": [
        "#check the upper case letter portion for hardwarezone post \n",
        "upper_or_not = []\n",
        "for i in hwz_sample1_sent:\n",
        "  upper_or_not.append(i[0].isupper())\n",
        "\n",
        "portion1 = sum(upper_or_not) / len(upper_or_not)\n",
        "print(portion1)\n",
        "\n",
        "upper_or_not = []\n",
        "for i in hwz_sample2_sent:\n",
        "  upper_or_not.append(i[0].isupper())\n",
        "\n",
        "portion2 = sum(upper_or_not) / len(upper_or_not)\n",
        "print(portion2)"
      ],
      "execution_count": null,
      "outputs": [
        {
          "output_type": "stream",
          "name": "stdout",
          "text": [
            "0.6\n",
            "0.5\n"
          ]
        }
      ]
    },
    {
      "cell_type": "code",
      "metadata": {
        "colab": {
          "base_uri": "https://localhost:8080/"
        },
        "id": "0BNExeqKRODN",
        "outputId": "240fdade-5e48-4c50-b868-cbd8229684ac"
      },
      "source": [
        "#check the upper case letter portion for ChannelNewsAsia Post\n",
        "upper_or_not = []\n",
        "for i in cna_sample1_sent:\n",
        "  upper_or_not.append(i[0].isupper())\n",
        "\n",
        "portion1 = sum(upper_or_not) / len(upper_or_not)\n",
        "print(portion1)\n",
        "\n",
        "upper_or_not = []\n",
        "for i in cna_sample2_sent:\n",
        "  upper_or_not.append(i[0].isupper())\n",
        "\n",
        "portion2 = sum(upper_or_not) / len(upper_or_not)\n",
        "print(portion2)"
      ],
      "execution_count": null,
      "outputs": [
        {
          "output_type": "stream",
          "name": "stdout",
          "text": [
            "1.0\n",
            "0.8484848484848485\n"
          ]
        }
      ]
    },
    {
      "cell_type": "markdown",
      "metadata": {
        "id": "6M2pt-OsRado"
      },
      "source": [
        "As shown above, the proportion of first letter of the sentence being uppercase letter  in stackoverflow post is 0.5-0.6, the proportion of first letter of the sentence being an uppercase letter in hardwarezone post is 0.5-0.6, while that in ChannelNewsAsia post is 0.84-1.0. This clearly shows that posts from CNA shows better grammar in terms of capitalisation of the first word. "
      ]
    },
    {
      "cell_type": "markdown",
      "metadata": {
        "id": "KEW2M10jBGHn"
      },
      "source": [
        "+ Are the proper nouns capitalized\n",
        "\n",
        "\n",
        "\n",
        "\n",
        "1.   Use POS tagging to extract all proper nouns\n",
        "2.   Check whether these nouns are capitalized or not \n",
        "\n",
        "\n",
        "\n",
        "\n",
        "\n",
        "\n"
      ]
    },
    {
      "cell_type": "code",
      "metadata": {
        "id": "fQItWMloWV1H"
      },
      "source": [
        "from nltk.tag import pos_tag\n",
        "# return all nnp in the sentence\n",
        "def get_nnp_list(sentence):\n",
        "  tagged_sent = pos_tag(sentence.split())\n",
        "  propernouns = [word for word,pos in tagged_sent if pos == 'NNP']\n",
        "  return propernouns\n",
        "#check if the first letter of the word is capital \n",
        "def check_capital(word):\n",
        "  return word[0].isupper()\n",
        "\n",
        "\n",
        "#get proportion of first letter of nnp being capital \n",
        "def get_proportion(sample):\n",
        "  nnp_list = []\n",
        "  for i in sample:\n",
        "    nnp_list += get_nnp_list(i)\n",
        "\n",
        "  capital_nnp = []\n",
        "  for i in nnp_list:\n",
        "    if check_capital(i):\n",
        "      capital_nnp.append(i)\n",
        "\n",
        "  return len(capital_nnp)/len(nnp_list)"
      ],
      "execution_count": null,
      "outputs": []
    },
    {
      "cell_type": "code",
      "metadata": {
        "colab": {
          "base_uri": "https://localhost:8080/"
        },
        "id": "9f5ji9OiZ9dg",
        "outputId": "731bfb18-d77c-4516-ea0b-3f564e8cdd29"
      },
      "source": [
        "print('proportion of sof sample 1:', get_proportion(sof_sample1_sent))\n",
        "print('proportion of sof sample 2:', get_proportion(sof_sample2_sent))\n",
        "print('proportion of hwz sample 1:', get_proportion(hwz_sample1_sent))\n",
        "print('proportion of hwz sample 2:', get_proportion(hwz_sample2_sent))\n",
        "print('proportion of cna sample 1:', get_proportion(cna_sample1_sent))\n",
        "print('proportion of cna sample 2:', get_proportion(cna_sample2_sent))\n",
        "\n"
      ],
      "execution_count": null,
      "outputs": [
        {
          "output_type": "stream",
          "name": "stdout",
          "text": [
            "proportion of sof sample 1: 0.6204379562043796\n",
            "proportion of sof sample 2: 0.46845794392523366\n",
            "proportion of hwz sample 1: 0.07142857142857142\n",
            "proportion of hwz sample 2: 0.2631578947368421\n",
            "proportion of cna sample 1: 0.9574468085106383\n",
            "proportion of cna sample 2: 0.8260869565217391\n"
          ]
        }
      ]
    },
    {
      "cell_type": "markdown",
      "metadata": {
        "id": "4Ay6jXFTc0ig"
      },
      "source": [
        "As shown above, the proportion of first letter of proper noun being a capital letter in stackoverflow post is 0.468-0.620, that in hardwarezone forum post is 0.071-0.263, while that of ChannelNewsAsia post is 0.826-0.957. This clearly shows that most of the proper nouns in CNA posts are properly capitalised, indicating good grammar in CNA posts as compared to stackoverflow and hardwarezone forum posts, in terms of capitalised proper noun. "
      ]
    },
    {
      "cell_type": "markdown",
      "metadata": {
        "id": "TkZtSv9wBGHn"
      },
      "source": [
        "+ Do sentences follow good grammars"
      ]
    },
    {
      "cell_type": "markdown",
      "metadata": {
        "id": "uiynwMu1PJlq"
      },
      "source": [
        "\n",
        "\n",
        "1.   use a fine-tuned BERT model to check the sentences have good grammar or not "
      ]
    },
    {
      "cell_type": "code",
      "metadata": {
        "id": "AKbeLVfXmar1"
      },
      "source": [
        "#!pip install torch==1.4.0"
      ],
      "execution_count": null,
      "outputs": []
    },
    {
      "cell_type": "code",
      "metadata": {
        "id": "HBGvLAnOUEnx"
      },
      "source": [
        "from transformers import BertForSequenceClassification\n",
        "output_dir = '/content/drive/MyDrive/nlp/bert_model/'"
      ],
      "execution_count": null,
      "outputs": []
    },
    {
      "cell_type": "code",
      "metadata": {
        "id": "IHuHNUIGPPtS",
        "colab": {
          "base_uri": "https://localhost:8080/"
        },
        "outputId": "58faf586-76ad-4950-df07-952e9b0a34ba"
      },
      "source": [
        "from transformers import BertTokenizer\n",
        "import torch\n",
        "# Load the BERT tokenizer.\n",
        "print('Loading BERT tokenizer...')\n",
        "tokenizer = BertTokenizer.from_pretrained(output_dir)\n",
        "model_loaded = BertForSequenceClassification.from_pretrained(output_dir)"
      ],
      "execution_count": null,
      "outputs": [
        {
          "output_type": "stream",
          "name": "stdout",
          "text": [
            "Loading BERT tokenizer...\n"
          ]
        }
      ]
    },
    {
      "cell_type": "code",
      "metadata": {
        "id": "x363P3GSPPvF"
      },
      "source": [
        "#check correct grammar for 1 sentence through inferencing the trained model\n",
        "def inference_model(sent):\n",
        "  encoded_dict = tokenizer.encode_plus(\n",
        "                          sent,                      # Sentence to encode.\n",
        "                          add_special_tokens = True, # Add '[CLS]' and '[SEP]'\n",
        "                          max_length = 64,           # Pad & truncate all sentences.\n",
        "                          pad_to_max_length = True,\n",
        "                          return_attention_mask = True,   # Construct attn. masks.\n",
        "                          return_tensors = 'pt',     # Return pytorch tensors.\n",
        "                    )\n",
        "      \n",
        "      # Add the encoded sentence to the list.    \n",
        "  input_id = encoded_dict['input_ids']\n",
        "      \n",
        "      # And its attention mask (simply differentiates padding from non-padding).\n",
        "  attention_mask = encoded_dict['attention_mask']\n",
        "  input_id = torch.LongTensor(input_id)\n",
        "  attention_mask = torch.LongTensor(attention_mask)\n",
        "  device = torch.device(\"cuda\" if torch.cuda.is_available() else \"cpu\")\n",
        "  model_loaded = BertForSequenceClassification.from_pretrained(output_dir)\n",
        "  model_load = model_loaded.to(device)\n",
        "  input_id = input_id.to(device)\n",
        "  attention_mask = attention_mask.to(device)\n",
        "\n",
        "  with torch.no_grad():\n",
        "    # Forward pass, calculate logit predictions\n",
        "    outputs = model_load(input_id, token_type_ids=None, attention_mask=attention_mask)\n",
        "\n",
        "  logits = outputs[0]\n",
        "  index = logits.argmax()\n",
        "  if index == 1:\n",
        "    return 1\n",
        "  else:\n",
        "    return 0"
      ],
      "execution_count": null,
      "outputs": []
    },
    {
      "cell_type": "code",
      "metadata": {
        "id": "ee015FQfjZp_"
      },
      "source": [
        "#get proportion of grammarly correct sentences in sample\n",
        "def get_proportion(sample):\n",
        "  correct_grammar_list = []\n",
        "  for i in sample:\n",
        "    if inference_model(i):\n",
        "      correct_grammar_list.append(i)\n",
        "  \n",
        "  return len(correct_grammar_list)/len(sample)"
      ],
      "execution_count": null,
      "outputs": []
    },
    {
      "cell_type": "code",
      "metadata": {
        "colab": {
          "base_uri": "https://localhost:8080/"
        },
        "id": "C649H_KzV86H",
        "outputId": "1b084959-25d0-4592-d8fc-f97988378113"
      },
      "source": [
        "print('proportion of sof sample 1:', get_proportion(sof_sample1_sent))\n",
        "print('proportion of sof sample 2:', get_proportion(sof_sample2_sent))\n",
        "print('proportion of hwz sample 1:', get_proportion(hwz_sample1_sent))\n",
        "print('proportion of hwz sample 2:', get_proportion(hwz_sample2_sent))\n",
        "print('proportion of cna sample 1:', get_proportion(cna_sample1_sent))\n",
        "print('proportion of cna sample 2:', get_proportion(cna_sample2_sent))"
      ],
      "execution_count": null,
      "outputs": [
        {
          "output_type": "stream",
          "name": "stderr",
          "text": [
            "Truncation was not explicitly activated but `max_length` is provided a specific value, please use `truncation=True` to explicitly truncate examples to max length. Defaulting to 'longest_first' truncation strategy. If you encode pairs of sequences (GLUE-style) with the tokenizer you can select this strategy more precisely by providing a specific strategy to `truncation`.\n",
            "/usr/local/lib/python3.7/dist-packages/transformers/tokenization_utils_base.py:2022: FutureWarning: The `pad_to_max_length` argument is deprecated and will be removed in a future version, use `padding=True` or `padding='longest'` to pad to the longest sequence in the batch, or use `padding='max_length'` to pad to a max length. In this case, you can give a specific length with `max_length` (e.g. `max_length=45`) or leave max_length to None to pad to the maximal input size of the model (e.g. 512 for Bert).\n",
            "  FutureWarning,\n"
          ]
        },
        {
          "output_type": "stream",
          "name": "stdout",
          "text": [
            "proportion of sof sample 1: 0.8552631578947368\n",
            "proportion of sof sample 2: 0.8651685393258427\n",
            "proportion of hwz sample 1: 0.6\n",
            "proportion of hwz sample 2: 0.5714285714285714\n",
            "proportion of cna sample 1: 1.0\n",
            "proportion of cna sample 2: 1.0\n"
          ]
        }
      ]
    },
    {
      "cell_type": "markdown",
      "metadata": {
        "id": "-qX1nttorSZA"
      },
      "source": [
        "As shown above, the proportion of the grammarly correct sentences in stackoverflow post samples is 0.855-0.865, the proportion in hardwarezone post samples is 0.57-0.60, while the proportion of grammarly correct sentences in ChannelNewsAsia is 1.0. This shows that the posts from CNA are grammarly accurate while the posts from hardwarezone is the most grammarly inaccurate ones, due to the face that people use a lot of slangs when posting on the forum."
      ]
    }
  ]
}